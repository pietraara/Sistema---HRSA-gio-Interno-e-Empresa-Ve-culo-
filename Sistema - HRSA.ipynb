{
 "cells": [
  {
   "cell_type": "code",
   "execution_count": 44,
   "metadata": {},
   "outputs": [],
   "source": [
    "# # ESTE SISTEMA FUNCIONA/TEM COMPATIBILIDADE COM O PYTHON 3.12.2, se não o possuir, instale-o:\n",
    "# # https://www.python.org/ftp/python/3.12.2/python-3.12.2-amd64.exe\n",
    "\n",
    "# # Se a máquina não possuir os pacotes, instale-os\n",
    "# pip install --upgrade pip setuptools distlib tensorflow pandas seaborn geopandas plotly numpy requests unidecode matplotlib statsmodels scipy scikit-learn shap networkx imbalanced-learn streamlit"
   ]
  },
  {
   "cell_type": "code",
   "execution_count": 45,
   "metadata": {},
   "outputs": [],
   "source": [
    "# pip install setuptools"
   ]
  },
  {
   "cell_type": "code",
   "execution_count": 46,
   "metadata": {},
   "outputs": [],
   "source": [
    "# pip install tensorflow"
   ]
  },
  {
   "cell_type": "code",
   "execution_count": 47,
   "metadata": {},
   "outputs": [],
   "source": [
    "# pip install openpyxl"
   ]
  },
  {
   "cell_type": "code",
   "execution_count": 48,
   "metadata": {},
   "outputs": [],
   "source": [
    "# pip install nbformat>=4.2.0"
   ]
  },
  {
   "cell_type": "markdown",
   "metadata": {},
   "source": [
    "# **Sistema - Ágio e Ágio Interno**"
   ]
  },
  {
   "cell_type": "code",
   "execution_count": 91,
   "metadata": {},
   "outputs": [],
   "source": [
    "import pandas as pd\n",
    "import seaborn as sns\n",
    "import re \n",
    "import os\n",
    "import geopandas as gpd\n",
    "from shapely.geometry import Point\n",
    "import plotly.express as px\n",
    "import numpy as np\n",
    "import time\n",
    "import requests\n",
    "import json\n",
    "from unidecode import unidecode\n",
    "import unicodedata\n",
    "import matplotlib.pyplot as plt\n",
    "import statsmodels.api as sm\n",
    "import statsmodels.formula.api as smf\n",
    "from scipy import stats\n",
    "from sklearn.linear_model import LogisticRegression\n",
    "from sklearn.model_selection import train_test_split\n",
    "from sklearn import tree\n",
    "from sklearn.linear_model import LinearRegression\n",
    "from sklearn.metrics import accuracy_score\n",
    "from sklearn.metrics import classification_report\n",
    "from sklearn.metrics import roc_auc_score\n",
    "import shap\n",
    "from sklearn.metrics import mean_squared_error, r2_score\n",
    "from sklearn.model_selection import GridSearchCV\n",
    "from sklearn.ensemble import RandomForestRegressor\n",
    "from sklearn.metrics import mean_absolute_error\n",
    "from sklearn.preprocessing import OneHotEncoder\n",
    "from sklearn.tree import DecisionTreeClassifier\n",
    "from sklearn.tree import plot_tree\n",
    "import plotly.express as px\n",
    "import plotly.graph_objs as go\n",
    "from scipy.stats import ttest_ind, f_oneway\n",
    "from sklearn.cluster import KMeans\n",
    "from sklearn.cluster import DBSCAN\n",
    "import networkx as nx\n",
    "import plotly.graph_objects as go\n",
    "from statsmodels.api import OLS, add_constant\n",
    "from imblearn.over_sampling import SMOTE\n",
    "import scipy.stats as stats\n",
    "from sklearn.impute import SimpleImputer\n",
    "from sklearn.preprocessing import StandardScaler, LabelEncoder\n",
    "import streamlit as st\n",
    "from sklearn.metrics import confusion_matrix, ConfusionMatrixDisplay, roc_curve, auc\n",
    "import tensorflow as tf\n",
    "from tensorflow.keras.models import Model\n",
    "from tensorflow.keras.layers import Input, Dense, Embedding, Flatten, Concatenate, BatchNormalization, Dropout\n",
    "import matplotlib.cm as cm\n",
    "import matplotlib.colors as mcolors\n",
    "from shapely.geometry import Point"
   ]
  },
  {
   "cell_type": "markdown",
   "metadata": {},
   "source": [
    "## **Leitura da Base**"
   ]
  },
  {
   "cell_type": "code",
   "execution_count": 50,
   "metadata": {},
   "outputs": [
    {
     "data": {
      "text/html": [
       "<div>\n",
       "<style scoped>\n",
       "    .dataframe tbody tr th:only-of-type {\n",
       "        vertical-align: middle;\n",
       "    }\n",
       "\n",
       "    .dataframe tbody tr th {\n",
       "        vertical-align: top;\n",
       "    }\n",
       "\n",
       "    .dataframe thead th {\n",
       "        text-align: right;\n",
       "    }\n",
       "</style>\n",
       "<table border=\"1\" class=\"dataframe\">\n",
       "  <thead>\n",
       "    <tr style=\"text-align: right;\">\n",
       "      <th></th>\n",
       "      <th>Contribuinte</th>\n",
       "      <th>Natureza</th>\n",
       "      <th>Número do Processo</th>\n",
       "      <th>1ª Instância</th>\n",
       "      <th>2ª Instância</th>\n",
       "      <th>STF/STJ</th>\n",
       "      <th>Movimentações</th>\n",
       "      <th>Status</th>\n",
       "      <th>Data Liminar/Tutela</th>\n",
       "      <th>Mérito Liminar/Tutela</th>\n",
       "      <th>Sentença</th>\n",
       "      <th>Mérito na Sentença</th>\n",
       "      <th>Acórdão</th>\n",
       "      <th>Mérito no Acórdão</th>\n",
       "      <th>Cidade</th>\n",
       "      <th>Empresa-Veículo</th>\n",
       "    </tr>\n",
       "  </thead>\n",
       "  <tbody>\n",
       "    <tr>\n",
       "      <th>0</th>\n",
       "      <td>Kimberly-Clark</td>\n",
       "      <td>Ação Anulatória</td>\n",
       "      <td>5028418-41.2018.4.03.6100</td>\n",
       "      <td>13ª Vara</td>\n",
       "      <td>TRF3</td>\n",
       "      <td>NaN</td>\n",
       "      <td>30/09/2024 14:36:26 - Conclusos para julgament...</td>\n",
       "      <td>NaN</td>\n",
       "      <td>19.11.2018</td>\n",
       "      <td>Favorável</td>\n",
       "      <td>_</td>\n",
       "      <td>_</td>\n",
       "      <td>_</td>\n",
       "      <td>_</td>\n",
       "      <td>São Paulo - SP</td>\n",
       "      <td>Sim</td>\n",
       "    </tr>\n",
       "    <tr>\n",
       "      <th>1</th>\n",
       "      <td>Aché</td>\n",
       "      <td>Embargos à Execução Fiscal</td>\n",
       "      <td>5009958-51.2018.4.03.6182</td>\n",
       "      <td>5ª Vara de Execuções Fiscais Federal de São Paulo</td>\n",
       "      <td>NaN</td>\n",
       "      <td>NaN</td>\n",
       "      <td>09/08/2024 14:28:19 - Conclusos para julgament...</td>\n",
       "      <td>Despachado</td>\n",
       "      <td>04.06.2020</td>\n",
       "      <td>Desfavorável</td>\n",
       "      <td>21.06.2020</td>\n",
       "      <td>Favorável</td>\n",
       "      <td>13.10.2021</td>\n",
       "      <td>Favorável</td>\n",
       "      <td>São Paulo - SP</td>\n",
       "      <td>Sim</td>\n",
       "    </tr>\n",
       "    <tr>\n",
       "      <th>2</th>\n",
       "      <td>AES Tietê Energia</td>\n",
       "      <td>Ação Anulatória</td>\n",
       "      <td>1000365-27.2018.4.01.3400</td>\n",
       "      <td>6ª Vara SJDF</td>\n",
       "      <td>NaN</td>\n",
       "      <td>NaN</td>\n",
       "      <td>06/11/2024 15:59:39 - Juntada de manifestação\\...</td>\n",
       "      <td>Aguardando prolação de sentença</td>\n",
       "      <td>13.11.2018</td>\n",
       "      <td>Desfavorável</td>\n",
       "      <td>29.10.2018</td>\n",
       "      <td>Favorável</td>\n",
       "      <td>NaN</td>\n",
       "      <td>NaN</td>\n",
       "      <td>Brasília - DF</td>\n",
       "      <td>Sim</td>\n",
       "    </tr>\n",
       "    <tr>\n",
       "      <th>3</th>\n",
       "      <td>Man Latin America</td>\n",
       "      <td>Ação Anulatória</td>\n",
       "      <td>5020207-16.2018.4.03.6100</td>\n",
       "      <td>1ª Vara da JF/SP</td>\n",
       "      <td>3ª Turma</td>\n",
       "      <td>NaN</td>\n",
       "      <td>10/10/2024 11:47:29 - Juntada de Petição de pe...</td>\n",
       "      <td>NaN</td>\n",
       "      <td>14.08.2018</td>\n",
       "      <td>Desfavorável</td>\n",
       "      <td>07.05.2020</td>\n",
       "      <td>Desfavorável</td>\n",
       "      <td>_</td>\n",
       "      <td>_</td>\n",
       "      <td>São Paulo - SP</td>\n",
       "      <td>Sim</td>\n",
       "    </tr>\n",
       "    <tr>\n",
       "      <th>4</th>\n",
       "      <td>PPG Industrial do Brasil</td>\n",
       "      <td>Ação Anulatória com pedido de Tutela Cautelar ...</td>\n",
       "      <td>5003132-80.2017.4.03.6105</td>\n",
       "      <td>5ª Vara  da Subseção Judiciária de Campinas/SP</td>\n",
       "      <td>4ª Turma</td>\n",
       "      <td>NaN</td>\n",
       "      <td>30/01/2023 20:48:09 - Juntada de Petição de pe...</td>\n",
       "      <td>NaN</td>\n",
       "      <td>13.07.2017</td>\n",
       "      <td>Favorável</td>\n",
       "      <td>27.03.2019</td>\n",
       "      <td>Desfavorável</td>\n",
       "      <td>_</td>\n",
       "      <td>_</td>\n",
       "      <td>Campinas - SP</td>\n",
       "      <td>Não</td>\n",
       "    </tr>\n",
       "  </tbody>\n",
       "</table>\n",
       "</div>"
      ],
      "text/plain": [
       "               Contribuinte  \\\n",
       "0            Kimberly-Clark   \n",
       "1                      Aché   \n",
       "2         AES Tietê Energia   \n",
       "3         Man Latin America   \n",
       "4  PPG Industrial do Brasil   \n",
       "\n",
       "                                            Natureza  \\\n",
       "0                                    Ação Anulatória   \n",
       "1                         Embargos à Execução Fiscal   \n",
       "2                                    Ação Anulatória   \n",
       "3                                    Ação Anulatória   \n",
       "4  Ação Anulatória com pedido de Tutela Cautelar ...   \n",
       "\n",
       "          Número do Processo  \\\n",
       "0  5028418-41.2018.4.03.6100   \n",
       "1  5009958-51.2018.4.03.6182   \n",
       "2  1000365-27.2018.4.01.3400   \n",
       "3  5020207-16.2018.4.03.6100   \n",
       "4  5003132-80.2017.4.03.6105   \n",
       "\n",
       "                                        1ª Instância 2ª Instância STF/STJ  \\\n",
       "0                                           13ª Vara         TRF3     NaN   \n",
       "1  5ª Vara de Execuções Fiscais Federal de São Paulo          NaN     NaN   \n",
       "2                                       6ª Vara SJDF          NaN     NaN   \n",
       "3                                   1ª Vara da JF/SP     3ª Turma     NaN   \n",
       "4     5ª Vara  da Subseção Judiciária de Campinas/SP     4ª Turma     NaN   \n",
       "\n",
       "                                       Movimentações  \\\n",
       "0  30/09/2024 14:36:26 - Conclusos para julgament...   \n",
       "1  09/08/2024 14:28:19 - Conclusos para julgament...   \n",
       "2  06/11/2024 15:59:39 - Juntada de manifestação\\...   \n",
       "3  10/10/2024 11:47:29 - Juntada de Petição de pe...   \n",
       "4  30/01/2023 20:48:09 - Juntada de Petição de pe...   \n",
       "\n",
       "                            Status Data Liminar/Tutela Mérito Liminar/Tutela  \\\n",
       "0                              NaN          19.11.2018             Favorável   \n",
       "1                       Despachado          04.06.2020         Desfavorável    \n",
       "2  Aguardando prolação de sentença          13.11.2018         Desfavorável    \n",
       "3                              NaN          14.08.2018          Desfavorável   \n",
       "4                              NaN          13.07.2017             Favorável   \n",
       "\n",
       "     Sentença Mérito na Sentença     Acórdão Mérito no Acórdão  \\\n",
       "0           _                  _           _                 _   \n",
       "1  21.06.2020        Favorável    13.10.2021         Favorável   \n",
       "2  29.10.2018          Favorável         NaN               NaN   \n",
       "3  07.05.2020       Desfavorável           _                 _   \n",
       "4  27.03.2019      Desfavorável            _                 _   \n",
       "\n",
       "           Cidade Empresa-Veículo  \n",
       "0  São Paulo - SP             Sim  \n",
       "1  São Paulo - SP             Sim  \n",
       "2   Brasília - DF             Sim  \n",
       "3  São Paulo - SP             Sim  \n",
       "4   Campinas - SP             Não  "
      ]
     },
     "execution_count": 50,
     "metadata": {},
     "output_type": "execute_result"
    }
   ],
   "source": [
    "# Carregando o arquivo Excel\n",
    "casos = pd.read_excel(\"Casos de interesse.xlsx\", sheet_name = \"Ágio\")\n",
    "\n",
    "# Exibindo as primeiras linhas do arquivo\n",
    "casos.head()"
   ]
  },
  {
   "cell_type": "code",
   "execution_count": 51,
   "metadata": {},
   "outputs": [
    {
     "data": {
      "text/plain": [
       "(46, 16)"
      ]
     },
     "execution_count": 51,
     "metadata": {},
     "output_type": "execute_result"
    }
   ],
   "source": [
    "casos.shape"
   ]
  },
  {
   "cell_type": "code",
   "execution_count": 52,
   "metadata": {},
   "outputs": [
    {
     "name": "stdout",
     "output_type": "stream",
     "text": [
      "<class 'pandas.core.frame.DataFrame'>\n",
      "RangeIndex: 46 entries, 0 to 45\n",
      "Data columns (total 16 columns):\n",
      " #   Column                 Non-Null Count  Dtype \n",
      "---  ------                 --------------  ----- \n",
      " 0   Contribuinte           46 non-null     object\n",
      " 1   Natureza               45 non-null     object\n",
      " 2   Número do Processo     46 non-null     object\n",
      " 3   1ª Instância           37 non-null     object\n",
      " 4   2ª Instância           34 non-null     object\n",
      " 5   STF/STJ                5 non-null      object\n",
      " 6   Movimentações          46 non-null     object\n",
      " 7   Status                 11 non-null     object\n",
      " 8   Data Liminar/Tutela    32 non-null     object\n",
      " 9   Mérito Liminar/Tutela  32 non-null     object\n",
      " 10  Sentença               21 non-null     object\n",
      " 11  Mérito na Sentença     21 non-null     object\n",
      " 12  Acórdão                14 non-null     object\n",
      " 13  Mérito no Acórdão      13 non-null     object\n",
      " 14  Cidade                 39 non-null     object\n",
      " 15  Empresa-Veículo        46 non-null     object\n",
      "dtypes: object(16)\n",
      "memory usage: 5.9+ KB\n"
     ]
    }
   ],
   "source": [
    "casos.info()"
   ]
  },
  {
   "cell_type": "markdown",
   "metadata": {},
   "source": [
    "## **Tratamento da Base**"
   ]
  },
  {
   "cell_type": "markdown",
   "metadata": {},
   "source": [
    "### **Tratamento 1: Transformando Datas em Formato Datetime**"
   ]
  },
  {
   "cell_type": "code",
   "execution_count": 53,
   "metadata": {},
   "outputs": [
    {
     "name": "stderr",
     "output_type": "stream",
     "text": [
      "C:\\Users\\pietra.araujo\\AppData\\Local\\Temp\\ipykernel_13584\\196115201.py:2: UserWarning:\n",
      "\n",
      "Parsing dates in %d.%m.%Y format when dayfirst=False (the default) was specified. Pass `dayfirst=True` or specify a format to silence this warning.\n",
      "\n",
      "C:\\Users\\pietra.araujo\\AppData\\Local\\Temp\\ipykernel_13584\\196115201.py:5: UserWarning:\n",
      "\n",
      "Could not infer format, so each element will be parsed individually, falling back to `dateutil`. To ensure parsing is consistent and as-expected, please specify a format.\n",
      "\n",
      "C:\\Users\\pietra.araujo\\AppData\\Local\\Temp\\ipykernel_13584\\196115201.py:8: UserWarning:\n",
      "\n",
      "Could not infer format, so each element will be parsed individually, falling back to `dateutil`. To ensure parsing is consistent and as-expected, please specify a format.\n",
      "\n"
     ]
    }
   ],
   "source": [
    "# Certifique-se de que a coluna 'Data Liminar/Tutela' está no formato datetime\n",
    "casos['Data Liminar/Tutela'] = pd.to_datetime(casos['Data Liminar/Tutela'], errors = 'coerce')\n",
    "\n",
    "# Certifique-se de que a coluna 'Sentença' está no formato datetime\n",
    "casos['Sentença'] = pd.to_datetime(casos['Sentença'], errors = 'coerce')\n",
    "\n",
    "# Certifique-se de que a coluna 'Acordão' está no formato datetime\n",
    "casos['Acórdão'] = pd.to_datetime(casos['Acórdão'], errors = 'coerce')"
   ]
  },
  {
   "cell_type": "code",
   "execution_count": 54,
   "metadata": {},
   "outputs": [
    {
     "name": "stdout",
     "output_type": "stream",
     "text": [
      "Contribuinte                     object\n",
      "Natureza                         object\n",
      "Número do Processo               object\n",
      "1ª Instância                     object\n",
      "2ª Instância                     object\n",
      "STF/STJ                          object\n",
      "Movimentações                    object\n",
      "Status                           object\n",
      "Data Liminar/Tutela      datetime64[ns]\n",
      "Mérito Liminar/Tutela            object\n",
      "Sentença                 datetime64[ns]\n",
      "Mérito na Sentença               object\n",
      "Acórdão                  datetime64[ns]\n",
      "Mérito no Acórdão                object\n",
      "Cidade                           object\n",
      "Empresa-Veículo                  object\n",
      "dtype: object\n",
      "  Data Liminar/Tutela   Sentença    Acórdão\n",
      "0          2018-11-19        NaT        NaT\n",
      "1          2020-06-04 2020-06-21 2021-10-13\n",
      "2          2018-11-13 2018-10-29        NaT\n",
      "3          2018-08-14 2020-07-05        NaT\n",
      "4          2017-07-13 2019-03-27        NaT\n"
     ]
    }
   ],
   "source": [
    "# Verificando o tipo de dado das colunas\n",
    "print(casos.dtypes)\n",
    "\n",
    "# Exibindo as primeiras linhas para garantir que a conversão ocorreu\n",
    "print(casos[['Data Liminar/Tutela', 'Sentença', 'Acórdão']].head())"
   ]
  },
  {
   "cell_type": "markdown",
   "metadata": {},
   "source": [
    "### **Tratamento 2: Preenchendo os Valores Nulos**"
   ]
  },
  {
   "cell_type": "code",
   "execution_count": 55,
   "metadata": {},
   "outputs": [
    {
     "name": "stderr",
     "output_type": "stream",
     "text": [
      "C:\\Users\\pietra.araujo\\AppData\\Local\\Temp\\ipykernel_13584\\2186750178.py:4: FutureWarning:\n",
      "\n",
      "Setting an item of incompatible dtype is deprecated and will raise an error in a future version of pandas. Value 'Vazio' has dtype incompatible with datetime64[ns], please explicitly cast to a compatible dtype first.\n",
      "\n"
     ]
    },
    {
     "data": {
      "text/html": [
       "<div>\n",
       "<style scoped>\n",
       "    .dataframe tbody tr th:only-of-type {\n",
       "        vertical-align: middle;\n",
       "    }\n",
       "\n",
       "    .dataframe tbody tr th {\n",
       "        vertical-align: top;\n",
       "    }\n",
       "\n",
       "    .dataframe thead th {\n",
       "        text-align: right;\n",
       "    }\n",
       "</style>\n",
       "<table border=\"1\" class=\"dataframe\">\n",
       "  <thead>\n",
       "    <tr style=\"text-align: right;\">\n",
       "      <th></th>\n",
       "      <th>Contribuinte</th>\n",
       "      <th>Natureza</th>\n",
       "      <th>Número do Processo</th>\n",
       "      <th>1ª Instância</th>\n",
       "      <th>2ª Instância</th>\n",
       "      <th>STF/STJ</th>\n",
       "      <th>Movimentações</th>\n",
       "      <th>Status</th>\n",
       "      <th>Data Liminar/Tutela</th>\n",
       "      <th>Mérito Liminar/Tutela</th>\n",
       "      <th>Sentença</th>\n",
       "      <th>Mérito na Sentença</th>\n",
       "      <th>Acórdão</th>\n",
       "      <th>Mérito no Acórdão</th>\n",
       "      <th>Cidade</th>\n",
       "      <th>Empresa-Veículo</th>\n",
       "    </tr>\n",
       "  </thead>\n",
       "  <tbody>\n",
       "    <tr>\n",
       "      <th>0</th>\n",
       "      <td>Kimberly-Clark</td>\n",
       "      <td>Ação Anulatória</td>\n",
       "      <td>5028418-41.2018.4.03.6100</td>\n",
       "      <td>13ª Vara</td>\n",
       "      <td>TRF3</td>\n",
       "      <td>Vazio</td>\n",
       "      <td>30/09/2024 14:36:26 - Conclusos para julgament...</td>\n",
       "      <td>Vazio</td>\n",
       "      <td>2018-11-19 00:00:00</td>\n",
       "      <td>Favorável</td>\n",
       "      <td>Vazio</td>\n",
       "      <td>Vazio</td>\n",
       "      <td>Vazio</td>\n",
       "      <td>Vazio</td>\n",
       "      <td>São Paulo - SP</td>\n",
       "      <td>Sim</td>\n",
       "    </tr>\n",
       "    <tr>\n",
       "      <th>1</th>\n",
       "      <td>Aché</td>\n",
       "      <td>Embargos à Execução Fiscal</td>\n",
       "      <td>5009958-51.2018.4.03.6182</td>\n",
       "      <td>5ª Vara de Execuções Fiscais Federal de São Paulo</td>\n",
       "      <td>Vazio</td>\n",
       "      <td>Vazio</td>\n",
       "      <td>09/08/2024 14:28:19 - Conclusos para julgament...</td>\n",
       "      <td>Despachado</td>\n",
       "      <td>2020-06-04 00:00:00</td>\n",
       "      <td>Desfavorável</td>\n",
       "      <td>2020-06-21 00:00:00</td>\n",
       "      <td>Favorável</td>\n",
       "      <td>2021-10-13 00:00:00</td>\n",
       "      <td>Favorável</td>\n",
       "      <td>São Paulo - SP</td>\n",
       "      <td>Sim</td>\n",
       "    </tr>\n",
       "    <tr>\n",
       "      <th>2</th>\n",
       "      <td>AES Tietê Energia</td>\n",
       "      <td>Ação Anulatória</td>\n",
       "      <td>1000365-27.2018.4.01.3400</td>\n",
       "      <td>6ª Vara SJDF</td>\n",
       "      <td>Vazio</td>\n",
       "      <td>Vazio</td>\n",
       "      <td>06/11/2024 15:59:39 - Juntada de manifestação\\...</td>\n",
       "      <td>Aguardando prolação de sentença</td>\n",
       "      <td>2018-11-13 00:00:00</td>\n",
       "      <td>Desfavorável</td>\n",
       "      <td>2018-10-29 00:00:00</td>\n",
       "      <td>Favorável</td>\n",
       "      <td>Vazio</td>\n",
       "      <td>Vazio</td>\n",
       "      <td>Brasília - DF</td>\n",
       "      <td>Sim</td>\n",
       "    </tr>\n",
       "    <tr>\n",
       "      <th>3</th>\n",
       "      <td>Man Latin America</td>\n",
       "      <td>Ação Anulatória</td>\n",
       "      <td>5020207-16.2018.4.03.6100</td>\n",
       "      <td>1ª Vara da JF/SP</td>\n",
       "      <td>3ª Turma</td>\n",
       "      <td>Vazio</td>\n",
       "      <td>10/10/2024 11:47:29 - Juntada de Petição de pe...</td>\n",
       "      <td>Vazio</td>\n",
       "      <td>2018-08-14 00:00:00</td>\n",
       "      <td>Desfavorável</td>\n",
       "      <td>2020-07-05 00:00:00</td>\n",
       "      <td>Desfavorável</td>\n",
       "      <td>Vazio</td>\n",
       "      <td>Vazio</td>\n",
       "      <td>São Paulo - SP</td>\n",
       "      <td>Sim</td>\n",
       "    </tr>\n",
       "    <tr>\n",
       "      <th>4</th>\n",
       "      <td>PPG Industrial do Brasil</td>\n",
       "      <td>Ação Anulatória com pedido de Tutela Cautelar ...</td>\n",
       "      <td>5003132-80.2017.4.03.6105</td>\n",
       "      <td>5ª Vara  da Subseção Judiciária de Campinas/SP</td>\n",
       "      <td>4ª Turma</td>\n",
       "      <td>Vazio</td>\n",
       "      <td>30/01/2023 20:48:09 - Juntada de Petição de pe...</td>\n",
       "      <td>Vazio</td>\n",
       "      <td>2017-07-13 00:00:00</td>\n",
       "      <td>Favorável</td>\n",
       "      <td>2019-03-27 00:00:00</td>\n",
       "      <td>Desfavorável</td>\n",
       "      <td>Vazio</td>\n",
       "      <td>Vazio</td>\n",
       "      <td>Campinas - SP</td>\n",
       "      <td>Não</td>\n",
       "    </tr>\n",
       "  </tbody>\n",
       "</table>\n",
       "</div>"
      ],
      "text/plain": [
       "               Contribuinte  \\\n",
       "0            Kimberly-Clark   \n",
       "1                      Aché   \n",
       "2         AES Tietê Energia   \n",
       "3         Man Latin America   \n",
       "4  PPG Industrial do Brasil   \n",
       "\n",
       "                                            Natureza  \\\n",
       "0                                    Ação Anulatória   \n",
       "1                         Embargos à Execução Fiscal   \n",
       "2                                    Ação Anulatória   \n",
       "3                                    Ação Anulatória   \n",
       "4  Ação Anulatória com pedido de Tutela Cautelar ...   \n",
       "\n",
       "          Número do Processo  \\\n",
       "0  5028418-41.2018.4.03.6100   \n",
       "1  5009958-51.2018.4.03.6182   \n",
       "2  1000365-27.2018.4.01.3400   \n",
       "3  5020207-16.2018.4.03.6100   \n",
       "4  5003132-80.2017.4.03.6105   \n",
       "\n",
       "                                        1ª Instância 2ª Instância STF/STJ  \\\n",
       "0                                           13ª Vara         TRF3   Vazio   \n",
       "1  5ª Vara de Execuções Fiscais Federal de São Paulo        Vazio   Vazio   \n",
       "2                                       6ª Vara SJDF        Vazio   Vazio   \n",
       "3                                   1ª Vara da JF/SP     3ª Turma   Vazio   \n",
       "4     5ª Vara  da Subseção Judiciária de Campinas/SP     4ª Turma   Vazio   \n",
       "\n",
       "                                       Movimentações  \\\n",
       "0  30/09/2024 14:36:26 - Conclusos para julgament...   \n",
       "1  09/08/2024 14:28:19 - Conclusos para julgament...   \n",
       "2  06/11/2024 15:59:39 - Juntada de manifestação\\...   \n",
       "3  10/10/2024 11:47:29 - Juntada de Petição de pe...   \n",
       "4  30/01/2023 20:48:09 - Juntada de Petição de pe...   \n",
       "\n",
       "                            Status  Data Liminar/Tutela Mérito Liminar/Tutela  \\\n",
       "0                            Vazio  2018-11-19 00:00:00             Favorável   \n",
       "1                       Despachado  2020-06-04 00:00:00         Desfavorável    \n",
       "2  Aguardando prolação de sentença  2018-11-13 00:00:00         Desfavorável    \n",
       "3                            Vazio  2018-08-14 00:00:00          Desfavorável   \n",
       "4                            Vazio  2017-07-13 00:00:00             Favorável   \n",
       "\n",
       "              Sentença Mérito na Sentença              Acórdão  \\\n",
       "0                Vazio              Vazio                Vazio   \n",
       "1  2020-06-21 00:00:00        Favorável    2021-10-13 00:00:00   \n",
       "2  2018-10-29 00:00:00          Favorável                Vazio   \n",
       "3  2020-07-05 00:00:00       Desfavorável                Vazio   \n",
       "4  2019-03-27 00:00:00      Desfavorável                 Vazio   \n",
       "\n",
       "  Mérito no Acórdão          Cidade Empresa-Veículo  \n",
       "0             Vazio  São Paulo - SP             Sim  \n",
       "1         Favorável  São Paulo - SP             Sim  \n",
       "2             Vazio   Brasília - DF             Sim  \n",
       "3             Vazio  São Paulo - SP             Sim  \n",
       "4             Vazio   Campinas - SP             Não  "
      ]
     },
     "execution_count": 55,
     "metadata": {},
     "output_type": "execute_result"
    }
   ],
   "source": [
    "# Preencher os valores vazios/nulos por \"Vazio\"\n",
    "valores_inconsistentes = [\"_\", \"N/A\", None, np.nan]\n",
    "casos.replace(valores_inconsistentes, np.nan, inplace=True)\n",
    "casos.fillna(\"Vazio\", inplace=True)\n",
    "casos.head()"
   ]
  },
  {
   "cell_type": "markdown",
   "metadata": {},
   "source": [
    "### **Tratamento 3: Ajustando \"Número do Processo\"**"
   ]
  },
  {
   "cell_type": "code",
   "execution_count": 56,
   "metadata": {},
   "outputs": [
    {
     "data": {
      "text/html": [
       "<div>\n",
       "<style scoped>\n",
       "    .dataframe tbody tr th:only-of-type {\n",
       "        vertical-align: middle;\n",
       "    }\n",
       "\n",
       "    .dataframe tbody tr th {\n",
       "        vertical-align: top;\n",
       "    }\n",
       "\n",
       "    .dataframe thead th {\n",
       "        text-align: right;\n",
       "    }\n",
       "</style>\n",
       "<table border=\"1\" class=\"dataframe\">\n",
       "  <thead>\n",
       "    <tr style=\"text-align: right;\">\n",
       "      <th></th>\n",
       "      <th>Contribuinte</th>\n",
       "      <th>Natureza</th>\n",
       "      <th>Número do Processo</th>\n",
       "      <th>1ª Instância</th>\n",
       "      <th>2ª Instância</th>\n",
       "      <th>STF/STJ</th>\n",
       "      <th>Movimentações</th>\n",
       "      <th>Status</th>\n",
       "      <th>Data Liminar/Tutela</th>\n",
       "      <th>Mérito Liminar/Tutela</th>\n",
       "      <th>Sentença</th>\n",
       "      <th>Mérito na Sentença</th>\n",
       "      <th>Acórdão</th>\n",
       "      <th>Mérito no Acórdão</th>\n",
       "      <th>Cidade</th>\n",
       "      <th>Empresa-Veículo</th>\n",
       "    </tr>\n",
       "  </thead>\n",
       "  <tbody>\n",
       "    <tr>\n",
       "      <th>0</th>\n",
       "      <td>Kimberly-Clark</td>\n",
       "      <td>Ação Anulatória</td>\n",
       "      <td>50284184120184036100</td>\n",
       "      <td>13ª Vara</td>\n",
       "      <td>TRF3</td>\n",
       "      <td>Vazio</td>\n",
       "      <td>30/09/2024 14:36:26 - Conclusos para julgament...</td>\n",
       "      <td>Vazio</td>\n",
       "      <td>2018-11-19 00:00:00</td>\n",
       "      <td>Favorável</td>\n",
       "      <td>Vazio</td>\n",
       "      <td>Vazio</td>\n",
       "      <td>Vazio</td>\n",
       "      <td>Vazio</td>\n",
       "      <td>São Paulo - SP</td>\n",
       "      <td>Sim</td>\n",
       "    </tr>\n",
       "    <tr>\n",
       "      <th>1</th>\n",
       "      <td>Aché</td>\n",
       "      <td>Embargos à Execução Fiscal</td>\n",
       "      <td>50099585120184036182</td>\n",
       "      <td>5ª Vara de Execuções Fiscais Federal de São Paulo</td>\n",
       "      <td>Vazio</td>\n",
       "      <td>Vazio</td>\n",
       "      <td>09/08/2024 14:28:19 - Conclusos para julgament...</td>\n",
       "      <td>Despachado</td>\n",
       "      <td>2020-06-04 00:00:00</td>\n",
       "      <td>Desfavorável</td>\n",
       "      <td>2020-06-21 00:00:00</td>\n",
       "      <td>Favorável</td>\n",
       "      <td>2021-10-13 00:00:00</td>\n",
       "      <td>Favorável</td>\n",
       "      <td>São Paulo - SP</td>\n",
       "      <td>Sim</td>\n",
       "    </tr>\n",
       "    <tr>\n",
       "      <th>2</th>\n",
       "      <td>AES Tietê Energia</td>\n",
       "      <td>Ação Anulatória</td>\n",
       "      <td>10003652720184013400</td>\n",
       "      <td>6ª Vara SJDF</td>\n",
       "      <td>Vazio</td>\n",
       "      <td>Vazio</td>\n",
       "      <td>06/11/2024 15:59:39 - Juntada de manifestação\\...</td>\n",
       "      <td>Aguardando prolação de sentença</td>\n",
       "      <td>2018-11-13 00:00:00</td>\n",
       "      <td>Desfavorável</td>\n",
       "      <td>2018-10-29 00:00:00</td>\n",
       "      <td>Favorável</td>\n",
       "      <td>Vazio</td>\n",
       "      <td>Vazio</td>\n",
       "      <td>Brasília - DF</td>\n",
       "      <td>Sim</td>\n",
       "    </tr>\n",
       "    <tr>\n",
       "      <th>3</th>\n",
       "      <td>Man Latin America</td>\n",
       "      <td>Ação Anulatória</td>\n",
       "      <td>50202071620184036100</td>\n",
       "      <td>1ª Vara da JF/SP</td>\n",
       "      <td>3ª Turma</td>\n",
       "      <td>Vazio</td>\n",
       "      <td>10/10/2024 11:47:29 - Juntada de Petição de pe...</td>\n",
       "      <td>Vazio</td>\n",
       "      <td>2018-08-14 00:00:00</td>\n",
       "      <td>Desfavorável</td>\n",
       "      <td>2020-07-05 00:00:00</td>\n",
       "      <td>Desfavorável</td>\n",
       "      <td>Vazio</td>\n",
       "      <td>Vazio</td>\n",
       "      <td>São Paulo - SP</td>\n",
       "      <td>Sim</td>\n",
       "    </tr>\n",
       "    <tr>\n",
       "      <th>4</th>\n",
       "      <td>PPG Industrial do Brasil</td>\n",
       "      <td>Ação Anulatória com pedido de Tutela Cautelar ...</td>\n",
       "      <td>50031328020174036105</td>\n",
       "      <td>5ª Vara  da Subseção Judiciária de Campinas/SP</td>\n",
       "      <td>4ª Turma</td>\n",
       "      <td>Vazio</td>\n",
       "      <td>30/01/2023 20:48:09 - Juntada de Petição de pe...</td>\n",
       "      <td>Vazio</td>\n",
       "      <td>2017-07-13 00:00:00</td>\n",
       "      <td>Favorável</td>\n",
       "      <td>2019-03-27 00:00:00</td>\n",
       "      <td>Desfavorável</td>\n",
       "      <td>Vazio</td>\n",
       "      <td>Vazio</td>\n",
       "      <td>Campinas - SP</td>\n",
       "      <td>Não</td>\n",
       "    </tr>\n",
       "  </tbody>\n",
       "</table>\n",
       "</div>"
      ],
      "text/plain": [
       "               Contribuinte  \\\n",
       "0            Kimberly-Clark   \n",
       "1                      Aché   \n",
       "2         AES Tietê Energia   \n",
       "3         Man Latin America   \n",
       "4  PPG Industrial do Brasil   \n",
       "\n",
       "                                            Natureza    Número do Processo  \\\n",
       "0                                    Ação Anulatória  50284184120184036100   \n",
       "1                         Embargos à Execução Fiscal  50099585120184036182   \n",
       "2                                    Ação Anulatória  10003652720184013400   \n",
       "3                                    Ação Anulatória  50202071620184036100   \n",
       "4  Ação Anulatória com pedido de Tutela Cautelar ...  50031328020174036105   \n",
       "\n",
       "                                        1ª Instância 2ª Instância STF/STJ  \\\n",
       "0                                           13ª Vara         TRF3   Vazio   \n",
       "1  5ª Vara de Execuções Fiscais Federal de São Paulo        Vazio   Vazio   \n",
       "2                                       6ª Vara SJDF        Vazio   Vazio   \n",
       "3                                   1ª Vara da JF/SP     3ª Turma   Vazio   \n",
       "4     5ª Vara  da Subseção Judiciária de Campinas/SP     4ª Turma   Vazio   \n",
       "\n",
       "                                       Movimentações  \\\n",
       "0  30/09/2024 14:36:26 - Conclusos para julgament...   \n",
       "1  09/08/2024 14:28:19 - Conclusos para julgament...   \n",
       "2  06/11/2024 15:59:39 - Juntada de manifestação\\...   \n",
       "3  10/10/2024 11:47:29 - Juntada de Petição de pe...   \n",
       "4  30/01/2023 20:48:09 - Juntada de Petição de pe...   \n",
       "\n",
       "                            Status  Data Liminar/Tutela Mérito Liminar/Tutela  \\\n",
       "0                            Vazio  2018-11-19 00:00:00             Favorável   \n",
       "1                       Despachado  2020-06-04 00:00:00         Desfavorável    \n",
       "2  Aguardando prolação de sentença  2018-11-13 00:00:00         Desfavorável    \n",
       "3                            Vazio  2018-08-14 00:00:00          Desfavorável   \n",
       "4                            Vazio  2017-07-13 00:00:00             Favorável   \n",
       "\n",
       "              Sentença Mérito na Sentença              Acórdão  \\\n",
       "0                Vazio              Vazio                Vazio   \n",
       "1  2020-06-21 00:00:00        Favorável    2021-10-13 00:00:00   \n",
       "2  2018-10-29 00:00:00          Favorável                Vazio   \n",
       "3  2020-07-05 00:00:00       Desfavorável                Vazio   \n",
       "4  2019-03-27 00:00:00      Desfavorável                 Vazio   \n",
       "\n",
       "  Mérito no Acórdão          Cidade Empresa-Veículo  \n",
       "0             Vazio  São Paulo - SP             Sim  \n",
       "1         Favorável  São Paulo - SP             Sim  \n",
       "2             Vazio   Brasília - DF             Sim  \n",
       "3             Vazio  São Paulo - SP             Sim  \n",
       "4             Vazio   Campinas - SP             Não  "
      ]
     },
     "execution_count": 56,
     "metadata": {},
     "output_type": "execute_result"
    }
   ],
   "source": [
    "# Remove pontos e traços da coluna 'Número do Processo'\n",
    "casos['Número do Processo'] = casos['Número do Processo'].str.replace(r'[.-]', '', regex = True)\n",
    "casos.head()"
   ]
  },
  {
   "cell_type": "markdown",
   "metadata": {},
   "source": [
    "### **Tratamento 4: Ajustando \"Cidade\"**"
   ]
  },
  {
   "cell_type": "code",
   "execution_count": 57,
   "metadata": {},
   "outputs": [
    {
     "data": {
      "text/html": [
       "<div>\n",
       "<style scoped>\n",
       "    .dataframe tbody tr th:only-of-type {\n",
       "        vertical-align: middle;\n",
       "    }\n",
       "\n",
       "    .dataframe tbody tr th {\n",
       "        vertical-align: top;\n",
       "    }\n",
       "\n",
       "    .dataframe thead th {\n",
       "        text-align: right;\n",
       "    }\n",
       "</style>\n",
       "<table border=\"1\" class=\"dataframe\">\n",
       "  <thead>\n",
       "    <tr style=\"text-align: right;\">\n",
       "      <th></th>\n",
       "      <th>Contribuinte</th>\n",
       "      <th>Natureza</th>\n",
       "      <th>Número do Processo</th>\n",
       "      <th>1ª Instância</th>\n",
       "      <th>2ª Instância</th>\n",
       "      <th>STF/STJ</th>\n",
       "      <th>Movimentações</th>\n",
       "      <th>Status</th>\n",
       "      <th>Data Liminar/Tutela</th>\n",
       "      <th>Mérito Liminar/Tutela</th>\n",
       "      <th>Sentença</th>\n",
       "      <th>Mérito na Sentença</th>\n",
       "      <th>Acórdão</th>\n",
       "      <th>Mérito no Acórdão</th>\n",
       "      <th>Cidade</th>\n",
       "      <th>Empresa-Veículo</th>\n",
       "      <th>comarca</th>\n",
       "    </tr>\n",
       "  </thead>\n",
       "  <tbody>\n",
       "    <tr>\n",
       "      <th>0</th>\n",
       "      <td>Kimberly-Clark</td>\n",
       "      <td>Ação Anulatória</td>\n",
       "      <td>50284184120184036100</td>\n",
       "      <td>13ª Vara</td>\n",
       "      <td>TRF3</td>\n",
       "      <td>Vazio</td>\n",
       "      <td>30/09/2024 14:36:26 - Conclusos para julgament...</td>\n",
       "      <td>Vazio</td>\n",
       "      <td>2018-11-19 00:00:00</td>\n",
       "      <td>Favorável</td>\n",
       "      <td>Vazio</td>\n",
       "      <td>Vazio</td>\n",
       "      <td>Vazio</td>\n",
       "      <td>Vazio</td>\n",
       "      <td>São Paulo - SP</td>\n",
       "      <td>Sim</td>\n",
       "      <td>São Paulo</td>\n",
       "    </tr>\n",
       "    <tr>\n",
       "      <th>1</th>\n",
       "      <td>Aché</td>\n",
       "      <td>Embargos à Execução Fiscal</td>\n",
       "      <td>50099585120184036182</td>\n",
       "      <td>5ª Vara de Execuções Fiscais Federal de São Paulo</td>\n",
       "      <td>Vazio</td>\n",
       "      <td>Vazio</td>\n",
       "      <td>09/08/2024 14:28:19 - Conclusos para julgament...</td>\n",
       "      <td>Despachado</td>\n",
       "      <td>2020-06-04 00:00:00</td>\n",
       "      <td>Desfavorável</td>\n",
       "      <td>2020-06-21 00:00:00</td>\n",
       "      <td>Favorável</td>\n",
       "      <td>2021-10-13 00:00:00</td>\n",
       "      <td>Favorável</td>\n",
       "      <td>São Paulo - SP</td>\n",
       "      <td>Sim</td>\n",
       "      <td>São Paulo</td>\n",
       "    </tr>\n",
       "    <tr>\n",
       "      <th>2</th>\n",
       "      <td>AES Tietê Energia</td>\n",
       "      <td>Ação Anulatória</td>\n",
       "      <td>10003652720184013400</td>\n",
       "      <td>6ª Vara SJDF</td>\n",
       "      <td>Vazio</td>\n",
       "      <td>Vazio</td>\n",
       "      <td>06/11/2024 15:59:39 - Juntada de manifestação\\...</td>\n",
       "      <td>Aguardando prolação de sentença</td>\n",
       "      <td>2018-11-13 00:00:00</td>\n",
       "      <td>Desfavorável</td>\n",
       "      <td>2018-10-29 00:00:00</td>\n",
       "      <td>Favorável</td>\n",
       "      <td>Vazio</td>\n",
       "      <td>Vazio</td>\n",
       "      <td>Brasília - DF</td>\n",
       "      <td>Sim</td>\n",
       "      <td>Brasília</td>\n",
       "    </tr>\n",
       "    <tr>\n",
       "      <th>3</th>\n",
       "      <td>Man Latin America</td>\n",
       "      <td>Ação Anulatória</td>\n",
       "      <td>50202071620184036100</td>\n",
       "      <td>1ª Vara da JF/SP</td>\n",
       "      <td>3ª Turma</td>\n",
       "      <td>Vazio</td>\n",
       "      <td>10/10/2024 11:47:29 - Juntada de Petição de pe...</td>\n",
       "      <td>Vazio</td>\n",
       "      <td>2018-08-14 00:00:00</td>\n",
       "      <td>Desfavorável</td>\n",
       "      <td>2020-07-05 00:00:00</td>\n",
       "      <td>Desfavorável</td>\n",
       "      <td>Vazio</td>\n",
       "      <td>Vazio</td>\n",
       "      <td>São Paulo - SP</td>\n",
       "      <td>Sim</td>\n",
       "      <td>São Paulo</td>\n",
       "    </tr>\n",
       "    <tr>\n",
       "      <th>4</th>\n",
       "      <td>PPG Industrial do Brasil</td>\n",
       "      <td>Ação Anulatória com pedido de Tutela Cautelar ...</td>\n",
       "      <td>50031328020174036105</td>\n",
       "      <td>5ª Vara  da Subseção Judiciária de Campinas/SP</td>\n",
       "      <td>4ª Turma</td>\n",
       "      <td>Vazio</td>\n",
       "      <td>30/01/2023 20:48:09 - Juntada de Petição de pe...</td>\n",
       "      <td>Vazio</td>\n",
       "      <td>2017-07-13 00:00:00</td>\n",
       "      <td>Favorável</td>\n",
       "      <td>2019-03-27 00:00:00</td>\n",
       "      <td>Desfavorável</td>\n",
       "      <td>Vazio</td>\n",
       "      <td>Vazio</td>\n",
       "      <td>Campinas - SP</td>\n",
       "      <td>Não</td>\n",
       "      <td>Campinas</td>\n",
       "    </tr>\n",
       "  </tbody>\n",
       "</table>\n",
       "</div>"
      ],
      "text/plain": [
       "               Contribuinte  \\\n",
       "0            Kimberly-Clark   \n",
       "1                      Aché   \n",
       "2         AES Tietê Energia   \n",
       "3         Man Latin America   \n",
       "4  PPG Industrial do Brasil   \n",
       "\n",
       "                                            Natureza    Número do Processo  \\\n",
       "0                                    Ação Anulatória  50284184120184036100   \n",
       "1                         Embargos à Execução Fiscal  50099585120184036182   \n",
       "2                                    Ação Anulatória  10003652720184013400   \n",
       "3                                    Ação Anulatória  50202071620184036100   \n",
       "4  Ação Anulatória com pedido de Tutela Cautelar ...  50031328020174036105   \n",
       "\n",
       "                                        1ª Instância 2ª Instância STF/STJ  \\\n",
       "0                                           13ª Vara         TRF3   Vazio   \n",
       "1  5ª Vara de Execuções Fiscais Federal de São Paulo        Vazio   Vazio   \n",
       "2                                       6ª Vara SJDF        Vazio   Vazio   \n",
       "3                                   1ª Vara da JF/SP     3ª Turma   Vazio   \n",
       "4     5ª Vara  da Subseção Judiciária de Campinas/SP     4ª Turma   Vazio   \n",
       "\n",
       "                                       Movimentações  \\\n",
       "0  30/09/2024 14:36:26 - Conclusos para julgament...   \n",
       "1  09/08/2024 14:28:19 - Conclusos para julgament...   \n",
       "2  06/11/2024 15:59:39 - Juntada de manifestação\\...   \n",
       "3  10/10/2024 11:47:29 - Juntada de Petição de pe...   \n",
       "4  30/01/2023 20:48:09 - Juntada de Petição de pe...   \n",
       "\n",
       "                            Status  Data Liminar/Tutela Mérito Liminar/Tutela  \\\n",
       "0                            Vazio  2018-11-19 00:00:00             Favorável   \n",
       "1                       Despachado  2020-06-04 00:00:00         Desfavorável    \n",
       "2  Aguardando prolação de sentença  2018-11-13 00:00:00         Desfavorável    \n",
       "3                            Vazio  2018-08-14 00:00:00          Desfavorável   \n",
       "4                            Vazio  2017-07-13 00:00:00             Favorável   \n",
       "\n",
       "              Sentença Mérito na Sentença              Acórdão  \\\n",
       "0                Vazio              Vazio                Vazio   \n",
       "1  2020-06-21 00:00:00        Favorável    2021-10-13 00:00:00   \n",
       "2  2018-10-29 00:00:00          Favorável                Vazio   \n",
       "3  2020-07-05 00:00:00       Desfavorável                Vazio   \n",
       "4  2019-03-27 00:00:00      Desfavorável                 Vazio   \n",
       "\n",
       "  Mérito no Acórdão          Cidade Empresa-Veículo    comarca  \n",
       "0             Vazio  São Paulo - SP             Sim  São Paulo  \n",
       "1         Favorável  São Paulo - SP             Sim  São Paulo  \n",
       "2             Vazio   Brasília - DF             Sim   Brasília  \n",
       "3             Vazio  São Paulo - SP             Sim  São Paulo  \n",
       "4             Vazio   Campinas - SP             Não   Campinas  "
      ]
     },
     "execution_count": 57,
     "metadata": {},
     "output_type": "execute_result"
    }
   ],
   "source": [
    "# Usar regex para remover o hífen e a sigla do Estado\n",
    "casos['comarca'] = casos['Cidade'].str.replace(r' - \\w{2}$', '', regex = True)\n",
    "casos.head()"
   ]
  },
  {
   "cell_type": "markdown",
   "metadata": {},
   "source": [
    "## **Feature Engineering: Obtendo a duração dos processos**"
   ]
  },
  {
   "cell_type": "code",
   "execution_count": 58,
   "metadata": {},
   "outputs": [
    {
     "name": "stdout",
     "output_type": "stream",
     "text": [
      "Data Liminar/Tutela    datetime64[ns]\n",
      "data_presumida         datetime64[ns]\n",
      "dtype: object\n"
     ]
    },
    {
     "data": {
      "text/html": [
       "<div>\n",
       "<style scoped>\n",
       "    .dataframe tbody tr th:only-of-type {\n",
       "        vertical-align: middle;\n",
       "    }\n",
       "\n",
       "    .dataframe tbody tr th {\n",
       "        vertical-align: top;\n",
       "    }\n",
       "\n",
       "    .dataframe thead th {\n",
       "        text-align: right;\n",
       "    }\n",
       "</style>\n",
       "<table border=\"1\" class=\"dataframe\">\n",
       "  <thead>\n",
       "    <tr style=\"text-align: right;\">\n",
       "      <th></th>\n",
       "      <th>Contribuinte</th>\n",
       "      <th>Natureza</th>\n",
       "      <th>Número do Processo</th>\n",
       "      <th>1ª Instância</th>\n",
       "      <th>2ª Instância</th>\n",
       "      <th>STF/STJ</th>\n",
       "      <th>Movimentações</th>\n",
       "      <th>Status</th>\n",
       "      <th>Data Liminar/Tutela</th>\n",
       "      <th>Mérito Liminar/Tutela</th>\n",
       "      <th>Sentença</th>\n",
       "      <th>Mérito na Sentença</th>\n",
       "      <th>Acórdão</th>\n",
       "      <th>Mérito no Acórdão</th>\n",
       "      <th>Cidade</th>\n",
       "      <th>Empresa-Veículo</th>\n",
       "      <th>comarca</th>\n",
       "      <th>ano_processo</th>\n",
       "      <th>data_presumida</th>\n",
       "      <th>tempo_meses</th>\n",
       "    </tr>\n",
       "  </thead>\n",
       "  <tbody>\n",
       "    <tr>\n",
       "      <th>0</th>\n",
       "      <td>Kimberly-Clark</td>\n",
       "      <td>Ação Anulatória</td>\n",
       "      <td>50284184120184036100</td>\n",
       "      <td>13ª Vara</td>\n",
       "      <td>TRF3</td>\n",
       "      <td>Vazio</td>\n",
       "      <td>30/09/2024 14:36:26 - Conclusos para julgament...</td>\n",
       "      <td>Vazio</td>\n",
       "      <td>2018-11-19</td>\n",
       "      <td>Favorável</td>\n",
       "      <td>Vazio</td>\n",
       "      <td>Vazio</td>\n",
       "      <td>Vazio</td>\n",
       "      <td>Vazio</td>\n",
       "      <td>São Paulo - SP</td>\n",
       "      <td>Sim</td>\n",
       "      <td>São Paulo</td>\n",
       "      <td>2018</td>\n",
       "      <td>2018-01-01</td>\n",
       "      <td>10.578187</td>\n",
       "    </tr>\n",
       "    <tr>\n",
       "      <th>1</th>\n",
       "      <td>Aché</td>\n",
       "      <td>Embargos à Execução Fiscal</td>\n",
       "      <td>50099585120184036182</td>\n",
       "      <td>5ª Vara de Execuções Fiscais Federal de São Paulo</td>\n",
       "      <td>Vazio</td>\n",
       "      <td>Vazio</td>\n",
       "      <td>09/08/2024 14:28:19 - Conclusos para julgament...</td>\n",
       "      <td>Despachado</td>\n",
       "      <td>2020-06-04</td>\n",
       "      <td>Desfavorável</td>\n",
       "      <td>2020-06-21 00:00:00</td>\n",
       "      <td>Favorável</td>\n",
       "      <td>2021-10-13 00:00:00</td>\n",
       "      <td>Favorável</td>\n",
       "      <td>São Paulo - SP</td>\n",
       "      <td>Sim</td>\n",
       "      <td>São Paulo</td>\n",
       "      <td>2018</td>\n",
       "      <td>2018-01-01</td>\n",
       "      <td>29.073587</td>\n",
       "    </tr>\n",
       "    <tr>\n",
       "      <th>2</th>\n",
       "      <td>AES Tietê Energia</td>\n",
       "      <td>Ação Anulatória</td>\n",
       "      <td>10003652720184013400</td>\n",
       "      <td>6ª Vara SJDF</td>\n",
       "      <td>Vazio</td>\n",
       "      <td>Vazio</td>\n",
       "      <td>06/11/2024 15:59:39 - Juntada de manifestação\\...</td>\n",
       "      <td>Aguardando prolação de sentença</td>\n",
       "      <td>2018-11-13</td>\n",
       "      <td>Desfavorável</td>\n",
       "      <td>2018-10-29 00:00:00</td>\n",
       "      <td>Favorável</td>\n",
       "      <td>Vazio</td>\n",
       "      <td>Vazio</td>\n",
       "      <td>Brasília - DF</td>\n",
       "      <td>Sim</td>\n",
       "      <td>Brasília</td>\n",
       "      <td>2018</td>\n",
       "      <td>2018-01-01</td>\n",
       "      <td>10.381078</td>\n",
       "    </tr>\n",
       "    <tr>\n",
       "      <th>3</th>\n",
       "      <td>Man Latin America</td>\n",
       "      <td>Ação Anulatória</td>\n",
       "      <td>50202071620184036100</td>\n",
       "      <td>1ª Vara da JF/SP</td>\n",
       "      <td>3ª Turma</td>\n",
       "      <td>Vazio</td>\n",
       "      <td>10/10/2024 11:47:29 - Juntada de Petição de pe...</td>\n",
       "      <td>Vazio</td>\n",
       "      <td>2018-08-14</td>\n",
       "      <td>Desfavorável</td>\n",
       "      <td>2020-07-05 00:00:00</td>\n",
       "      <td>Desfavorável</td>\n",
       "      <td>Vazio</td>\n",
       "      <td>Vazio</td>\n",
       "      <td>São Paulo - SP</td>\n",
       "      <td>Sim</td>\n",
       "      <td>São Paulo</td>\n",
       "      <td>2018</td>\n",
       "      <td>2018-01-01</td>\n",
       "      <td>7.391590</td>\n",
       "    </tr>\n",
       "    <tr>\n",
       "      <th>4</th>\n",
       "      <td>PPG Industrial do Brasil</td>\n",
       "      <td>Ação Anulatória com pedido de Tutela Cautelar ...</td>\n",
       "      <td>50031328020174036105</td>\n",
       "      <td>5ª Vara  da Subseção Judiciária de Campinas/SP</td>\n",
       "      <td>4ª Turma</td>\n",
       "      <td>Vazio</td>\n",
       "      <td>30/01/2023 20:48:09 - Juntada de Petição de pe...</td>\n",
       "      <td>Vazio</td>\n",
       "      <td>2017-07-13</td>\n",
       "      <td>Favorável</td>\n",
       "      <td>2019-03-27 00:00:00</td>\n",
       "      <td>Desfavorável</td>\n",
       "      <td>Vazio</td>\n",
       "      <td>Vazio</td>\n",
       "      <td>Campinas - SP</td>\n",
       "      <td>Não</td>\n",
       "      <td>Campinas</td>\n",
       "      <td>2017</td>\n",
       "      <td>2017-01-01</td>\n",
       "      <td>6.340342</td>\n",
       "    </tr>\n",
       "  </tbody>\n",
       "</table>\n",
       "</div>"
      ],
      "text/plain": [
       "               Contribuinte  \\\n",
       "0            Kimberly-Clark   \n",
       "1                      Aché   \n",
       "2         AES Tietê Energia   \n",
       "3         Man Latin America   \n",
       "4  PPG Industrial do Brasil   \n",
       "\n",
       "                                            Natureza    Número do Processo  \\\n",
       "0                                    Ação Anulatória  50284184120184036100   \n",
       "1                         Embargos à Execução Fiscal  50099585120184036182   \n",
       "2                                    Ação Anulatória  10003652720184013400   \n",
       "3                                    Ação Anulatória  50202071620184036100   \n",
       "4  Ação Anulatória com pedido de Tutela Cautelar ...  50031328020174036105   \n",
       "\n",
       "                                        1ª Instância 2ª Instância STF/STJ  \\\n",
       "0                                           13ª Vara         TRF3   Vazio   \n",
       "1  5ª Vara de Execuções Fiscais Federal de São Paulo        Vazio   Vazio   \n",
       "2                                       6ª Vara SJDF        Vazio   Vazio   \n",
       "3                                   1ª Vara da JF/SP     3ª Turma   Vazio   \n",
       "4     5ª Vara  da Subseção Judiciária de Campinas/SP     4ª Turma   Vazio   \n",
       "\n",
       "                                       Movimentações  \\\n",
       "0  30/09/2024 14:36:26 - Conclusos para julgament...   \n",
       "1  09/08/2024 14:28:19 - Conclusos para julgament...   \n",
       "2  06/11/2024 15:59:39 - Juntada de manifestação\\...   \n",
       "3  10/10/2024 11:47:29 - Juntada de Petição de pe...   \n",
       "4  30/01/2023 20:48:09 - Juntada de Petição de pe...   \n",
       "\n",
       "                            Status Data Liminar/Tutela Mérito Liminar/Tutela  \\\n",
       "0                            Vazio          2018-11-19             Favorável   \n",
       "1                       Despachado          2020-06-04         Desfavorável    \n",
       "2  Aguardando prolação de sentença          2018-11-13         Desfavorável    \n",
       "3                            Vazio          2018-08-14          Desfavorável   \n",
       "4                            Vazio          2017-07-13             Favorável   \n",
       "\n",
       "              Sentença Mérito na Sentença              Acórdão  \\\n",
       "0                Vazio              Vazio                Vazio   \n",
       "1  2020-06-21 00:00:00        Favorável    2021-10-13 00:00:00   \n",
       "2  2018-10-29 00:00:00          Favorável                Vazio   \n",
       "3  2020-07-05 00:00:00       Desfavorável                Vazio   \n",
       "4  2019-03-27 00:00:00      Desfavorável                 Vazio   \n",
       "\n",
       "  Mérito no Acórdão          Cidade Empresa-Veículo    comarca  ano_processo  \\\n",
       "0             Vazio  São Paulo - SP             Sim  São Paulo          2018   \n",
       "1         Favorável  São Paulo - SP             Sim  São Paulo          2018   \n",
       "2             Vazio   Brasília - DF             Sim   Brasília          2018   \n",
       "3             Vazio  São Paulo - SP             Sim  São Paulo          2018   \n",
       "4             Vazio   Campinas - SP             Não   Campinas          2017   \n",
       "\n",
       "  data_presumida  tempo_meses  \n",
       "0     2018-01-01    10.578187  \n",
       "1     2018-01-01    29.073587  \n",
       "2     2018-01-01    10.381078  \n",
       "3     2018-01-01     7.391590  \n",
       "4     2017-01-01     6.340342  "
      ]
     },
     "execution_count": 58,
     "metadata": {},
     "output_type": "execute_result"
    }
   ],
   "source": [
    "# Função para extrair o ano do \"Número do Processo\"\n",
    "def extrair_ano(num_proc):\n",
    "    try:\n",
    "        ano = int(num_proc[9:13])  # Extrai o ano presumido\n",
    "        if 1900 <= ano <= 2100:  # Valida se o ano está dentro de um intervalo plausível\n",
    "            return ano\n",
    "        else:\n",
    "            return np.nan  # Retorna NaN para anos fora do intervalo esperado\n",
    "    except (ValueError, TypeError):\n",
    "        return np.nan  # Retorna NaN para valores inválidos\n",
    "\n",
    "# Aplicar a função para extrair o ano do processo\n",
    "casos['ano_processo'] = casos['Número do Processo'].apply(extrair_ano)\n",
    "\n",
    "# Criar a data presumida com base no ano extraído\n",
    "casos['data_presumida'] = pd.to_datetime(casos['ano_processo'], format='%Y', errors='coerce')\n",
    "\n",
    "# Certifique-se de que 'Data Liminar/Tutela' está no formato datetime\n",
    "casos['Data Liminar/Tutela'] = pd.to_datetime(casos['Data Liminar/Tutela'], errors='coerce')\n",
    "\n",
    "# Verifique se ambas as colunas estão no formato correto\n",
    "print(casos[['Data Liminar/Tutela', 'data_presumida']].dtypes)\n",
    "\n",
    "# Calcular o tempo em meses (apenas para linhas válidas)\n",
    "casos['tempo_meses'] = (\n",
    "    (casos['Data Liminar/Tutela'] - casos['data_presumida'])\n",
    "    .dt.days / 30.44  # Converte dias em meses\n",
    ")\n",
    "casos.head()"
   ]
  },
  {
   "cell_type": "markdown",
   "metadata": {},
   "source": [
    "## **Bases Externas: Obtendo novas colunas**"
   ]
  },
  {
   "cell_type": "markdown",
   "metadata": {},
   "source": [
    "### **Geometria das Comarcas**"
   ]
  },
  {
   "cell_type": "code",
   "execution_count": 59,
   "metadata": {},
   "outputs": [
    {
     "data": {
      "text/html": [
       "<div>\n",
       "<style scoped>\n",
       "    .dataframe tbody tr th:only-of-type {\n",
       "        vertical-align: middle;\n",
       "    }\n",
       "\n",
       "    .dataframe tbody tr th {\n",
       "        vertical-align: top;\n",
       "    }\n",
       "\n",
       "    .dataframe thead th {\n",
       "        text-align: right;\n",
       "    }\n",
       "</style>\n",
       "<table border=\"1\" class=\"dataframe\">\n",
       "  <thead>\n",
       "    <tr style=\"text-align: right;\">\n",
       "      <th></th>\n",
       "      <th>id</th>\n",
       "      <th>comarca</th>\n",
       "      <th>description</th>\n",
       "      <th>geometry</th>\n",
       "    </tr>\n",
       "  </thead>\n",
       "  <tbody>\n",
       "    <tr>\n",
       "      <th>0</th>\n",
       "      <td>1100015</td>\n",
       "      <td>Alta Floresta D'Oeste</td>\n",
       "      <td>Alta Floresta D'Oeste</td>\n",
       "      <td>POLYGON ((-62.18209 -11.86686, -62.1623 -11.87...</td>\n",
       "    </tr>\n",
       "    <tr>\n",
       "      <th>1</th>\n",
       "      <td>1100023</td>\n",
       "      <td>Ariquemes</td>\n",
       "      <td>Ariquemes</td>\n",
       "      <td>POLYGON ((-62.53595 -9.73182, -62.50782 -9.754...</td>\n",
       "    </tr>\n",
       "    <tr>\n",
       "      <th>2</th>\n",
       "      <td>1100031</td>\n",
       "      <td>Cabixi</td>\n",
       "      <td>Cabixi</td>\n",
       "      <td>POLYGON ((-60.3994 -13.45584, -60.40195 -13.46...</td>\n",
       "    </tr>\n",
       "    <tr>\n",
       "      <th>3</th>\n",
       "      <td>1100049</td>\n",
       "      <td>Cacoal</td>\n",
       "      <td>Cacoal</td>\n",
       "      <td>POLYGON ((-61.00051 -11.39796, -61.01794 -11.4...</td>\n",
       "    </tr>\n",
       "    <tr>\n",
       "      <th>4</th>\n",
       "      <td>1100056</td>\n",
       "      <td>Cerejeiras</td>\n",
       "      <td>Cerejeiras</td>\n",
       "      <td>POLYGON ((-61.50047 -13.00392, -61.47901 -13.0...</td>\n",
       "    </tr>\n",
       "  </tbody>\n",
       "</table>\n",
       "</div>"
      ],
      "text/plain": [
       "        id                comarca            description  \\\n",
       "0  1100015  Alta Floresta D'Oeste  Alta Floresta D'Oeste   \n",
       "1  1100023              Ariquemes              Ariquemes   \n",
       "2  1100031                 Cabixi                 Cabixi   \n",
       "3  1100049                 Cacoal                 Cacoal   \n",
       "4  1100056             Cerejeiras             Cerejeiras   \n",
       "\n",
       "                                            geometry  \n",
       "0  POLYGON ((-62.18209 -11.86686, -62.1623 -11.87...  \n",
       "1  POLYGON ((-62.53595 -9.73182, -62.50782 -9.754...  \n",
       "2  POLYGON ((-60.3994 -13.45584, -60.40195 -13.46...  \n",
       "3  POLYGON ((-61.00051 -11.39796, -61.01794 -11.4...  \n",
       "4  POLYGON ((-61.50047 -13.00392, -61.47901 -13.0...  "
      ]
     },
     "execution_count": 59,
     "metadata": {},
     "output_type": "execute_result"
    }
   ],
   "source": [
    "# URL direta para o arquivo bruto\n",
    "url_raw = \"https://raw.githubusercontent.com/tbrugz/geodata-br/master/geojson/geojs-100-mun.json\"\n",
    "\n",
    "# Carregar o GeoJSON diretamente\n",
    "comarcas = gpd.read_file(url_raw)\n",
    "\n",
    "# Renomear a coluna \"name\" para \"comarca\"\n",
    "comarcas = comarcas.rename(columns={\"name\": \"comarca\"})\n",
    "\n",
    "# Mostrar as primeiras linhas do DataFrame\n",
    "comarcas.head()"
   ]
  },
  {
   "cell_type": "code",
   "execution_count": 60,
   "metadata": {},
   "outputs": [
    {
     "name": "stderr",
     "output_type": "stream",
     "text": [
      "C:\\Users\\pietra.araujo\\AppData\\Local\\Temp\\ipykernel_13584\\2960086291.py:2: UserWarning:\n",
      "\n",
      "Geometry is in a geographic CRS. Results from 'centroid' are likely incorrect. Use 'GeoSeries.to_crs()' to re-project geometries to a projected CRS before this operation.\n",
      "\n",
      "\n",
      "C:\\Users\\pietra.araujo\\AppData\\Local\\Temp\\ipykernel_13584\\2960086291.py:3: UserWarning:\n",
      "\n",
      "Geometry is in a geographic CRS. Results from 'centroid' are likely incorrect. Use 'GeoSeries.to_crs()' to re-project geometries to a projected CRS before this operation.\n",
      "\n",
      "\n"
     ]
    },
    {
     "data": {
      "text/html": [
       "<div>\n",
       "<style scoped>\n",
       "    .dataframe tbody tr th:only-of-type {\n",
       "        vertical-align: middle;\n",
       "    }\n",
       "\n",
       "    .dataframe tbody tr th {\n",
       "        vertical-align: top;\n",
       "    }\n",
       "\n",
       "    .dataframe thead th {\n",
       "        text-align: right;\n",
       "    }\n",
       "</style>\n",
       "<table border=\"1\" class=\"dataframe\">\n",
       "  <thead>\n",
       "    <tr style=\"text-align: right;\">\n",
       "      <th></th>\n",
       "      <th>id</th>\n",
       "      <th>comarca</th>\n",
       "      <th>description</th>\n",
       "      <th>geometry</th>\n",
       "      <th>latitude</th>\n",
       "      <th>longitude</th>\n",
       "    </tr>\n",
       "  </thead>\n",
       "  <tbody>\n",
       "    <tr>\n",
       "      <th>0</th>\n",
       "      <td>1100015</td>\n",
       "      <td>Alta Floresta D'Oeste</td>\n",
       "      <td>Alta Floresta D'Oeste</td>\n",
       "      <td>POLYGON ((-62.18209 -11.86686, -62.1623 -11.87...</td>\n",
       "      <td>-12.469633</td>\n",
       "      <td>-62.274095</td>\n",
       "    </tr>\n",
       "    <tr>\n",
       "      <th>1</th>\n",
       "      <td>1100023</td>\n",
       "      <td>Ariquemes</td>\n",
       "      <td>Ariquemes</td>\n",
       "      <td>POLYGON ((-62.53595 -9.73182, -62.50782 -9.754...</td>\n",
       "      <td>-9.951564</td>\n",
       "      <td>-62.956923</td>\n",
       "    </tr>\n",
       "    <tr>\n",
       "      <th>2</th>\n",
       "      <td>1100031</td>\n",
       "      <td>Cabixi</td>\n",
       "      <td>Cabixi</td>\n",
       "      <td>POLYGON ((-60.3994 -13.45584, -60.40195 -13.46...</td>\n",
       "      <td>-13.474432</td>\n",
       "      <td>-60.639192</td>\n",
       "    </tr>\n",
       "    <tr>\n",
       "      <th>3</th>\n",
       "      <td>1100049</td>\n",
       "      <td>Cacoal</td>\n",
       "      <td>Cacoal</td>\n",
       "      <td>POLYGON ((-61.00051 -11.39796, -61.01794 -11.4...</td>\n",
       "      <td>-11.300812</td>\n",
       "      <td>-61.324237</td>\n",
       "    </tr>\n",
       "    <tr>\n",
       "      <th>4</th>\n",
       "      <td>1100056</td>\n",
       "      <td>Cerejeiras</td>\n",
       "      <td>Cerejeiras</td>\n",
       "      <td>POLYGON ((-61.50047 -13.00392, -61.47901 -13.0...</td>\n",
       "      <td>-13.203228</td>\n",
       "      <td>-61.260380</td>\n",
       "    </tr>\n",
       "  </tbody>\n",
       "</table>\n",
       "</div>"
      ],
      "text/plain": [
       "        id                comarca            description  \\\n",
       "0  1100015  Alta Floresta D'Oeste  Alta Floresta D'Oeste   \n",
       "1  1100023              Ariquemes              Ariquemes   \n",
       "2  1100031                 Cabixi                 Cabixi   \n",
       "3  1100049                 Cacoal                 Cacoal   \n",
       "4  1100056             Cerejeiras             Cerejeiras   \n",
       "\n",
       "                                            geometry   latitude  longitude  \n",
       "0  POLYGON ((-62.18209 -11.86686, -62.1623 -11.87... -12.469633 -62.274095  \n",
       "1  POLYGON ((-62.53595 -9.73182, -62.50782 -9.754...  -9.951564 -62.956923  \n",
       "2  POLYGON ((-60.3994 -13.45584, -60.40195 -13.46... -13.474432 -60.639192  \n",
       "3  POLYGON ((-61.00051 -11.39796, -61.01794 -11.4... -11.300812 -61.324237  \n",
       "4  POLYGON ((-61.50047 -13.00392, -61.47901 -13.0... -13.203228 -61.260380  "
      ]
     },
     "execution_count": 60,
     "metadata": {},
     "output_type": "execute_result"
    }
   ],
   "source": [
    "# Obter as coordenadas geográficas de cada comarca\n",
    "comarcas['latitude'] = comarcas['geometry'].centroid.y\n",
    "comarcas['longitude'] = comarcas['geometry'].centroid.x\n",
    "comarcas.head()"
   ]
  },
  {
   "cell_type": "code",
   "execution_count": 61,
   "metadata": {},
   "outputs": [
    {
     "data": {
      "text/html": [
       "<div>\n",
       "<style scoped>\n",
       "    .dataframe tbody tr th:only-of-type {\n",
       "        vertical-align: middle;\n",
       "    }\n",
       "\n",
       "    .dataframe tbody tr th {\n",
       "        vertical-align: top;\n",
       "    }\n",
       "\n",
       "    .dataframe thead th {\n",
       "        text-align: right;\n",
       "    }\n",
       "</style>\n",
       "<table border=\"1\" class=\"dataframe\">\n",
       "  <thead>\n",
       "    <tr style=\"text-align: right;\">\n",
       "      <th></th>\n",
       "      <th>id</th>\n",
       "      <th>comarca</th>\n",
       "      <th>description</th>\n",
       "      <th>geometry</th>\n",
       "      <th>latitude</th>\n",
       "      <th>longitude</th>\n",
       "      <th>aparições_comarca</th>\n",
       "    </tr>\n",
       "  </thead>\n",
       "  <tbody>\n",
       "    <tr>\n",
       "      <th>0</th>\n",
       "      <td>1100015</td>\n",
       "      <td>Alta Floresta D'Oeste</td>\n",
       "      <td>Alta Floresta D'Oeste</td>\n",
       "      <td>POLYGON ((-62.18209 -11.86686, -62.1623 -11.87...</td>\n",
       "      <td>-12.469633</td>\n",
       "      <td>-62.274095</td>\n",
       "      <td>Vazio</td>\n",
       "    </tr>\n",
       "    <tr>\n",
       "      <th>1</th>\n",
       "      <td>1100023</td>\n",
       "      <td>Ariquemes</td>\n",
       "      <td>Ariquemes</td>\n",
       "      <td>POLYGON ((-62.53595 -9.73182, -62.50782 -9.754...</td>\n",
       "      <td>-9.951564</td>\n",
       "      <td>-62.956923</td>\n",
       "      <td>Vazio</td>\n",
       "    </tr>\n",
       "    <tr>\n",
       "      <th>2</th>\n",
       "      <td>1100031</td>\n",
       "      <td>Cabixi</td>\n",
       "      <td>Cabixi</td>\n",
       "      <td>POLYGON ((-60.3994 -13.45584, -60.40195 -13.46...</td>\n",
       "      <td>-13.474432</td>\n",
       "      <td>-60.639192</td>\n",
       "      <td>Vazio</td>\n",
       "    </tr>\n",
       "    <tr>\n",
       "      <th>3</th>\n",
       "      <td>1100049</td>\n",
       "      <td>Cacoal</td>\n",
       "      <td>Cacoal</td>\n",
       "      <td>POLYGON ((-61.00051 -11.39796, -61.01794 -11.4...</td>\n",
       "      <td>-11.300812</td>\n",
       "      <td>-61.324237</td>\n",
       "      <td>Vazio</td>\n",
       "    </tr>\n",
       "    <tr>\n",
       "      <th>4</th>\n",
       "      <td>1100056</td>\n",
       "      <td>Cerejeiras</td>\n",
       "      <td>Cerejeiras</td>\n",
       "      <td>POLYGON ((-61.50047 -13.00392, -61.47901 -13.0...</td>\n",
       "      <td>-13.203228</td>\n",
       "      <td>-61.260380</td>\n",
       "      <td>Vazio</td>\n",
       "    </tr>\n",
       "  </tbody>\n",
       "</table>\n",
       "</div>"
      ],
      "text/plain": [
       "        id                comarca            description  \\\n",
       "0  1100015  Alta Floresta D'Oeste  Alta Floresta D'Oeste   \n",
       "1  1100023              Ariquemes              Ariquemes   \n",
       "2  1100031                 Cabixi                 Cabixi   \n",
       "3  1100049                 Cacoal                 Cacoal   \n",
       "4  1100056             Cerejeiras             Cerejeiras   \n",
       "\n",
       "                                            geometry   latitude  longitude  \\\n",
       "0  POLYGON ((-62.18209 -11.86686, -62.1623 -11.87... -12.469633 -62.274095   \n",
       "1  POLYGON ((-62.53595 -9.73182, -62.50782 -9.754...  -9.951564 -62.956923   \n",
       "2  POLYGON ((-60.3994 -13.45584, -60.40195 -13.46... -13.474432 -60.639192   \n",
       "3  POLYGON ((-61.00051 -11.39796, -61.01794 -11.4... -11.300812 -61.324237   \n",
       "4  POLYGON ((-61.50047 -13.00392, -61.47901 -13.0... -13.203228 -61.260380   \n",
       "\n",
       "  aparições_comarca  \n",
       "0             Vazio  \n",
       "1             Vazio  \n",
       "2             Vazio  \n",
       "3             Vazio  \n",
       "4             Vazio  "
      ]
     },
     "execution_count": 61,
     "metadata": {},
     "output_type": "execute_result"
    }
   ],
   "source": [
    "# Contar as aparições de cada comarca na base \"casos\"\n",
    "contagens = casos['comarca'].value_counts().reset_index()\n",
    "contagens.columns = ['comarca', 'aparições_comarca']  # Renomear as colunas\n",
    "\n",
    "# Mesclar as contagens com o DataFrame \"comarcas\"\n",
    "comarcas = comarcas.merge(contagens, on = 'comarca', how = 'left')\n",
    "\n",
    "# Preencher valores ausentes com zero\n",
    "comarcas['aparições_comarca'] = comarcas['aparições_comarca'].fillna('Vazio').astype(str)\n",
    "\n",
    "# Verificar o resultado\n",
    "comarcas.head()"
   ]
  },
  {
   "cell_type": "code",
   "execution_count": 62,
   "metadata": {},
   "outputs": [],
   "source": [
    "# Transforma os valores da coluna 'comarca' para maiúsculas e sem acento\n",
    "def normalizar_comarca(comarca):\n",
    "    return unidecode(comarca).upper() if isinstance(comarca, str) else comarca\n",
    "\n",
    "casos[\"comarca\"] = casos[\"comarca\"].apply(normalizar_comarca)\n",
    "comarcas[\"comarca\"] = comarcas[\"comarca\"].apply(normalizar_comarca)\n",
    "comarcas[\"description\"] = comarcas[\"description\"].apply(normalizar_comarca)"
   ]
  },
  {
   "cell_type": "code",
   "execution_count": 63,
   "metadata": {},
   "outputs": [
    {
     "data": {
      "text/html": [
       "<div>\n",
       "<style scoped>\n",
       "    .dataframe tbody tr th:only-of-type {\n",
       "        vertical-align: middle;\n",
       "    }\n",
       "\n",
       "    .dataframe tbody tr th {\n",
       "        vertical-align: top;\n",
       "    }\n",
       "\n",
       "    .dataframe thead th {\n",
       "        text-align: right;\n",
       "    }\n",
       "</style>\n",
       "<table border=\"1\" class=\"dataframe\">\n",
       "  <thead>\n",
       "    <tr style=\"text-align: right;\">\n",
       "      <th></th>\n",
       "      <th>Contribuinte</th>\n",
       "      <th>Natureza</th>\n",
       "      <th>Número do Processo</th>\n",
       "      <th>1ª Instância</th>\n",
       "      <th>2ª Instância</th>\n",
       "      <th>STF/STJ</th>\n",
       "      <th>Movimentações</th>\n",
       "      <th>Status</th>\n",
       "      <th>Data Liminar/Tutela</th>\n",
       "      <th>Mérito Liminar/Tutela</th>\n",
       "      <th>...</th>\n",
       "      <th>comarca</th>\n",
       "      <th>ano_processo</th>\n",
       "      <th>data_presumida</th>\n",
       "      <th>tempo_meses</th>\n",
       "      <th>id</th>\n",
       "      <th>description</th>\n",
       "      <th>geometry</th>\n",
       "      <th>latitude</th>\n",
       "      <th>longitude</th>\n",
       "      <th>aparições_comarca</th>\n",
       "    </tr>\n",
       "  </thead>\n",
       "  <tbody>\n",
       "    <tr>\n",
       "      <th>0</th>\n",
       "      <td>Kimberly-Clark</td>\n",
       "      <td>Ação Anulatória</td>\n",
       "      <td>50284184120184036100</td>\n",
       "      <td>13ª Vara</td>\n",
       "      <td>TRF3</td>\n",
       "      <td>Vazio</td>\n",
       "      <td>30/09/2024 14:36:26 - Conclusos para julgament...</td>\n",
       "      <td>Vazio</td>\n",
       "      <td>2018-11-19</td>\n",
       "      <td>Favorável</td>\n",
       "      <td>...</td>\n",
       "      <td>SAO PAULO</td>\n",
       "      <td>2018</td>\n",
       "      <td>2018-01-01</td>\n",
       "      <td>10.578187</td>\n",
       "      <td>3550308</td>\n",
       "      <td>SAO PAULO</td>\n",
       "      <td>POLYGON ((-46.53723 -23.36918, -46.54499 -23.3...</td>\n",
       "      <td>-23.650225</td>\n",
       "      <td>-46.648013</td>\n",
       "      <td>17.0</td>\n",
       "    </tr>\n",
       "    <tr>\n",
       "      <th>1</th>\n",
       "      <td>Aché</td>\n",
       "      <td>Embargos à Execução Fiscal</td>\n",
       "      <td>50099585120184036182</td>\n",
       "      <td>5ª Vara de Execuções Fiscais Federal de São Paulo</td>\n",
       "      <td>Vazio</td>\n",
       "      <td>Vazio</td>\n",
       "      <td>09/08/2024 14:28:19 - Conclusos para julgament...</td>\n",
       "      <td>Despachado</td>\n",
       "      <td>2020-06-04</td>\n",
       "      <td>Desfavorável</td>\n",
       "      <td>...</td>\n",
       "      <td>SAO PAULO</td>\n",
       "      <td>2018</td>\n",
       "      <td>2018-01-01</td>\n",
       "      <td>29.073587</td>\n",
       "      <td>3550308</td>\n",
       "      <td>SAO PAULO</td>\n",
       "      <td>POLYGON ((-46.53723 -23.36918, -46.54499 -23.3...</td>\n",
       "      <td>-23.650225</td>\n",
       "      <td>-46.648013</td>\n",
       "      <td>17.0</td>\n",
       "    </tr>\n",
       "    <tr>\n",
       "      <th>2</th>\n",
       "      <td>AES Tietê Energia</td>\n",
       "      <td>Ação Anulatória</td>\n",
       "      <td>10003652720184013400</td>\n",
       "      <td>6ª Vara SJDF</td>\n",
       "      <td>Vazio</td>\n",
       "      <td>Vazio</td>\n",
       "      <td>06/11/2024 15:59:39 - Juntada de manifestação\\...</td>\n",
       "      <td>Aguardando prolação de sentença</td>\n",
       "      <td>2018-11-13</td>\n",
       "      <td>Desfavorável</td>\n",
       "      <td>...</td>\n",
       "      <td>BRASILIA</td>\n",
       "      <td>2018</td>\n",
       "      <td>2018-01-01</td>\n",
       "      <td>10.381078</td>\n",
       "      <td>5300108</td>\n",
       "      <td>BRASILIA</td>\n",
       "      <td>POLYGON ((-47.41396 -15.54773, -47.4118 -15.54...</td>\n",
       "      <td>-15.780699</td>\n",
       "      <td>-47.796772</td>\n",
       "      <td>15.0</td>\n",
       "    </tr>\n",
       "    <tr>\n",
       "      <th>3</th>\n",
       "      <td>Man Latin America</td>\n",
       "      <td>Ação Anulatória</td>\n",
       "      <td>50202071620184036100</td>\n",
       "      <td>1ª Vara da JF/SP</td>\n",
       "      <td>3ª Turma</td>\n",
       "      <td>Vazio</td>\n",
       "      <td>10/10/2024 11:47:29 - Juntada de Petição de pe...</td>\n",
       "      <td>Vazio</td>\n",
       "      <td>2018-08-14</td>\n",
       "      <td>Desfavorável</td>\n",
       "      <td>...</td>\n",
       "      <td>SAO PAULO</td>\n",
       "      <td>2018</td>\n",
       "      <td>2018-01-01</td>\n",
       "      <td>7.391590</td>\n",
       "      <td>3550308</td>\n",
       "      <td>SAO PAULO</td>\n",
       "      <td>POLYGON ((-46.53723 -23.36918, -46.54499 -23.3...</td>\n",
       "      <td>-23.650225</td>\n",
       "      <td>-46.648013</td>\n",
       "      <td>17.0</td>\n",
       "    </tr>\n",
       "    <tr>\n",
       "      <th>4</th>\n",
       "      <td>PPG Industrial do Brasil</td>\n",
       "      <td>Ação Anulatória com pedido de Tutela Cautelar ...</td>\n",
       "      <td>50031328020174036105</td>\n",
       "      <td>5ª Vara  da Subseção Judiciária de Campinas/SP</td>\n",
       "      <td>4ª Turma</td>\n",
       "      <td>Vazio</td>\n",
       "      <td>30/01/2023 20:48:09 - Juntada de Petição de pe...</td>\n",
       "      <td>Vazio</td>\n",
       "      <td>2017-07-13</td>\n",
       "      <td>Favorável</td>\n",
       "      <td>...</td>\n",
       "      <td>CAMPINAS</td>\n",
       "      <td>2017</td>\n",
       "      <td>2017-01-01</td>\n",
       "      <td>6.340342</td>\n",
       "      <td>3509502</td>\n",
       "      <td>CAMPINAS</td>\n",
       "      <td>POLYGON ((-47.05813 -22.73542, -47.058 -22.738...</td>\n",
       "      <td>-22.883562</td>\n",
       "      <td>-47.043430</td>\n",
       "      <td>2.0</td>\n",
       "    </tr>\n",
       "  </tbody>\n",
       "</table>\n",
       "<p>5 rows × 26 columns</p>\n",
       "</div>"
      ],
      "text/plain": [
       "               Contribuinte  \\\n",
       "0            Kimberly-Clark   \n",
       "1                      Aché   \n",
       "2         AES Tietê Energia   \n",
       "3         Man Latin America   \n",
       "4  PPG Industrial do Brasil   \n",
       "\n",
       "                                            Natureza    Número do Processo  \\\n",
       "0                                    Ação Anulatória  50284184120184036100   \n",
       "1                         Embargos à Execução Fiscal  50099585120184036182   \n",
       "2                                    Ação Anulatória  10003652720184013400   \n",
       "3                                    Ação Anulatória  50202071620184036100   \n",
       "4  Ação Anulatória com pedido de Tutela Cautelar ...  50031328020174036105   \n",
       "\n",
       "                                        1ª Instância 2ª Instância STF/STJ  \\\n",
       "0                                           13ª Vara         TRF3   Vazio   \n",
       "1  5ª Vara de Execuções Fiscais Federal de São Paulo        Vazio   Vazio   \n",
       "2                                       6ª Vara SJDF        Vazio   Vazio   \n",
       "3                                   1ª Vara da JF/SP     3ª Turma   Vazio   \n",
       "4     5ª Vara  da Subseção Judiciária de Campinas/SP     4ª Turma   Vazio   \n",
       "\n",
       "                                       Movimentações  \\\n",
       "0  30/09/2024 14:36:26 - Conclusos para julgament...   \n",
       "1  09/08/2024 14:28:19 - Conclusos para julgament...   \n",
       "2  06/11/2024 15:59:39 - Juntada de manifestação\\...   \n",
       "3  10/10/2024 11:47:29 - Juntada de Petição de pe...   \n",
       "4  30/01/2023 20:48:09 - Juntada de Petição de pe...   \n",
       "\n",
       "                            Status Data Liminar/Tutela Mérito Liminar/Tutela  \\\n",
       "0                            Vazio          2018-11-19             Favorável   \n",
       "1                       Despachado          2020-06-04         Desfavorável    \n",
       "2  Aguardando prolação de sentença          2018-11-13         Desfavorável    \n",
       "3                            Vazio          2018-08-14          Desfavorável   \n",
       "4                            Vazio          2017-07-13             Favorável   \n",
       "\n",
       "   ...    comarca ano_processo data_presumida tempo_meses       id  \\\n",
       "0  ...  SAO PAULO         2018     2018-01-01   10.578187  3550308   \n",
       "1  ...  SAO PAULO         2018     2018-01-01   29.073587  3550308   \n",
       "2  ...   BRASILIA         2018     2018-01-01   10.381078  5300108   \n",
       "3  ...  SAO PAULO         2018     2018-01-01    7.391590  3550308   \n",
       "4  ...   CAMPINAS         2017     2017-01-01    6.340342  3509502   \n",
       "\n",
       "  description                                           geometry   latitude  \\\n",
       "0   SAO PAULO  POLYGON ((-46.53723 -23.36918, -46.54499 -23.3... -23.650225   \n",
       "1   SAO PAULO  POLYGON ((-46.53723 -23.36918, -46.54499 -23.3... -23.650225   \n",
       "2    BRASILIA  POLYGON ((-47.41396 -15.54773, -47.4118 -15.54... -15.780699   \n",
       "3   SAO PAULO  POLYGON ((-46.53723 -23.36918, -46.54499 -23.3... -23.650225   \n",
       "4    CAMPINAS  POLYGON ((-47.05813 -22.73542, -47.058 -22.738... -22.883562   \n",
       "\n",
       "   longitude  aparições_comarca  \n",
       "0 -46.648013               17.0  \n",
       "1 -46.648013               17.0  \n",
       "2 -47.796772               15.0  \n",
       "3 -46.648013               17.0  \n",
       "4 -47.043430                2.0  \n",
       "\n",
       "[5 rows x 26 columns]"
      ]
     },
     "execution_count": 63,
     "metadata": {},
     "output_type": "execute_result"
    }
   ],
   "source": [
    "# Realizar o merge entre 'casos' e 'df' usando a coluna 'comarca'\n",
    "casos = casos.merge(comarcas, on = \"comarca\", how = \"left\")\n",
    "casos.head()"
   ]
  },
  {
   "cell_type": "code",
   "execution_count": 64,
   "metadata": {},
   "outputs": [
    {
     "data": {
      "text/html": [
       "<div>\n",
       "<style scoped>\n",
       "    .dataframe tbody tr th:only-of-type {\n",
       "        vertical-align: middle;\n",
       "    }\n",
       "\n",
       "    .dataframe tbody tr th {\n",
       "        vertical-align: top;\n",
       "    }\n",
       "\n",
       "    .dataframe thead th {\n",
       "        text-align: right;\n",
       "    }\n",
       "</style>\n",
       "<table border=\"1\" class=\"dataframe\">\n",
       "  <thead>\n",
       "    <tr style=\"text-align: right;\">\n",
       "      <th></th>\n",
       "      <th>Contribuinte</th>\n",
       "      <th>Natureza</th>\n",
       "      <th>Número do Processo</th>\n",
       "      <th>1ª Instância</th>\n",
       "      <th>2ª Instância</th>\n",
       "      <th>STF/STJ</th>\n",
       "      <th>Movimentações</th>\n",
       "      <th>Status</th>\n",
       "      <th>Data Liminar/Tutela</th>\n",
       "      <th>Mérito Liminar/Tutela</th>\n",
       "      <th>...</th>\n",
       "      <th>comarca</th>\n",
       "      <th>ano_processo</th>\n",
       "      <th>data_presumida</th>\n",
       "      <th>tempo_meses</th>\n",
       "      <th>id</th>\n",
       "      <th>description</th>\n",
       "      <th>geometry</th>\n",
       "      <th>latitude</th>\n",
       "      <th>longitude</th>\n",
       "      <th>aparições_comarca</th>\n",
       "    </tr>\n",
       "  </thead>\n",
       "  <tbody>\n",
       "    <tr>\n",
       "      <th>0</th>\n",
       "      <td>Kimberly-Clark</td>\n",
       "      <td>Ação Anulatória</td>\n",
       "      <td>50284184120184036100</td>\n",
       "      <td>13ª Vara</td>\n",
       "      <td>TRF3</td>\n",
       "      <td>Vazio</td>\n",
       "      <td>30/09/2024 14:36:26 - Conclusos para julgament...</td>\n",
       "      <td>Vazio</td>\n",
       "      <td>2018-11-19 00:00:00</td>\n",
       "      <td>Favorável</td>\n",
       "      <td>...</td>\n",
       "      <td>SAO PAULO</td>\n",
       "      <td>2018</td>\n",
       "      <td>2018-01-01</td>\n",
       "      <td>10.578187</td>\n",
       "      <td>3550308</td>\n",
       "      <td>SAO PAULO</td>\n",
       "      <td>POLYGON ((-46.53723 -23.36918, -46.54499 -23.3...</td>\n",
       "      <td>-23.650225</td>\n",
       "      <td>-46.648013</td>\n",
       "      <td>17.0</td>\n",
       "    </tr>\n",
       "    <tr>\n",
       "      <th>1</th>\n",
       "      <td>Aché</td>\n",
       "      <td>Embargos à Execução Fiscal</td>\n",
       "      <td>50099585120184036182</td>\n",
       "      <td>5ª Vara de Execuções Fiscais Federal de São Paulo</td>\n",
       "      <td>Vazio</td>\n",
       "      <td>Vazio</td>\n",
       "      <td>09/08/2024 14:28:19 - Conclusos para julgament...</td>\n",
       "      <td>Despachado</td>\n",
       "      <td>2020-06-04 00:00:00</td>\n",
       "      <td>Desfavorável</td>\n",
       "      <td>...</td>\n",
       "      <td>SAO PAULO</td>\n",
       "      <td>2018</td>\n",
       "      <td>2018-01-01</td>\n",
       "      <td>29.073587</td>\n",
       "      <td>3550308</td>\n",
       "      <td>SAO PAULO</td>\n",
       "      <td>POLYGON ((-46.53723 -23.36918, -46.54499 -23.3...</td>\n",
       "      <td>-23.650225</td>\n",
       "      <td>-46.648013</td>\n",
       "      <td>17.0</td>\n",
       "    </tr>\n",
       "    <tr>\n",
       "      <th>2</th>\n",
       "      <td>AES Tietê Energia</td>\n",
       "      <td>Ação Anulatória</td>\n",
       "      <td>10003652720184013400</td>\n",
       "      <td>6ª Vara SJDF</td>\n",
       "      <td>Vazio</td>\n",
       "      <td>Vazio</td>\n",
       "      <td>06/11/2024 15:59:39 - Juntada de manifestação\\...</td>\n",
       "      <td>Aguardando prolação de sentença</td>\n",
       "      <td>2018-11-13 00:00:00</td>\n",
       "      <td>Desfavorável</td>\n",
       "      <td>...</td>\n",
       "      <td>BRASILIA</td>\n",
       "      <td>2018</td>\n",
       "      <td>2018-01-01</td>\n",
       "      <td>10.381078</td>\n",
       "      <td>5300108</td>\n",
       "      <td>BRASILIA</td>\n",
       "      <td>POLYGON ((-47.41396 -15.54773, -47.4118 -15.54...</td>\n",
       "      <td>-15.780699</td>\n",
       "      <td>-47.796772</td>\n",
       "      <td>15.0</td>\n",
       "    </tr>\n",
       "    <tr>\n",
       "      <th>3</th>\n",
       "      <td>Man Latin America</td>\n",
       "      <td>Ação Anulatória</td>\n",
       "      <td>50202071620184036100</td>\n",
       "      <td>1ª Vara da JF/SP</td>\n",
       "      <td>3ª Turma</td>\n",
       "      <td>Vazio</td>\n",
       "      <td>10/10/2024 11:47:29 - Juntada de Petição de pe...</td>\n",
       "      <td>Vazio</td>\n",
       "      <td>2018-08-14 00:00:00</td>\n",
       "      <td>Desfavorável</td>\n",
       "      <td>...</td>\n",
       "      <td>SAO PAULO</td>\n",
       "      <td>2018</td>\n",
       "      <td>2018-01-01</td>\n",
       "      <td>7.39159</td>\n",
       "      <td>3550308</td>\n",
       "      <td>SAO PAULO</td>\n",
       "      <td>POLYGON ((-46.53723 -23.36918, -46.54499 -23.3...</td>\n",
       "      <td>-23.650225</td>\n",
       "      <td>-46.648013</td>\n",
       "      <td>17.0</td>\n",
       "    </tr>\n",
       "    <tr>\n",
       "      <th>4</th>\n",
       "      <td>PPG Industrial do Brasil</td>\n",
       "      <td>Ação Anulatória com pedido de Tutela Cautelar ...</td>\n",
       "      <td>50031328020174036105</td>\n",
       "      <td>5ª Vara  da Subseção Judiciária de Campinas/SP</td>\n",
       "      <td>4ª Turma</td>\n",
       "      <td>Vazio</td>\n",
       "      <td>30/01/2023 20:48:09 - Juntada de Petição de pe...</td>\n",
       "      <td>Vazio</td>\n",
       "      <td>2017-07-13 00:00:00</td>\n",
       "      <td>Favorável</td>\n",
       "      <td>...</td>\n",
       "      <td>CAMPINAS</td>\n",
       "      <td>2017</td>\n",
       "      <td>2017-01-01</td>\n",
       "      <td>6.340342</td>\n",
       "      <td>3509502</td>\n",
       "      <td>CAMPINAS</td>\n",
       "      <td>POLYGON ((-47.05813 -22.73542, -47.058 -22.738...</td>\n",
       "      <td>-22.883562</td>\n",
       "      <td>-47.04343</td>\n",
       "      <td>2.0</td>\n",
       "    </tr>\n",
       "  </tbody>\n",
       "</table>\n",
       "<p>5 rows × 26 columns</p>\n",
       "</div>"
      ],
      "text/plain": [
       "               Contribuinte  \\\n",
       "0            Kimberly-Clark   \n",
       "1                      Aché   \n",
       "2         AES Tietê Energia   \n",
       "3         Man Latin America   \n",
       "4  PPG Industrial do Brasil   \n",
       "\n",
       "                                            Natureza    Número do Processo  \\\n",
       "0                                    Ação Anulatória  50284184120184036100   \n",
       "1                         Embargos à Execução Fiscal  50099585120184036182   \n",
       "2                                    Ação Anulatória  10003652720184013400   \n",
       "3                                    Ação Anulatória  50202071620184036100   \n",
       "4  Ação Anulatória com pedido de Tutela Cautelar ...  50031328020174036105   \n",
       "\n",
       "                                        1ª Instância 2ª Instância STF/STJ  \\\n",
       "0                                           13ª Vara         TRF3   Vazio   \n",
       "1  5ª Vara de Execuções Fiscais Federal de São Paulo        Vazio   Vazio   \n",
       "2                                       6ª Vara SJDF        Vazio   Vazio   \n",
       "3                                   1ª Vara da JF/SP     3ª Turma   Vazio   \n",
       "4     5ª Vara  da Subseção Judiciária de Campinas/SP     4ª Turma   Vazio   \n",
       "\n",
       "                                       Movimentações  \\\n",
       "0  30/09/2024 14:36:26 - Conclusos para julgament...   \n",
       "1  09/08/2024 14:28:19 - Conclusos para julgament...   \n",
       "2  06/11/2024 15:59:39 - Juntada de manifestação\\...   \n",
       "3  10/10/2024 11:47:29 - Juntada de Petição de pe...   \n",
       "4  30/01/2023 20:48:09 - Juntada de Petição de pe...   \n",
       "\n",
       "                            Status  Data Liminar/Tutela Mérito Liminar/Tutela  \\\n",
       "0                            Vazio  2018-11-19 00:00:00             Favorável   \n",
       "1                       Despachado  2020-06-04 00:00:00         Desfavorável    \n",
       "2  Aguardando prolação de sentença  2018-11-13 00:00:00         Desfavorável    \n",
       "3                            Vazio  2018-08-14 00:00:00          Desfavorável   \n",
       "4                            Vazio  2017-07-13 00:00:00             Favorável   \n",
       "\n",
       "   ...    comarca ano_processo data_presumida tempo_meses       id  \\\n",
       "0  ...  SAO PAULO         2018     2018-01-01   10.578187  3550308   \n",
       "1  ...  SAO PAULO         2018     2018-01-01   29.073587  3550308   \n",
       "2  ...   BRASILIA         2018     2018-01-01   10.381078  5300108   \n",
       "3  ...  SAO PAULO         2018     2018-01-01     7.39159  3550308   \n",
       "4  ...   CAMPINAS         2017     2017-01-01    6.340342  3509502   \n",
       "\n",
       "  description                                           geometry   latitude  \\\n",
       "0   SAO PAULO  POLYGON ((-46.53723 -23.36918, -46.54499 -23.3... -23.650225   \n",
       "1   SAO PAULO  POLYGON ((-46.53723 -23.36918, -46.54499 -23.3... -23.650225   \n",
       "2    BRASILIA  POLYGON ((-47.41396 -15.54773, -47.4118 -15.54... -15.780699   \n",
       "3   SAO PAULO  POLYGON ((-46.53723 -23.36918, -46.54499 -23.3... -23.650225   \n",
       "4    CAMPINAS  POLYGON ((-47.05813 -22.73542, -47.058 -22.738... -22.883562   \n",
       "\n",
       "   longitude aparições_comarca  \n",
       "0 -46.648013              17.0  \n",
       "1 -46.648013              17.0  \n",
       "2 -47.796772              15.0  \n",
       "3 -46.648013              17.0  \n",
       "4  -47.04343               2.0  \n",
       "\n",
       "[5 rows x 26 columns]"
      ]
     },
     "execution_count": 64,
     "metadata": {},
     "output_type": "execute_result"
    }
   ],
   "source": [
    "# Identificar as colunas geométricas\n",
    "colunas_geom = casos.select_dtypes(include = 'geometry').columns\n",
    "\n",
    "# Preencher NaN nas colunas geométricas com uma geometria válida (por exemplo, Point)\n",
    "for col in colunas_geom:\n",
    "    casos[col] = casos[col].fillna(Point(0, 0))  # Preenchendo com uma geometria Point(0, 0)\n",
    "\n",
    "# Preencher NaN nas demais colunas com \"Vazio\"\n",
    "casos = casos.fillna(value = \"Vazio\", inplace = False)\n",
    "casos.head()"
   ]
  },
  {
   "cell_type": "markdown",
   "metadata": {},
   "source": [
    "## **Análises e Mapeamento**"
   ]
  },
  {
   "cell_type": "markdown",
   "metadata": {},
   "source": [
    "### **Estatísticas Descritivas**"
   ]
  },
  {
   "cell_type": "code",
   "execution_count": 65,
   "metadata": {},
   "outputs": [
    {
     "name": "stderr",
     "output_type": "stream",
     "text": [
      "C:\\Users\\pietra.araujo\\AppData\\Local\\Temp\\ipykernel_13584\\2373499669.py:2: FutureWarning:\n",
      "\n",
      "Downcasting behavior in `replace` is deprecated and will be removed in a future version. To retain the old behavior, explicitly call `result.infer_objects(copy=False)`. To opt-in to the future behavior, set `pd.set_option('future.no_silent_downcasting', True)`\n",
      "\n"
     ]
    }
   ],
   "source": [
    "# Limpando dados do DataFrame 'casos' (desconsiderando \"Vazio\" ou \"VAZIO\")\n",
    "casos_cleaned = casos.replace([\"Vazio\", \"VAZIO\"], np.nan).dropna(how=\"all\")\n",
    "\n",
    "# Substituir valores NaN por \"Vazio\" no final do processamento\n",
    "def replace_nan_with_vazio(df):\n",
    "    return df.fillna(\"Vazio\")\n",
    "\n",
    "# Mapear valores categóricos para numéricos\n",
    "def map_categorical_to_numeric(data, column, mapping):\n",
    "    if column in data.columns:\n",
    "        data[column] = data[column].map(mapping)\n",
    "    return data\n",
    "\n",
    "# Mapeamento de valores para colunas categóricas\n",
    "mapping = {\"Favorável\": 1, \"Parcialmente\": 0.5, \"Desfavorável\": 0}\n",
    "casos_cleaned = map_categorical_to_numeric(casos_cleaned, \"Mérito Liminar/Tutela\", mapping)\n",
    "casos_cleaned = map_categorical_to_numeric(casos_cleaned, \"Mérito na Sentença\", mapping)\n",
    "casos_cleaned = map_categorical_to_numeric(casos_cleaned, \"Mérito no Acórdão\", mapping)\n",
    "\n",
    "# Mapeamento de valores para colunas categóricas\n",
    "mapping = {\"Sim\": 1, \"Não\": 0}\n",
    "casos_cleaned = map_categorical_to_numeric(casos_cleaned, \"Empresa-Veículo\", mapping)\n",
    "\n",
    "# Para colunas com agrupamento, calcular os valores mais frequentes, média e mediana\n",
    "def calculate_statistics_full(data, group_cols, target_col):\n",
    "    grouped = data.groupby(group_cols)[target_col].value_counts().reset_index(name=\"Frequência\")\n",
    "    \n",
    "    # Garantir que a coluna seja numérica para calcular média e mediana\n",
    "    if data[target_col].dtype in [np.float64, np.int64]:\n",
    "        grouped[f\"{target_col}_media\"] = data.groupby(group_cols)[target_col].mean().reset_index(drop=True)\n",
    "        grouped[f\"{target_col}_mediana\"] = data.groupby(group_cols)[target_col].median().reset_index(drop=True)\n",
    "    else:\n",
    "        grouped[f\"{target_col}_media\"] = None\n",
    "        grouped[f\"{target_col}_mediana\"] = None\n",
    "    \n",
    "    return replace_nan_with_vazio(grouped)\n",
    "\n",
    "# Calcular métricas para Mérito Liminar/Tutela, Mérito na Sentença, Mérito no Acórdão e Empresa-Veículo\n",
    "metrics_merito_liminar = calculate_statistics_full(\n",
    "    casos_cleaned, [\"comarca\", \"Contribuinte\", \"Natureza\"], \"Mérito Liminar/Tutela\"\n",
    ")\n",
    "metrics_merito_sentenca = calculate_statistics_full(\n",
    "    casos_cleaned, [\"comarca\", \"Contribuinte\", \"Natureza\"], \"Mérito na Sentença\"\n",
    ")\n",
    "metrics_merito_acordao = calculate_statistics_full(\n",
    "    casos_cleaned, [\"comarca\", \"Contribuinte\", \"Natureza\"], \"Mérito no Acórdão\"\n",
    ")\n",
    "metrics_empresa_veiculo = calculate_statistics_full(\n",
    "    casos_cleaned, [\"comarca\", \"Contribuinte\", \"Natureza\"], \"Empresa-Veículo\"\n",
    ")\n",
    "\n",
    "# Calcular os valores mais frequentes para Contribuinte, Natureza e ano_processo\n",
    "contribuinte_full = replace_nan_with_vazio(casos_cleaned[\"Contribuinte\"].value_counts().reset_index(name=\"Frequência\"))\n",
    "natureza_full = replace_nan_with_vazio(casos_cleaned[\"Natureza\"].value_counts().reset_index(name=\"Frequência\"))\n",
    "ano_processo_full = replace_nan_with_vazio(casos_cleaned[\"ano_processo\"].value_counts().reset_index(name=\"Frequência\"))\n",
    "\n",
    "# Calcular média para 'tempo_meses'\n",
    "casos_cleaned[\"tempo_meses\"] = pd.to_numeric(casos_cleaned[\"tempo_meses\"], errors=\"coerce\")\n",
    "metrics_tempo_meses = replace_nan_with_vazio(casos_cleaned.groupby([\"comarca\", \"Contribuinte\", \"Natureza\"])[\n",
    "    \"tempo_meses\"\n",
    "].mean().reset_index(name=\"tempo_meses_media\"))"
   ]
  },
  {
   "cell_type": "code",
   "execution_count": 66,
   "metadata": {},
   "outputs": [
    {
     "name": "stdout",
     "output_type": "stream",
     "text": [
      "Contribuintes Mais Frequentes\n"
     ]
    },
    {
     "data": {
      "text/html": [
       "<div>\n",
       "<style scoped>\n",
       "    .dataframe tbody tr th:only-of-type {\n",
       "        vertical-align: middle;\n",
       "    }\n",
       "\n",
       "    .dataframe tbody tr th {\n",
       "        vertical-align: top;\n",
       "    }\n",
       "\n",
       "    .dataframe thead th {\n",
       "        text-align: right;\n",
       "    }\n",
       "</style>\n",
       "<table border=\"1\" class=\"dataframe\">\n",
       "  <thead>\n",
       "    <tr style=\"text-align: right;\">\n",
       "      <th></th>\n",
       "      <th>Contribuinte</th>\n",
       "      <th>Frequência</th>\n",
       "    </tr>\n",
       "  </thead>\n",
       "  <tbody>\n",
       "    <tr>\n",
       "      <th>0</th>\n",
       "      <td>Qualicorp</td>\n",
       "      <td>6</td>\n",
       "    </tr>\n",
       "    <tr>\n",
       "      <th>1</th>\n",
       "      <td>XP Investimentos</td>\n",
       "      <td>4</td>\n",
       "    </tr>\n",
       "    <tr>\n",
       "      <th>2</th>\n",
       "      <td>Tokio Marine</td>\n",
       "      <td>3</td>\n",
       "    </tr>\n",
       "    <tr>\n",
       "      <th>3</th>\n",
       "      <td>Carrefour</td>\n",
       "      <td>2</td>\n",
       "    </tr>\n",
       "    <tr>\n",
       "      <th>4</th>\n",
       "      <td>Solenis do Brasil Químicas Ltda.</td>\n",
       "      <td>2</td>\n",
       "    </tr>\n",
       "    <tr>\n",
       "      <th>5</th>\n",
       "      <td>Banco Bradesco BBI S.A.</td>\n",
       "      <td>2</td>\n",
       "    </tr>\n",
       "    <tr>\n",
       "      <th>6</th>\n",
       "      <td>PPG Industrial do Brasil</td>\n",
       "      <td>2</td>\n",
       "    </tr>\n",
       "    <tr>\n",
       "      <th>7</th>\n",
       "      <td>Intercement</td>\n",
       "      <td>2</td>\n",
       "    </tr>\n",
       "    <tr>\n",
       "      <th>8</th>\n",
       "      <td>Ambev</td>\n",
       "      <td>1</td>\n",
       "    </tr>\n",
       "    <tr>\n",
       "      <th>9</th>\n",
       "      <td>Atacadão</td>\n",
       "      <td>1</td>\n",
       "    </tr>\n",
       "    <tr>\n",
       "      <th>10</th>\n",
       "      <td>AB Brasil</td>\n",
       "      <td>1</td>\n",
       "    </tr>\n",
       "    <tr>\n",
       "      <th>11</th>\n",
       "      <td>AES Tietê Energia</td>\n",
       "      <td>1</td>\n",
       "    </tr>\n",
       "    <tr>\n",
       "      <th>12</th>\n",
       "      <td>Man Latin America</td>\n",
       "      <td>1</td>\n",
       "    </tr>\n",
       "    <tr>\n",
       "      <th>13</th>\n",
       "      <td>Aché</td>\n",
       "      <td>1</td>\n",
       "    </tr>\n",
       "    <tr>\n",
       "      <th>14</th>\n",
       "      <td>Kimberly-Clark</td>\n",
       "      <td>1</td>\n",
       "    </tr>\n",
       "    <tr>\n",
       "      <th>15</th>\n",
       "      <td>Bunge Fertilizantes S.A.</td>\n",
       "      <td>1</td>\n",
       "    </tr>\n",
       "    <tr>\n",
       "      <th>16</th>\n",
       "      <td>SM Empreendimentos</td>\n",
       "      <td>1</td>\n",
       "    </tr>\n",
       "    <tr>\n",
       "      <th>17</th>\n",
       "      <td>Repsol</td>\n",
       "      <td>1</td>\n",
       "    </tr>\n",
       "    <tr>\n",
       "      <th>18</th>\n",
       "      <td>Quixaba</td>\n",
       "      <td>1</td>\n",
       "    </tr>\n",
       "    <tr>\n",
       "      <th>19</th>\n",
       "      <td>A.M.C. TÊXTIL LTDA.</td>\n",
       "      <td>1</td>\n",
       "    </tr>\n",
       "    <tr>\n",
       "      <th>20</th>\n",
       "      <td>Sucocitrico Cutrale</td>\n",
       "      <td>1</td>\n",
       "    </tr>\n",
       "    <tr>\n",
       "      <th>21</th>\n",
       "      <td>Camil</td>\n",
       "      <td>1</td>\n",
       "    </tr>\n",
       "    <tr>\n",
       "      <th>22</th>\n",
       "      <td>BARIGUI VEICULOS LTDA</td>\n",
       "      <td>1</td>\n",
       "    </tr>\n",
       "    <tr>\n",
       "      <th>23</th>\n",
       "      <td>CTEEP</td>\n",
       "      <td>1</td>\n",
       "    </tr>\n",
       "    <tr>\n",
       "      <th>24</th>\n",
       "      <td>CIA. PROVIDÊNCIA INDÚSTRIA E COMÉRCIO</td>\n",
       "      <td>1</td>\n",
       "    </tr>\n",
       "    <tr>\n",
       "      <th>25</th>\n",
       "      <td>Telefônica</td>\n",
       "      <td>1</td>\n",
       "    </tr>\n",
       "    <tr>\n",
       "      <th>26</th>\n",
       "      <td>Ticket Serviços S.A.</td>\n",
       "      <td>1</td>\n",
       "    </tr>\n",
       "    <tr>\n",
       "      <th>27</th>\n",
       "      <td>BB Banco de Investimentos S.A.</td>\n",
       "      <td>1</td>\n",
       "    </tr>\n",
       "    <tr>\n",
       "      <th>28</th>\n",
       "      <td>Tilibra</td>\n",
       "      <td>1</td>\n",
       "    </tr>\n",
       "    <tr>\n",
       "      <th>29</th>\n",
       "      <td>Indiana Seguros</td>\n",
       "      <td>1</td>\n",
       "    </tr>\n",
       "    <tr>\n",
       "      <th>30</th>\n",
       "      <td>Itau Unibanco S.A.</td>\n",
       "      <td>1</td>\n",
       "    </tr>\n",
       "  </tbody>\n",
       "</table>\n",
       "</div>"
      ],
      "text/plain": [
       "                             Contribuinte  Frequência\n",
       "0                               Qualicorp           6\n",
       "1                        XP Investimentos           4\n",
       "2                            Tokio Marine           3\n",
       "3                               Carrefour           2\n",
       "4        Solenis do Brasil Químicas Ltda.           2\n",
       "5                 Banco Bradesco BBI S.A.           2\n",
       "6                PPG Industrial do Brasil           2\n",
       "7                             Intercement           2\n",
       "8                                   Ambev           1\n",
       "9                                Atacadão           1\n",
       "10                              AB Brasil           1\n",
       "11                      AES Tietê Energia           1\n",
       "12                      Man Latin America           1\n",
       "13                                   Aché           1\n",
       "14                         Kimberly-Clark           1\n",
       "15               Bunge Fertilizantes S.A.           1\n",
       "16                     SM Empreendimentos           1\n",
       "17                                 Repsol           1\n",
       "18                                Quixaba           1\n",
       "19                    A.M.C. TÊXTIL LTDA.           1\n",
       "20                    Sucocitrico Cutrale           1\n",
       "21                                  Camil           1\n",
       "22                  BARIGUI VEICULOS LTDA           1\n",
       "23                                  CTEEP           1\n",
       "24  CIA. PROVIDÊNCIA INDÚSTRIA E COMÉRCIO           1\n",
       "25                             Telefônica           1\n",
       "26                   Ticket Serviços S.A.           1\n",
       "27         BB Banco de Investimentos S.A.           1\n",
       "28                                Tilibra           1\n",
       "29                        Indiana Seguros           1\n",
       "30                     Itau Unibanco S.A.           1"
      ]
     },
     "execution_count": 66,
     "metadata": {},
     "output_type": "execute_result"
    }
   ],
   "source": [
    "frequencia_contribuinte = contribuinte_full.sort_values(by = \"Frequência\", ascending = False)\n",
    "\n",
    "print(\"Contribuintes Mais Frequentes\")\n",
    "frequencia_contribuinte"
   ]
  },
  {
   "cell_type": "code",
   "execution_count": 67,
   "metadata": {},
   "outputs": [
    {
     "name": "stdout",
     "output_type": "stream",
     "text": [
      "Natureza de Processos Mais Frequentes\n"
     ]
    },
    {
     "data": {
      "text/html": [
       "<div>\n",
       "<style scoped>\n",
       "    .dataframe tbody tr th:only-of-type {\n",
       "        vertical-align: middle;\n",
       "    }\n",
       "\n",
       "    .dataframe tbody tr th {\n",
       "        vertical-align: top;\n",
       "    }\n",
       "\n",
       "    .dataframe thead th {\n",
       "        text-align: right;\n",
       "    }\n",
       "</style>\n",
       "<table border=\"1\" class=\"dataframe\">\n",
       "  <thead>\n",
       "    <tr style=\"text-align: right;\">\n",
       "      <th></th>\n",
       "      <th>Natureza</th>\n",
       "      <th>Frequência</th>\n",
       "    </tr>\n",
       "  </thead>\n",
       "  <tbody>\n",
       "    <tr>\n",
       "      <th>0</th>\n",
       "      <td>Ação Anulatória</td>\n",
       "      <td>17</td>\n",
       "    </tr>\n",
       "    <tr>\n",
       "      <th>1</th>\n",
       "      <td>Agravo de Instrumento</td>\n",
       "      <td>8</td>\n",
       "    </tr>\n",
       "    <tr>\n",
       "      <th>2</th>\n",
       "      <td>Procedimento Comum</td>\n",
       "      <td>6</td>\n",
       "    </tr>\n",
       "    <tr>\n",
       "      <th>3</th>\n",
       "      <td>Ação Anulatória com pedido de Tutela Cautelar ...</td>\n",
       "      <td>2</td>\n",
       "    </tr>\n",
       "    <tr>\n",
       "      <th>4</th>\n",
       "      <td>Mandado de Segurança</td>\n",
       "      <td>2</td>\n",
       "    </tr>\n",
       "    <tr>\n",
       "      <th>5</th>\n",
       "      <td>Ação Declaratória</td>\n",
       "      <td>2</td>\n",
       "    </tr>\n",
       "    <tr>\n",
       "      <th>6</th>\n",
       "      <td>Apelação</td>\n",
       "      <td>1</td>\n",
       "    </tr>\n",
       "    <tr>\n",
       "      <th>7</th>\n",
       "      <td>Ação Anulatória de Débito Fiscal</td>\n",
       "      <td>1</td>\n",
       "    </tr>\n",
       "    <tr>\n",
       "      <th>8</th>\n",
       "      <td>Embargos à Execução Fiscal</td>\n",
       "      <td>1</td>\n",
       "    </tr>\n",
       "    <tr>\n",
       "      <th>9</th>\n",
       "      <td>Tutela Cautelar</td>\n",
       "      <td>1</td>\n",
       "    </tr>\n",
       "    <tr>\n",
       "      <th>10</th>\n",
       "      <td>Execução Fiscal</td>\n",
       "      <td>1</td>\n",
       "    </tr>\n",
       "    <tr>\n",
       "      <th>11</th>\n",
       "      <td>Embargos à Execução</td>\n",
       "      <td>1</td>\n",
       "    </tr>\n",
       "    <tr>\n",
       "      <th>12</th>\n",
       "      <td>Apelação/ Remessa Necessária</td>\n",
       "      <td>1</td>\n",
       "    </tr>\n",
       "    <tr>\n",
       "      <th>13</th>\n",
       "      <td>Apelação Cível</td>\n",
       "      <td>1</td>\n",
       "    </tr>\n",
       "  </tbody>\n",
       "</table>\n",
       "</div>"
      ],
      "text/plain": [
       "                                             Natureza  Frequência\n",
       "0                                     Ação Anulatória          17\n",
       "1                               Agravo de Instrumento           8\n",
       "2                                  Procedimento Comum           6\n",
       "3   Ação Anulatória com pedido de Tutela Cautelar ...           2\n",
       "4                                Mandado de Segurança           2\n",
       "5                                   Ação Declaratória           2\n",
       "6                                            Apelação           1\n",
       "7                    Ação Anulatória de Débito Fiscal           1\n",
       "8                          Embargos à Execução Fiscal           1\n",
       "9                                    Tutela Cautelar            1\n",
       "10                                    Execução Fiscal           1\n",
       "11                                Embargos à Execução           1\n",
       "12                       Apelação/ Remessa Necessária           1\n",
       "13                                     Apelação Cível           1"
      ]
     },
     "execution_count": 67,
     "metadata": {},
     "output_type": "execute_result"
    }
   ],
   "source": [
    "frequencia_natureza = natureza_full.sort_values(by = \"Frequência\", ascending = False)\n",
    "\n",
    "print(\"Natureza de Processos Mais Frequentes\")\n",
    "frequencia_natureza"
   ]
  },
  {
   "cell_type": "code",
   "execution_count": 68,
   "metadata": {},
   "outputs": [
    {
     "name": "stdout",
     "output_type": "stream",
     "text": [
      "Ano de Processos Mais Frequentes\n"
     ]
    },
    {
     "data": {
      "text/html": [
       "<div>\n",
       "<style scoped>\n",
       "    .dataframe tbody tr th:only-of-type {\n",
       "        vertical-align: middle;\n",
       "    }\n",
       "\n",
       "    .dataframe tbody tr th {\n",
       "        vertical-align: top;\n",
       "    }\n",
       "\n",
       "    .dataframe thead th {\n",
       "        text-align: right;\n",
       "    }\n",
       "</style>\n",
       "<table border=\"1\" class=\"dataframe\">\n",
       "  <thead>\n",
       "    <tr style=\"text-align: right;\">\n",
       "      <th></th>\n",
       "      <th>ano_processo</th>\n",
       "      <th>Frequência</th>\n",
       "    </tr>\n",
       "  </thead>\n",
       "  <tbody>\n",
       "    <tr>\n",
       "      <th>0</th>\n",
       "      <td>2018</td>\n",
       "      <td>24</td>\n",
       "    </tr>\n",
       "    <tr>\n",
       "      <th>1</th>\n",
       "      <td>2019</td>\n",
       "      <td>13</td>\n",
       "    </tr>\n",
       "    <tr>\n",
       "      <th>2</th>\n",
       "      <td>2017</td>\n",
       "      <td>5</td>\n",
       "    </tr>\n",
       "    <tr>\n",
       "      <th>3</th>\n",
       "      <td>2020</td>\n",
       "      <td>2</td>\n",
       "    </tr>\n",
       "    <tr>\n",
       "      <th>4</th>\n",
       "      <td>2016</td>\n",
       "      <td>1</td>\n",
       "    </tr>\n",
       "    <tr>\n",
       "      <th>5</th>\n",
       "      <td>2022</td>\n",
       "      <td>1</td>\n",
       "    </tr>\n",
       "  </tbody>\n",
       "</table>\n",
       "</div>"
      ],
      "text/plain": [
       "   ano_processo  Frequência\n",
       "0          2018          24\n",
       "1          2019          13\n",
       "2          2017           5\n",
       "3          2020           2\n",
       "4          2016           1\n",
       "5          2022           1"
      ]
     },
     "execution_count": 68,
     "metadata": {},
     "output_type": "execute_result"
    }
   ],
   "source": [
    "frequencia_ano = ano_processo_full.sort_values(by = \"Frequência\", ascending = False)\n",
    "\n",
    "print(\"Ano de Processos Mais Frequentes\")\n",
    "frequencia_ano"
   ]
  },
  {
   "cell_type": "code",
   "execution_count": 69,
   "metadata": {},
   "outputs": [
    {
     "name": "stdout",
     "output_type": "stream",
     "text": [
      "Frequência, Média e Mediana de Aparições de 'Mérito Liminar/Tutela' por Comarca, Contribuinte e Natureza\n"
     ]
    },
    {
     "data": {
      "text/html": [
       "<div>\n",
       "<style scoped>\n",
       "    .dataframe tbody tr th:only-of-type {\n",
       "        vertical-align: middle;\n",
       "    }\n",
       "\n",
       "    .dataframe tbody tr th {\n",
       "        vertical-align: top;\n",
       "    }\n",
       "\n",
       "    .dataframe thead th {\n",
       "        text-align: right;\n",
       "    }\n",
       "</style>\n",
       "<table border=\"1\" class=\"dataframe\">\n",
       "  <thead>\n",
       "    <tr style=\"text-align: right;\">\n",
       "      <th></th>\n",
       "      <th>comarca</th>\n",
       "      <th>Contribuinte</th>\n",
       "      <th>Natureza</th>\n",
       "      <th>Mérito Liminar/Tutela</th>\n",
       "      <th>Frequência</th>\n",
       "      <th>Mérito Liminar/Tutela_media</th>\n",
       "      <th>Mérito Liminar/Tutela_mediana</th>\n",
       "    </tr>\n",
       "  </thead>\n",
       "  <tbody>\n",
       "    <tr>\n",
       "      <th>1</th>\n",
       "      <td>BRASILIA</td>\n",
       "      <td>Qualicorp</td>\n",
       "      <td>Ação Anulatória</td>\n",
       "      <td>1.0</td>\n",
       "      <td>3</td>\n",
       "      <td>1.0</td>\n",
       "      <td>1.0</td>\n",
       "    </tr>\n",
       "    <tr>\n",
       "      <th>0</th>\n",
       "      <td>BAURU</td>\n",
       "      <td>AB Brasil</td>\n",
       "      <td>Ação Anulatória</td>\n",
       "      <td>1.0</td>\n",
       "      <td>1</td>\n",
       "      <td>Vazio</td>\n",
       "      <td>Vazio</td>\n",
       "    </tr>\n",
       "    <tr>\n",
       "      <th>2</th>\n",
       "      <td>BRASILIA</td>\n",
       "      <td>Repsol</td>\n",
       "      <td>Ação Anulatória</td>\n",
       "      <td>1.0</td>\n",
       "      <td>1</td>\n",
       "      <td>Vazio</td>\n",
       "      <td>Vazio</td>\n",
       "    </tr>\n",
       "    <tr>\n",
       "      <th>3</th>\n",
       "      <td>BRASILIA</td>\n",
       "      <td>Telefônica</td>\n",
       "      <td>Mandado de Segurança</td>\n",
       "      <td>0.0</td>\n",
       "      <td>1</td>\n",
       "      <td>Vazio</td>\n",
       "      <td>Vazio</td>\n",
       "    </tr>\n",
       "    <tr>\n",
       "      <th>4</th>\n",
       "      <td>BRASILIA</td>\n",
       "      <td>Tokio Marine</td>\n",
       "      <td>Ação Anulatória</td>\n",
       "      <td>0.5</td>\n",
       "      <td>1</td>\n",
       "      <td>Vazio</td>\n",
       "      <td>Vazio</td>\n",
       "    </tr>\n",
       "    <tr>\n",
       "      <th>5</th>\n",
       "      <td>BRASILIA</td>\n",
       "      <td>XP Investimentos</td>\n",
       "      <td>Ação Declaratória</td>\n",
       "      <td>0.5</td>\n",
       "      <td>1</td>\n",
       "      <td>Vazio</td>\n",
       "      <td>Vazio</td>\n",
       "    </tr>\n",
       "    <tr>\n",
       "      <th>6</th>\n",
       "      <td>CAMPINAS</td>\n",
       "      <td>PPG Industrial do Brasil</td>\n",
       "      <td>Ação Anulatória com pedido de Tutela Cautelar ...</td>\n",
       "      <td>1.0</td>\n",
       "      <td>1</td>\n",
       "      <td>1.0</td>\n",
       "      <td>1.0</td>\n",
       "    </tr>\n",
       "    <tr>\n",
       "      <th>7</th>\n",
       "      <td>JARAGUA DO SUL</td>\n",
       "      <td>A.M.C. TÊXTIL LTDA.</td>\n",
       "      <td>Ação Anulatória</td>\n",
       "      <td>1.0</td>\n",
       "      <td>1</td>\n",
       "      <td>1.0</td>\n",
       "      <td>1.0</td>\n",
       "    </tr>\n",
       "    <tr>\n",
       "      <th>8</th>\n",
       "      <td>SAO PAULO</td>\n",
       "      <td>Ambev</td>\n",
       "      <td>Ação Anulatória</td>\n",
       "      <td>1.0</td>\n",
       "      <td>1</td>\n",
       "      <td>0.0</td>\n",
       "      <td>0.0</td>\n",
       "    </tr>\n",
       "    <tr>\n",
       "      <th>9</th>\n",
       "      <td>SAO PAULO</td>\n",
       "      <td>Atacadão</td>\n",
       "      <td>Ação Anulatória</td>\n",
       "      <td>1.0</td>\n",
       "      <td>1</td>\n",
       "      <td>Vazio</td>\n",
       "      <td>Vazio</td>\n",
       "    </tr>\n",
       "    <tr>\n",
       "      <th>10</th>\n",
       "      <td>SAO PAULO</td>\n",
       "      <td>Banco Bradesco BBI S.A.</td>\n",
       "      <td>Ação Anulatória de Débito Fiscal</td>\n",
       "      <td>0.0</td>\n",
       "      <td>1</td>\n",
       "      <td>0.5</td>\n",
       "      <td>0.5</td>\n",
       "    </tr>\n",
       "    <tr>\n",
       "      <th>11</th>\n",
       "      <td>SAO PAULO</td>\n",
       "      <td>CTEEP</td>\n",
       "      <td>Ação Anulatória</td>\n",
       "      <td>1.0</td>\n",
       "      <td>1</td>\n",
       "      <td>Vazio</td>\n",
       "      <td>Vazio</td>\n",
       "    </tr>\n",
       "    <tr>\n",
       "      <th>12</th>\n",
       "      <td>SAO PAULO</td>\n",
       "      <td>Camil</td>\n",
       "      <td>Tutela Cautelar</td>\n",
       "      <td>1.0</td>\n",
       "      <td>1</td>\n",
       "      <td>0.5</td>\n",
       "      <td>0.5</td>\n",
       "    </tr>\n",
       "    <tr>\n",
       "      <th>13</th>\n",
       "      <td>SAO PAULO</td>\n",
       "      <td>Indiana Seguros</td>\n",
       "      <td>Ação Anulatória</td>\n",
       "      <td>1.0</td>\n",
       "      <td>1</td>\n",
       "      <td>1.0</td>\n",
       "      <td>1.0</td>\n",
       "    </tr>\n",
       "    <tr>\n",
       "      <th>14</th>\n",
       "      <td>SAO PAULO</td>\n",
       "      <td>Kimberly-Clark</td>\n",
       "      <td>Ação Anulatória</td>\n",
       "      <td>1.0</td>\n",
       "      <td>1</td>\n",
       "      <td>Vazio</td>\n",
       "      <td>Vazio</td>\n",
       "    </tr>\n",
       "    <tr>\n",
       "      <th>15</th>\n",
       "      <td>SAO PAULO</td>\n",
       "      <td>Man Latin America</td>\n",
       "      <td>Ação Anulatória</td>\n",
       "      <td>0.0</td>\n",
       "      <td>1</td>\n",
       "      <td>1.0</td>\n",
       "      <td>1.0</td>\n",
       "    </tr>\n",
       "    <tr>\n",
       "      <th>16</th>\n",
       "      <td>SAO PAULO</td>\n",
       "      <td>SM Empreendimentos</td>\n",
       "      <td>Procedimento Comum</td>\n",
       "      <td>1.0</td>\n",
       "      <td>1</td>\n",
       "      <td>Vazio</td>\n",
       "      <td>Vazio</td>\n",
       "    </tr>\n",
       "    <tr>\n",
       "      <th>17</th>\n",
       "      <td>SAO PAULO</td>\n",
       "      <td>Solenis do Brasil Químicas Ltda.</td>\n",
       "      <td>Procedimento Comum</td>\n",
       "      <td>0.0</td>\n",
       "      <td>1</td>\n",
       "      <td>1.0</td>\n",
       "      <td>1.0</td>\n",
       "    </tr>\n",
       "  </tbody>\n",
       "</table>\n",
       "</div>"
      ],
      "text/plain": [
       "           comarca                      Contribuinte  \\\n",
       "1         BRASILIA                         Qualicorp   \n",
       "0            BAURU                         AB Brasil   \n",
       "2         BRASILIA                            Repsol   \n",
       "3         BRASILIA                        Telefônica   \n",
       "4         BRASILIA                      Tokio Marine   \n",
       "5         BRASILIA                  XP Investimentos   \n",
       "6         CAMPINAS          PPG Industrial do Brasil   \n",
       "7   JARAGUA DO SUL               A.M.C. TÊXTIL LTDA.   \n",
       "8        SAO PAULO                             Ambev   \n",
       "9        SAO PAULO                          Atacadão   \n",
       "10       SAO PAULO           Banco Bradesco BBI S.A.   \n",
       "11       SAO PAULO                             CTEEP   \n",
       "12       SAO PAULO                             Camil   \n",
       "13       SAO PAULO                   Indiana Seguros   \n",
       "14       SAO PAULO                    Kimberly-Clark   \n",
       "15       SAO PAULO                 Man Latin America   \n",
       "16       SAO PAULO                SM Empreendimentos   \n",
       "17       SAO PAULO  Solenis do Brasil Químicas Ltda.   \n",
       "\n",
       "                                             Natureza  Mérito Liminar/Tutela  \\\n",
       "1                                     Ação Anulatória                    1.0   \n",
       "0                                     Ação Anulatória                    1.0   \n",
       "2                                     Ação Anulatória                    1.0   \n",
       "3                                Mandado de Segurança                    0.0   \n",
       "4                                     Ação Anulatória                    0.5   \n",
       "5                                   Ação Declaratória                    0.5   \n",
       "6   Ação Anulatória com pedido de Tutela Cautelar ...                    1.0   \n",
       "7                                     Ação Anulatória                    1.0   \n",
       "8                                     Ação Anulatória                    1.0   \n",
       "9                                     Ação Anulatória                    1.0   \n",
       "10                   Ação Anulatória de Débito Fiscal                    0.0   \n",
       "11                                    Ação Anulatória                    1.0   \n",
       "12                                   Tutela Cautelar                     1.0   \n",
       "13                                    Ação Anulatória                    1.0   \n",
       "14                                    Ação Anulatória                    1.0   \n",
       "15                                    Ação Anulatória                    0.0   \n",
       "16                                 Procedimento Comum                    1.0   \n",
       "17                                 Procedimento Comum                    0.0   \n",
       "\n",
       "    Frequência Mérito Liminar/Tutela_media Mérito Liminar/Tutela_mediana  \n",
       "1            3                         1.0                           1.0  \n",
       "0            1                       Vazio                         Vazio  \n",
       "2            1                       Vazio                         Vazio  \n",
       "3            1                       Vazio                         Vazio  \n",
       "4            1                       Vazio                         Vazio  \n",
       "5            1                       Vazio                         Vazio  \n",
       "6            1                         1.0                           1.0  \n",
       "7            1                         1.0                           1.0  \n",
       "8            1                         0.0                           0.0  \n",
       "9            1                       Vazio                         Vazio  \n",
       "10           1                         0.5                           0.5  \n",
       "11           1                       Vazio                         Vazio  \n",
       "12           1                         0.5                           0.5  \n",
       "13           1                         1.0                           1.0  \n",
       "14           1                       Vazio                         Vazio  \n",
       "15           1                         1.0                           1.0  \n",
       "16           1                       Vazio                         Vazio  \n",
       "17           1                         1.0                           1.0  "
      ]
     },
     "execution_count": 69,
     "metadata": {},
     "output_type": "execute_result"
    }
   ],
   "source": [
    "frequencia_merito_liminar = metrics_merito_liminar.sort_values(by = \"Frequência\", ascending = False)\n",
    "\n",
    "print(\"Frequência, Média e Mediana de Aparições de 'Mérito Liminar/Tutela' por Comarca, Contribuinte e Natureza\")\n",
    "frequencia_merito_liminar"
   ]
  },
  {
   "cell_type": "code",
   "execution_count": 70,
   "metadata": {},
   "outputs": [
    {
     "name": "stdout",
     "output_type": "stream",
     "text": [
      "Frequência, Média e Mediana de Aparições de 'Mérito na Sentença' por Comarca, Contribuinte e Natureza\n"
     ]
    },
    {
     "data": {
      "text/html": [
       "<div>\n",
       "<style scoped>\n",
       "    .dataframe tbody tr th:only-of-type {\n",
       "        vertical-align: middle;\n",
       "    }\n",
       "\n",
       "    .dataframe tbody tr th {\n",
       "        vertical-align: top;\n",
       "    }\n",
       "\n",
       "    .dataframe thead th {\n",
       "        text-align: right;\n",
       "    }\n",
       "</style>\n",
       "<table border=\"1\" class=\"dataframe\">\n",
       "  <thead>\n",
       "    <tr style=\"text-align: right;\">\n",
       "      <th></th>\n",
       "      <th>comarca</th>\n",
       "      <th>Contribuinte</th>\n",
       "      <th>Natureza</th>\n",
       "      <th>Mérito na Sentença</th>\n",
       "      <th>Frequência</th>\n",
       "      <th>Mérito na Sentença_media</th>\n",
       "      <th>Mérito na Sentença_mediana</th>\n",
       "    </tr>\n",
       "  </thead>\n",
       "  <tbody>\n",
       "    <tr>\n",
       "      <th>0</th>\n",
       "      <td>BARUERI</td>\n",
       "      <td>Ticket Serviços S.A.</td>\n",
       "      <td>Embargos à Execução</td>\n",
       "      <td>0.5</td>\n",
       "      <td>1</td>\n",
       "      <td>0.5</td>\n",
       "      <td>0.5</td>\n",
       "    </tr>\n",
       "    <tr>\n",
       "      <th>1</th>\n",
       "      <td>BRASILIA</td>\n",
       "      <td>AES Tietê Energia</td>\n",
       "      <td>Ação Anulatória</td>\n",
       "      <td>1.0</td>\n",
       "      <td>1</td>\n",
       "      <td>Vazio</td>\n",
       "      <td>Vazio</td>\n",
       "    </tr>\n",
       "    <tr>\n",
       "      <th>2</th>\n",
       "      <td>BRASILIA</td>\n",
       "      <td>Telefônica</td>\n",
       "      <td>Mandado de Segurança</td>\n",
       "      <td>0.0</td>\n",
       "      <td>1</td>\n",
       "      <td>Vazio</td>\n",
       "      <td>Vazio</td>\n",
       "    </tr>\n",
       "    <tr>\n",
       "      <th>3</th>\n",
       "      <td>JARAGUA DO SUL</td>\n",
       "      <td>A.M.C. TÊXTIL LTDA.</td>\n",
       "      <td>Ação Anulatória</td>\n",
       "      <td>1.0</td>\n",
       "      <td>1</td>\n",
       "      <td>1.0</td>\n",
       "      <td>1.0</td>\n",
       "    </tr>\n",
       "    <tr>\n",
       "      <th>4</th>\n",
       "      <td>SAO PAULO</td>\n",
       "      <td>Banco Bradesco BBI S.A.</td>\n",
       "      <td>Ação Anulatória de Débito Fiscal</td>\n",
       "      <td>0.5</td>\n",
       "      <td>1</td>\n",
       "      <td>Vazio</td>\n",
       "      <td>Vazio</td>\n",
       "    </tr>\n",
       "    <tr>\n",
       "      <th>5</th>\n",
       "      <td>SAO PAULO</td>\n",
       "      <td>Bunge Fertilizantes S.A.</td>\n",
       "      <td>Ação Anulatória</td>\n",
       "      <td>0.0</td>\n",
       "      <td>1</td>\n",
       "      <td>Vazio</td>\n",
       "      <td>Vazio</td>\n",
       "    </tr>\n",
       "    <tr>\n",
       "      <th>6</th>\n",
       "      <td>SAO PAULO</td>\n",
       "      <td>Camil</td>\n",
       "      <td>Tutela Cautelar</td>\n",
       "      <td>0.0</td>\n",
       "      <td>1</td>\n",
       "      <td>Vazio</td>\n",
       "      <td>Vazio</td>\n",
       "    </tr>\n",
       "    <tr>\n",
       "      <th>7</th>\n",
       "      <td>SAO PAULO</td>\n",
       "      <td>Indiana Seguros</td>\n",
       "      <td>Ação Anulatória</td>\n",
       "      <td>1.0</td>\n",
       "      <td>1</td>\n",
       "      <td>Vazio</td>\n",
       "      <td>Vazio</td>\n",
       "    </tr>\n",
       "    <tr>\n",
       "      <th>8</th>\n",
       "      <td>SAO PAULO</td>\n",
       "      <td>Man Latin America</td>\n",
       "      <td>Ação Anulatória</td>\n",
       "      <td>0.0</td>\n",
       "      <td>1</td>\n",
       "      <td>0.0</td>\n",
       "      <td>0.0</td>\n",
       "    </tr>\n",
       "  </tbody>\n",
       "</table>\n",
       "</div>"
      ],
      "text/plain": [
       "          comarca              Contribuinte                          Natureza  \\\n",
       "0         BARUERI      Ticket Serviços S.A.               Embargos à Execução   \n",
       "1        BRASILIA         AES Tietê Energia                   Ação Anulatória   \n",
       "2        BRASILIA                Telefônica              Mandado de Segurança   \n",
       "3  JARAGUA DO SUL       A.M.C. TÊXTIL LTDA.                   Ação Anulatória   \n",
       "4       SAO PAULO   Banco Bradesco BBI S.A.  Ação Anulatória de Débito Fiscal   \n",
       "5       SAO PAULO  Bunge Fertilizantes S.A.                   Ação Anulatória   \n",
       "6       SAO PAULO                     Camil                  Tutela Cautelar    \n",
       "7       SAO PAULO           Indiana Seguros                   Ação Anulatória   \n",
       "8       SAO PAULO         Man Latin America                   Ação Anulatória   \n",
       "\n",
       "   Mérito na Sentença  Frequência Mérito na Sentença_media  \\\n",
       "0                 0.5           1                      0.5   \n",
       "1                 1.0           1                    Vazio   \n",
       "2                 0.0           1                    Vazio   \n",
       "3                 1.0           1                      1.0   \n",
       "4                 0.5           1                    Vazio   \n",
       "5                 0.0           1                    Vazio   \n",
       "6                 0.0           1                    Vazio   \n",
       "7                 1.0           1                    Vazio   \n",
       "8                 0.0           1                      0.0   \n",
       "\n",
       "  Mérito na Sentença_mediana  \n",
       "0                        0.5  \n",
       "1                      Vazio  \n",
       "2                      Vazio  \n",
       "3                        1.0  \n",
       "4                      Vazio  \n",
       "5                      Vazio  \n",
       "6                      Vazio  \n",
       "7                      Vazio  \n",
       "8                        0.0  "
      ]
     },
     "execution_count": 70,
     "metadata": {},
     "output_type": "execute_result"
    }
   ],
   "source": [
    "frequencia_merito_sentenca = metrics_merito_sentenca.sort_values(by = \"Frequência\", ascending = False)\n",
    "\n",
    "print(\"Frequência, Média e Mediana de Aparições de 'Mérito na Sentença' por Comarca, Contribuinte e Natureza\")\n",
    "frequencia_merito_sentenca"
   ]
  },
  {
   "cell_type": "code",
   "execution_count": 71,
   "metadata": {},
   "outputs": [
    {
     "name": "stdout",
     "output_type": "stream",
     "text": [
      "Frequência, Média e Mediana de Aparições de 'Mérito no Acórdão' por Comarca, Contribuinte e Natureza\n"
     ]
    },
    {
     "data": {
      "text/html": [
       "<div>\n",
       "<style scoped>\n",
       "    .dataframe tbody tr th:only-of-type {\n",
       "        vertical-align: middle;\n",
       "    }\n",
       "\n",
       "    .dataframe tbody tr th {\n",
       "        vertical-align: top;\n",
       "    }\n",
       "\n",
       "    .dataframe thead th {\n",
       "        text-align: right;\n",
       "    }\n",
       "</style>\n",
       "<table border=\"1\" class=\"dataframe\">\n",
       "  <thead>\n",
       "    <tr style=\"text-align: right;\">\n",
       "      <th></th>\n",
       "      <th>comarca</th>\n",
       "      <th>Contribuinte</th>\n",
       "      <th>Natureza</th>\n",
       "      <th>Mérito no Acórdão</th>\n",
       "      <th>Frequência</th>\n",
       "      <th>Mérito no Acórdão_media</th>\n",
       "      <th>Mérito no Acórdão_mediana</th>\n",
       "    </tr>\n",
       "  </thead>\n",
       "  <tbody>\n",
       "    <tr>\n",
       "      <th>0</th>\n",
       "      <td>SAO PAULO</td>\n",
       "      <td>Aché</td>\n",
       "      <td>Embargos à Execução Fiscal</td>\n",
       "      <td>1.0</td>\n",
       "      <td>1</td>\n",
       "      <td>Vazio</td>\n",
       "      <td>Vazio</td>\n",
       "    </tr>\n",
       "    <tr>\n",
       "      <th>1</th>\n",
       "      <td>SAO PAULO</td>\n",
       "      <td>Bunge Fertilizantes S.A.</td>\n",
       "      <td>Ação Anulatória</td>\n",
       "      <td>0.0</td>\n",
       "      <td>1</td>\n",
       "      <td>Vazio</td>\n",
       "      <td>Vazio</td>\n",
       "    </tr>\n",
       "    <tr>\n",
       "      <th>2</th>\n",
       "      <td>SAO PAULO</td>\n",
       "      <td>Sucocitrico Cutrale</td>\n",
       "      <td>Mandado de Segurança</td>\n",
       "      <td>0.0</td>\n",
       "      <td>1</td>\n",
       "      <td>Vazio</td>\n",
       "      <td>Vazio</td>\n",
       "    </tr>\n",
       "  </tbody>\n",
       "</table>\n",
       "</div>"
      ],
      "text/plain": [
       "     comarca              Contribuinte                    Natureza  \\\n",
       "0  SAO PAULO                      Aché  Embargos à Execução Fiscal   \n",
       "1  SAO PAULO  Bunge Fertilizantes S.A.             Ação Anulatória   \n",
       "2  SAO PAULO       Sucocitrico Cutrale        Mandado de Segurança   \n",
       "\n",
       "   Mérito no Acórdão  Frequência Mérito no Acórdão_media  \\\n",
       "0                1.0           1                   Vazio   \n",
       "1                0.0           1                   Vazio   \n",
       "2                0.0           1                   Vazio   \n",
       "\n",
       "  Mérito no Acórdão_mediana  \n",
       "0                     Vazio  \n",
       "1                     Vazio  \n",
       "2                     Vazio  "
      ]
     },
     "execution_count": 71,
     "metadata": {},
     "output_type": "execute_result"
    }
   ],
   "source": [
    "frequencia_merito_acordao = metrics_merito_acordao.sort_values(by = \"Frequência\", ascending = False)\n",
    "\n",
    "print(\"Frequência, Média e Mediana de Aparições de 'Mérito no Acórdão' por Comarca, Contribuinte e Natureza\")\n",
    "frequencia_merito_acordao"
   ]
  },
  {
   "cell_type": "code",
   "execution_count": 72,
   "metadata": {},
   "outputs": [
    {
     "name": "stdout",
     "output_type": "stream",
     "text": [
      "Frequência, Média e Mediana de Aparições de 'Empresa-Veículo' por Comarca, Contribuinte e Natureza\n"
     ]
    },
    {
     "data": {
      "text/html": [
       "<div>\n",
       "<style scoped>\n",
       "    .dataframe tbody tr th:only-of-type {\n",
       "        vertical-align: middle;\n",
       "    }\n",
       "\n",
       "    .dataframe tbody tr th {\n",
       "        vertical-align: top;\n",
       "    }\n",
       "\n",
       "    .dataframe thead th {\n",
       "        text-align: right;\n",
       "    }\n",
       "</style>\n",
       "<table border=\"1\" class=\"dataframe\">\n",
       "  <thead>\n",
       "    <tr style=\"text-align: right;\">\n",
       "      <th></th>\n",
       "      <th>comarca</th>\n",
       "      <th>Contribuinte</th>\n",
       "      <th>Natureza</th>\n",
       "      <th>Empresa-Veículo</th>\n",
       "      <th>Frequência</th>\n",
       "      <th>Empresa-Veículo_media</th>\n",
       "      <th>Empresa-Veículo_mediana</th>\n",
       "    </tr>\n",
       "  </thead>\n",
       "  <tbody>\n",
       "    <tr>\n",
       "      <th>11</th>\n",
       "      <td>BRASILIA</td>\n",
       "      <td>Tokio Marine</td>\n",
       "      <td>Agravo de Instrumento</td>\n",
       "      <td>1</td>\n",
       "      <td>2</td>\n",
       "      <td>1.0</td>\n",
       "      <td>1.0</td>\n",
       "    </tr>\n",
       "    <tr>\n",
       "      <th>7</th>\n",
       "      <td>BRASILIA</td>\n",
       "      <td>Qualicorp</td>\n",
       "      <td>Ação Anulatória</td>\n",
       "      <td>1</td>\n",
       "      <td>2</td>\n",
       "      <td>0.0</td>\n",
       "      <td>0.0</td>\n",
       "    </tr>\n",
       "    <tr>\n",
       "      <th>5</th>\n",
       "      <td>BRASILIA</td>\n",
       "      <td>Qualicorp</td>\n",
       "      <td>Agravo de Instrumento</td>\n",
       "      <td>1</td>\n",
       "      <td>2</td>\n",
       "      <td>0.666667</td>\n",
       "      <td>1.0</td>\n",
       "    </tr>\n",
       "    <tr>\n",
       "      <th>2</th>\n",
       "      <td>BAURU</td>\n",
       "      <td>Tilibra</td>\n",
       "      <td>Ação Anulatória com pedido de Tutela Cautelar ...</td>\n",
       "      <td>1</td>\n",
       "      <td>1</td>\n",
       "      <td>1.0</td>\n",
       "      <td>1.0</td>\n",
       "    </tr>\n",
       "    <tr>\n",
       "      <th>1</th>\n",
       "      <td>BAURU</td>\n",
       "      <td>AB Brasil</td>\n",
       "      <td>Ação Anulatória</td>\n",
       "      <td>0</td>\n",
       "      <td>1</td>\n",
       "      <td>0.0</td>\n",
       "      <td>0.0</td>\n",
       "    </tr>\n",
       "    <tr>\n",
       "      <th>0</th>\n",
       "      <td>BARUERI</td>\n",
       "      <td>Ticket Serviços S.A.</td>\n",
       "      <td>Embargos à Execução</td>\n",
       "      <td>1</td>\n",
       "      <td>1</td>\n",
       "      <td>1.0</td>\n",
       "      <td>1.0</td>\n",
       "    </tr>\n",
       "    <tr>\n",
       "      <th>4</th>\n",
       "      <td>BRASILIA</td>\n",
       "      <td>Intercement</td>\n",
       "      <td>Ação Anulatória</td>\n",
       "      <td>1</td>\n",
       "      <td>1</td>\n",
       "      <td>1.0</td>\n",
       "      <td>1.0</td>\n",
       "    </tr>\n",
       "    <tr>\n",
       "      <th>6</th>\n",
       "      <td>BRASILIA</td>\n",
       "      <td>Qualicorp</td>\n",
       "      <td>Agravo de Instrumento</td>\n",
       "      <td>0</td>\n",
       "      <td>1</td>\n",
       "      <td>0.666667</td>\n",
       "      <td>1.0</td>\n",
       "    </tr>\n",
       "    <tr>\n",
       "      <th>8</th>\n",
       "      <td>BRASILIA</td>\n",
       "      <td>Qualicorp</td>\n",
       "      <td>Ação Anulatória</td>\n",
       "      <td>0</td>\n",
       "      <td>1</td>\n",
       "      <td>1.0</td>\n",
       "      <td>1.0</td>\n",
       "    </tr>\n",
       "    <tr>\n",
       "      <th>9</th>\n",
       "      <td>BRASILIA</td>\n",
       "      <td>Repsol</td>\n",
       "      <td>Ação Anulatória</td>\n",
       "      <td>0</td>\n",
       "      <td>1</td>\n",
       "      <td>1.0</td>\n",
       "      <td>1.0</td>\n",
       "    </tr>\n",
       "    <tr>\n",
       "      <th>3</th>\n",
       "      <td>BRASILIA</td>\n",
       "      <td>AES Tietê Energia</td>\n",
       "      <td>Ação Anulatória</td>\n",
       "      <td>1</td>\n",
       "      <td>1</td>\n",
       "      <td>1.0</td>\n",
       "      <td>1.0</td>\n",
       "    </tr>\n",
       "    <tr>\n",
       "      <th>10</th>\n",
       "      <td>BRASILIA</td>\n",
       "      <td>Telefônica</td>\n",
       "      <td>Mandado de Segurança</td>\n",
       "      <td>1</td>\n",
       "      <td>1</td>\n",
       "      <td>1.0</td>\n",
       "      <td>1.0</td>\n",
       "    </tr>\n",
       "    <tr>\n",
       "      <th>12</th>\n",
       "      <td>BRASILIA</td>\n",
       "      <td>Tokio Marine</td>\n",
       "      <td>Ação Anulatória</td>\n",
       "      <td>1</td>\n",
       "      <td>1</td>\n",
       "      <td>1.0</td>\n",
       "      <td>1.0</td>\n",
       "    </tr>\n",
       "    <tr>\n",
       "      <th>13</th>\n",
       "      <td>BRASILIA</td>\n",
       "      <td>XP Investimentos</td>\n",
       "      <td>Agravo de Instrumento</td>\n",
       "      <td>1</td>\n",
       "      <td>1</td>\n",
       "      <td>0.0</td>\n",
       "      <td>0.0</td>\n",
       "    </tr>\n",
       "    <tr>\n",
       "      <th>14</th>\n",
       "      <td>BRASILIA</td>\n",
       "      <td>XP Investimentos</td>\n",
       "      <td>Ação Declaratória</td>\n",
       "      <td>1</td>\n",
       "      <td>1</td>\n",
       "      <td>0.0</td>\n",
       "      <td>0.0</td>\n",
       "    </tr>\n",
       "    <tr>\n",
       "      <th>15</th>\n",
       "      <td>CAMPINAS</td>\n",
       "      <td>PPG Industrial do Brasil</td>\n",
       "      <td>Ação Anulatória com pedido de Tutela Cautelar ...</td>\n",
       "      <td>0</td>\n",
       "      <td>1</td>\n",
       "      <td>0.0</td>\n",
       "      <td>0.0</td>\n",
       "    </tr>\n",
       "    <tr>\n",
       "      <th>16</th>\n",
       "      <td>CURITIBA</td>\n",
       "      <td>BARIGUI VEICULOS LTDA</td>\n",
       "      <td>Execução Fiscal</td>\n",
       "      <td>0</td>\n",
       "      <td>1</td>\n",
       "      <td>1.0</td>\n",
       "      <td>1.0</td>\n",
       "    </tr>\n",
       "    <tr>\n",
       "      <th>17</th>\n",
       "      <td>JARAGUA DO SUL</td>\n",
       "      <td>A.M.C. TÊXTIL LTDA.</td>\n",
       "      <td>Ação Anulatória</td>\n",
       "      <td>0</td>\n",
       "      <td>1</td>\n",
       "      <td>1.0</td>\n",
       "      <td>1.0</td>\n",
       "    </tr>\n",
       "    <tr>\n",
       "      <th>18</th>\n",
       "      <td>SAO PAULO</td>\n",
       "      <td>Aché</td>\n",
       "      <td>Embargos à Execução Fiscal</td>\n",
       "      <td>1</td>\n",
       "      <td>1</td>\n",
       "      <td>1.0</td>\n",
       "      <td>1.0</td>\n",
       "    </tr>\n",
       "    <tr>\n",
       "      <th>19</th>\n",
       "      <td>SAO PAULO</td>\n",
       "      <td>Ambev</td>\n",
       "      <td>Ação Anulatória</td>\n",
       "      <td>1</td>\n",
       "      <td>1</td>\n",
       "      <td>0.0</td>\n",
       "      <td>0.0</td>\n",
       "    </tr>\n",
       "    <tr>\n",
       "      <th>20</th>\n",
       "      <td>SAO PAULO</td>\n",
       "      <td>Atacadão</td>\n",
       "      <td>Ação Anulatória</td>\n",
       "      <td>1</td>\n",
       "      <td>1</td>\n",
       "      <td>0.0</td>\n",
       "      <td>0.0</td>\n",
       "    </tr>\n",
       "    <tr>\n",
       "      <th>21</th>\n",
       "      <td>SAO PAULO</td>\n",
       "      <td>Banco Bradesco BBI S.A.</td>\n",
       "      <td>Apelação</td>\n",
       "      <td>0</td>\n",
       "      <td>1</td>\n",
       "      <td>1.0</td>\n",
       "      <td>1.0</td>\n",
       "    </tr>\n",
       "    <tr>\n",
       "      <th>22</th>\n",
       "      <td>SAO PAULO</td>\n",
       "      <td>Banco Bradesco BBI S.A.</td>\n",
       "      <td>Ação Anulatória de Débito Fiscal</td>\n",
       "      <td>0</td>\n",
       "      <td>1</td>\n",
       "      <td>1.0</td>\n",
       "      <td>1.0</td>\n",
       "    </tr>\n",
       "    <tr>\n",
       "      <th>23</th>\n",
       "      <td>SAO PAULO</td>\n",
       "      <td>Bunge Fertilizantes S.A.</td>\n",
       "      <td>Ação Anulatória</td>\n",
       "      <td>1</td>\n",
       "      <td>1</td>\n",
       "      <td>1.0</td>\n",
       "      <td>1.0</td>\n",
       "    </tr>\n",
       "    <tr>\n",
       "      <th>24</th>\n",
       "      <td>SAO PAULO</td>\n",
       "      <td>CTEEP</td>\n",
       "      <td>Ação Anulatória</td>\n",
       "      <td>1</td>\n",
       "      <td>1</td>\n",
       "      <td>0.0</td>\n",
       "      <td>0.0</td>\n",
       "    </tr>\n",
       "    <tr>\n",
       "      <th>25</th>\n",
       "      <td>SAO PAULO</td>\n",
       "      <td>Camil</td>\n",
       "      <td>Tutela Cautelar</td>\n",
       "      <td>1</td>\n",
       "      <td>1</td>\n",
       "      <td>0.0</td>\n",
       "      <td>0.0</td>\n",
       "    </tr>\n",
       "    <tr>\n",
       "      <th>26</th>\n",
       "      <td>SAO PAULO</td>\n",
       "      <td>Carrefour</td>\n",
       "      <td>Agravo de Instrumento</td>\n",
       "      <td>0</td>\n",
       "      <td>1</td>\n",
       "      <td>1.0</td>\n",
       "      <td>1.0</td>\n",
       "    </tr>\n",
       "    <tr>\n",
       "      <th>27</th>\n",
       "      <td>SAO PAULO</td>\n",
       "      <td>Carrefour</td>\n",
       "      <td>Ação Anulatória</td>\n",
       "      <td>0</td>\n",
       "      <td>1</td>\n",
       "      <td>1.0</td>\n",
       "      <td>1.0</td>\n",
       "    </tr>\n",
       "    <tr>\n",
       "      <th>28</th>\n",
       "      <td>SAO PAULO</td>\n",
       "      <td>Indiana Seguros</td>\n",
       "      <td>Ação Anulatória</td>\n",
       "      <td>1</td>\n",
       "      <td>1</td>\n",
       "      <td>1.0</td>\n",
       "      <td>1.0</td>\n",
       "    </tr>\n",
       "    <tr>\n",
       "      <th>29</th>\n",
       "      <td>SAO PAULO</td>\n",
       "      <td>Kimberly-Clark</td>\n",
       "      <td>Ação Anulatória</td>\n",
       "      <td>1</td>\n",
       "      <td>1</td>\n",
       "      <td>0.0</td>\n",
       "      <td>0.0</td>\n",
       "    </tr>\n",
       "    <tr>\n",
       "      <th>30</th>\n",
       "      <td>SAO PAULO</td>\n",
       "      <td>Man Latin America</td>\n",
       "      <td>Ação Anulatória</td>\n",
       "      <td>1</td>\n",
       "      <td>1</td>\n",
       "      <td>1.0</td>\n",
       "      <td>1.0</td>\n",
       "    </tr>\n",
       "    <tr>\n",
       "      <th>31</th>\n",
       "      <td>SAO PAULO</td>\n",
       "      <td>Quixaba</td>\n",
       "      <td>Procedimento Comum</td>\n",
       "      <td>0</td>\n",
       "      <td>1</td>\n",
       "      <td>1.0</td>\n",
       "      <td>1.0</td>\n",
       "    </tr>\n",
       "    <tr>\n",
       "      <th>32</th>\n",
       "      <td>SAO PAULO</td>\n",
       "      <td>SM Empreendimentos</td>\n",
       "      <td>Procedimento Comum</td>\n",
       "      <td>1</td>\n",
       "      <td>1</td>\n",
       "      <td>1.0</td>\n",
       "      <td>1.0</td>\n",
       "    </tr>\n",
       "    <tr>\n",
       "      <th>33</th>\n",
       "      <td>SAO PAULO</td>\n",
       "      <td>Solenis do Brasil Químicas Ltda.</td>\n",
       "      <td>Procedimento Comum</td>\n",
       "      <td>1</td>\n",
       "      <td>1</td>\n",
       "      <td>Vazio</td>\n",
       "      <td>Vazio</td>\n",
       "    </tr>\n",
       "    <tr>\n",
       "      <th>34</th>\n",
       "      <td>SAO PAULO</td>\n",
       "      <td>Sucocitrico Cutrale</td>\n",
       "      <td>Mandado de Segurança</td>\n",
       "      <td>1</td>\n",
       "      <td>1</td>\n",
       "      <td>Vazio</td>\n",
       "      <td>Vazio</td>\n",
       "    </tr>\n",
       "  </tbody>\n",
       "</table>\n",
       "</div>"
      ],
      "text/plain": [
       "           comarca                      Contribuinte  \\\n",
       "11        BRASILIA                      Tokio Marine   \n",
       "7         BRASILIA                         Qualicorp   \n",
       "5         BRASILIA                         Qualicorp   \n",
       "2            BAURU                           Tilibra   \n",
       "1            BAURU                         AB Brasil   \n",
       "0          BARUERI              Ticket Serviços S.A.   \n",
       "4         BRASILIA                       Intercement   \n",
       "6         BRASILIA                         Qualicorp   \n",
       "8         BRASILIA                         Qualicorp   \n",
       "9         BRASILIA                            Repsol   \n",
       "3         BRASILIA                 AES Tietê Energia   \n",
       "10        BRASILIA                        Telefônica   \n",
       "12        BRASILIA                      Tokio Marine   \n",
       "13        BRASILIA                  XP Investimentos   \n",
       "14        BRASILIA                  XP Investimentos   \n",
       "15        CAMPINAS          PPG Industrial do Brasil   \n",
       "16        CURITIBA             BARIGUI VEICULOS LTDA   \n",
       "17  JARAGUA DO SUL               A.M.C. TÊXTIL LTDA.   \n",
       "18       SAO PAULO                              Aché   \n",
       "19       SAO PAULO                             Ambev   \n",
       "20       SAO PAULO                          Atacadão   \n",
       "21       SAO PAULO           Banco Bradesco BBI S.A.   \n",
       "22       SAO PAULO           Banco Bradesco BBI S.A.   \n",
       "23       SAO PAULO          Bunge Fertilizantes S.A.   \n",
       "24       SAO PAULO                             CTEEP   \n",
       "25       SAO PAULO                             Camil   \n",
       "26       SAO PAULO                         Carrefour   \n",
       "27       SAO PAULO                         Carrefour   \n",
       "28       SAO PAULO                   Indiana Seguros   \n",
       "29       SAO PAULO                    Kimberly-Clark   \n",
       "30       SAO PAULO                 Man Latin America   \n",
       "31       SAO PAULO                           Quixaba   \n",
       "32       SAO PAULO                SM Empreendimentos   \n",
       "33       SAO PAULO  Solenis do Brasil Químicas Ltda.   \n",
       "34       SAO PAULO               Sucocitrico Cutrale   \n",
       "\n",
       "                                             Natureza  Empresa-Veículo  \\\n",
       "11                              Agravo de Instrumento                1   \n",
       "7                                     Ação Anulatória                1   \n",
       "5                               Agravo de Instrumento                1   \n",
       "2   Ação Anulatória com pedido de Tutela Cautelar ...                1   \n",
       "1                                     Ação Anulatória                0   \n",
       "0                                 Embargos à Execução                1   \n",
       "4                                     Ação Anulatória                1   \n",
       "6                               Agravo de Instrumento                0   \n",
       "8                                     Ação Anulatória                0   \n",
       "9                                     Ação Anulatória                0   \n",
       "3                                     Ação Anulatória                1   \n",
       "10                               Mandado de Segurança                1   \n",
       "12                                    Ação Anulatória                1   \n",
       "13                              Agravo de Instrumento                1   \n",
       "14                                  Ação Declaratória                1   \n",
       "15  Ação Anulatória com pedido de Tutela Cautelar ...                0   \n",
       "16                                    Execução Fiscal                0   \n",
       "17                                    Ação Anulatória                0   \n",
       "18                         Embargos à Execução Fiscal                1   \n",
       "19                                    Ação Anulatória                1   \n",
       "20                                    Ação Anulatória                1   \n",
       "21                                           Apelação                0   \n",
       "22                   Ação Anulatória de Débito Fiscal                0   \n",
       "23                                    Ação Anulatória                1   \n",
       "24                                    Ação Anulatória                1   \n",
       "25                                   Tutela Cautelar                 1   \n",
       "26                              Agravo de Instrumento                0   \n",
       "27                                    Ação Anulatória                0   \n",
       "28                                    Ação Anulatória                1   \n",
       "29                                    Ação Anulatória                1   \n",
       "30                                    Ação Anulatória                1   \n",
       "31                                 Procedimento Comum                0   \n",
       "32                                 Procedimento Comum                1   \n",
       "33                                 Procedimento Comum                1   \n",
       "34                               Mandado de Segurança                1   \n",
       "\n",
       "    Frequência Empresa-Veículo_media Empresa-Veículo_mediana  \n",
       "11           2                   1.0                     1.0  \n",
       "7            2                   0.0                     0.0  \n",
       "5            2              0.666667                     1.0  \n",
       "2            1                   1.0                     1.0  \n",
       "1            1                   0.0                     0.0  \n",
       "0            1                   1.0                     1.0  \n",
       "4            1                   1.0                     1.0  \n",
       "6            1              0.666667                     1.0  \n",
       "8            1                   1.0                     1.0  \n",
       "9            1                   1.0                     1.0  \n",
       "3            1                   1.0                     1.0  \n",
       "10           1                   1.0                     1.0  \n",
       "12           1                   1.0                     1.0  \n",
       "13           1                   0.0                     0.0  \n",
       "14           1                   0.0                     0.0  \n",
       "15           1                   0.0                     0.0  \n",
       "16           1                   1.0                     1.0  \n",
       "17           1                   1.0                     1.0  \n",
       "18           1                   1.0                     1.0  \n",
       "19           1                   0.0                     0.0  \n",
       "20           1                   0.0                     0.0  \n",
       "21           1                   1.0                     1.0  \n",
       "22           1                   1.0                     1.0  \n",
       "23           1                   1.0                     1.0  \n",
       "24           1                   0.0                     0.0  \n",
       "25           1                   0.0                     0.0  \n",
       "26           1                   1.0                     1.0  \n",
       "27           1                   1.0                     1.0  \n",
       "28           1                   1.0                     1.0  \n",
       "29           1                   0.0                     0.0  \n",
       "30           1                   1.0                     1.0  \n",
       "31           1                   1.0                     1.0  \n",
       "32           1                   1.0                     1.0  \n",
       "33           1                 Vazio                   Vazio  \n",
       "34           1                 Vazio                   Vazio  "
      ]
     },
     "execution_count": 72,
     "metadata": {},
     "output_type": "execute_result"
    }
   ],
   "source": [
    "frequencia_empresa_veiculo = metrics_empresa_veiculo.sort_values(by = \"Frequência\", ascending = False)\n",
    "\n",
    "print(\"Frequência, Média e Mediana de Aparições de 'Empresa-Veículo' por Comarca, Contribuinte e Natureza\")\n",
    "frequencia_empresa_veiculo"
   ]
  },
  {
   "cell_type": "code",
   "execution_count": 73,
   "metadata": {},
   "outputs": [
    {
     "name": "stdout",
     "output_type": "stream",
     "text": [
      "Média do Tempo em Meses por Comarca, Contribuinte e Natureza\n"
     ]
    },
    {
     "data": {
      "text/html": [
       "<div>\n",
       "<style scoped>\n",
       "    .dataframe tbody tr th:only-of-type {\n",
       "        vertical-align: middle;\n",
       "    }\n",
       "\n",
       "    .dataframe tbody tr th {\n",
       "        vertical-align: top;\n",
       "    }\n",
       "\n",
       "    .dataframe thead th {\n",
       "        text-align: right;\n",
       "    }\n",
       "</style>\n",
       "<table border=\"1\" class=\"dataframe\">\n",
       "  <thead>\n",
       "    <tr style=\"text-align: right;\">\n",
       "      <th></th>\n",
       "      <th>comarca</th>\n",
       "      <th>Contribuinte</th>\n",
       "      <th>Natureza</th>\n",
       "      <th>tempo_meses_media</th>\n",
       "    </tr>\n",
       "  </thead>\n",
       "  <tbody>\n",
       "    <tr>\n",
       "      <th>16</th>\n",
       "      <td>SAO PAULO</td>\n",
       "      <td>Aché</td>\n",
       "      <td>Embargos à Execução Fiscal</td>\n",
       "      <td>29.073587</td>\n",
       "    </tr>\n",
       "    <tr>\n",
       "      <th>18</th>\n",
       "      <td>SAO PAULO</td>\n",
       "      <td>Atacadão</td>\n",
       "      <td>Ação Anulatória</td>\n",
       "      <td>10.906702</td>\n",
       "    </tr>\n",
       "    <tr>\n",
       "      <th>27</th>\n",
       "      <td>SAO PAULO</td>\n",
       "      <td>Kimberly-Clark</td>\n",
       "      <td>Ação Anulatória</td>\n",
       "      <td>10.578187</td>\n",
       "    </tr>\n",
       "    <tr>\n",
       "      <th>3</th>\n",
       "      <td>BRASILIA</td>\n",
       "      <td>AES Tietê Energia</td>\n",
       "      <td>Ação Anulatória</td>\n",
       "      <td>10.381078</td>\n",
       "    </tr>\n",
       "    <tr>\n",
       "      <th>7</th>\n",
       "      <td>BRASILIA</td>\n",
       "      <td>Repsol</td>\n",
       "      <td>Ação Anulatória</td>\n",
       "      <td>9.888305</td>\n",
       "    </tr>\n",
       "    <tr>\n",
       "      <th>9</th>\n",
       "      <td>BRASILIA</td>\n",
       "      <td>Tokio Marine</td>\n",
       "      <td>Agravo de Instrumento</td>\n",
       "      <td>9.78975</td>\n",
       "    </tr>\n",
       "    <tr>\n",
       "      <th>25</th>\n",
       "      <td>SAO PAULO</td>\n",
       "      <td>Carrefour</td>\n",
       "      <td>Ação Anulatória</td>\n",
       "      <td>9.034166</td>\n",
       "    </tr>\n",
       "    <tr>\n",
       "      <th>22</th>\n",
       "      <td>SAO PAULO</td>\n",
       "      <td>CTEEP</td>\n",
       "      <td>Ação Anulatória</td>\n",
       "      <td>8.804205</td>\n",
       "    </tr>\n",
       "    <tr>\n",
       "      <th>10</th>\n",
       "      <td>BRASILIA</td>\n",
       "      <td>Tokio Marine</td>\n",
       "      <td>Ação Anulatória</td>\n",
       "      <td>7.851511</td>\n",
       "    </tr>\n",
       "    <tr>\n",
       "      <th>8</th>\n",
       "      <td>BRASILIA</td>\n",
       "      <td>Telefônica</td>\n",
       "      <td>Mandado de Segurança</td>\n",
       "      <td>7.424442</td>\n",
       "    </tr>\n",
       "    <tr>\n",
       "      <th>28</th>\n",
       "      <td>SAO PAULO</td>\n",
       "      <td>Man Latin America</td>\n",
       "      <td>Ação Anulatória</td>\n",
       "      <td>7.39159</td>\n",
       "    </tr>\n",
       "    <tr>\n",
       "      <th>20</th>\n",
       "      <td>SAO PAULO</td>\n",
       "      <td>Banco Bradesco BBI S.A.</td>\n",
       "      <td>Ação Anulatória de Débito Fiscal</td>\n",
       "      <td>7.128778</td>\n",
       "    </tr>\n",
       "    <tr>\n",
       "      <th>15</th>\n",
       "      <td>JARAGUA DO SUL</td>\n",
       "      <td>A.M.C. TÊXTIL LTDA.</td>\n",
       "      <td>Ação Anulatória</td>\n",
       "      <td>6.636005</td>\n",
       "    </tr>\n",
       "    <tr>\n",
       "      <th>13</th>\n",
       "      <td>CAMPINAS</td>\n",
       "      <td>PPG Industrial do Brasil</td>\n",
       "      <td>Ação Anulatória com pedido de Tutela Cautelar ...</td>\n",
       "      <td>6.340342</td>\n",
       "    </tr>\n",
       "    <tr>\n",
       "      <th>1</th>\n",
       "      <td>BAURU</td>\n",
       "      <td>AB Brasil</td>\n",
       "      <td>Ação Anulatória</td>\n",
       "      <td>6.044678</td>\n",
       "    </tr>\n",
       "    <tr>\n",
       "      <th>6</th>\n",
       "      <td>BRASILIA</td>\n",
       "      <td>Qualicorp</td>\n",
       "      <td>Ação Anulatória</td>\n",
       "      <td>5.727113</td>\n",
       "    </tr>\n",
       "    <tr>\n",
       "      <th>26</th>\n",
       "      <td>SAO PAULO</td>\n",
       "      <td>Indiana Seguros</td>\n",
       "      <td>Ação Anulatória</td>\n",
       "      <td>1.379763</td>\n",
       "    </tr>\n",
       "    <tr>\n",
       "      <th>17</th>\n",
       "      <td>SAO PAULO</td>\n",
       "      <td>Ambev</td>\n",
       "      <td>Ação Anulatória</td>\n",
       "      <td>1.149803</td>\n",
       "    </tr>\n",
       "    <tr>\n",
       "      <th>0</th>\n",
       "      <td>BARUERI</td>\n",
       "      <td>Ticket Serviços S.A.</td>\n",
       "      <td>Embargos à Execução</td>\n",
       "      <td>Vazio</td>\n",
       "    </tr>\n",
       "    <tr>\n",
       "      <th>14</th>\n",
       "      <td>CURITIBA</td>\n",
       "      <td>BARIGUI VEICULOS LTDA</td>\n",
       "      <td>Execução Fiscal</td>\n",
       "      <td>Vazio</td>\n",
       "    </tr>\n",
       "    <tr>\n",
       "      <th>12</th>\n",
       "      <td>BRASILIA</td>\n",
       "      <td>XP Investimentos</td>\n",
       "      <td>Ação Declaratória</td>\n",
       "      <td>Vazio</td>\n",
       "    </tr>\n",
       "    <tr>\n",
       "      <th>4</th>\n",
       "      <td>BRASILIA</td>\n",
       "      <td>Intercement</td>\n",
       "      <td>Ação Anulatória</td>\n",
       "      <td>Vazio</td>\n",
       "    </tr>\n",
       "    <tr>\n",
       "      <th>2</th>\n",
       "      <td>BAURU</td>\n",
       "      <td>Tilibra</td>\n",
       "      <td>Ação Anulatória com pedido de Tutela Cautelar ...</td>\n",
       "      <td>Vazio</td>\n",
       "    </tr>\n",
       "    <tr>\n",
       "      <th>11</th>\n",
       "      <td>BRASILIA</td>\n",
       "      <td>XP Investimentos</td>\n",
       "      <td>Agravo de Instrumento</td>\n",
       "      <td>Vazio</td>\n",
       "    </tr>\n",
       "    <tr>\n",
       "      <th>5</th>\n",
       "      <td>BRASILIA</td>\n",
       "      <td>Qualicorp</td>\n",
       "      <td>Agravo de Instrumento</td>\n",
       "      <td>Vazio</td>\n",
       "    </tr>\n",
       "    <tr>\n",
       "      <th>24</th>\n",
       "      <td>SAO PAULO</td>\n",
       "      <td>Carrefour</td>\n",
       "      <td>Agravo de Instrumento</td>\n",
       "      <td>Vazio</td>\n",
       "    </tr>\n",
       "    <tr>\n",
       "      <th>23</th>\n",
       "      <td>SAO PAULO</td>\n",
       "      <td>Camil</td>\n",
       "      <td>Tutela Cautelar</td>\n",
       "      <td>Vazio</td>\n",
       "    </tr>\n",
       "    <tr>\n",
       "      <th>21</th>\n",
       "      <td>SAO PAULO</td>\n",
       "      <td>Bunge Fertilizantes S.A.</td>\n",
       "      <td>Ação Anulatória</td>\n",
       "      <td>Vazio</td>\n",
       "    </tr>\n",
       "    <tr>\n",
       "      <th>19</th>\n",
       "      <td>SAO PAULO</td>\n",
       "      <td>Banco Bradesco BBI S.A.</td>\n",
       "      <td>Apelação</td>\n",
       "      <td>Vazio</td>\n",
       "    </tr>\n",
       "    <tr>\n",
       "      <th>29</th>\n",
       "      <td>SAO PAULO</td>\n",
       "      <td>Quixaba</td>\n",
       "      <td>Procedimento Comum</td>\n",
       "      <td>Vazio</td>\n",
       "    </tr>\n",
       "    <tr>\n",
       "      <th>30</th>\n",
       "      <td>SAO PAULO</td>\n",
       "      <td>SM Empreendimentos</td>\n",
       "      <td>Procedimento Comum</td>\n",
       "      <td>Vazio</td>\n",
       "    </tr>\n",
       "    <tr>\n",
       "      <th>31</th>\n",
       "      <td>SAO PAULO</td>\n",
       "      <td>Solenis do Brasil Químicas Ltda.</td>\n",
       "      <td>Procedimento Comum</td>\n",
       "      <td>Vazio</td>\n",
       "    </tr>\n",
       "    <tr>\n",
       "      <th>32</th>\n",
       "      <td>SAO PAULO</td>\n",
       "      <td>Sucocitrico Cutrale</td>\n",
       "      <td>Mandado de Segurança</td>\n",
       "      <td>Vazio</td>\n",
       "    </tr>\n",
       "  </tbody>\n",
       "</table>\n",
       "</div>"
      ],
      "text/plain": [
       "           comarca                      Contribuinte  \\\n",
       "16       SAO PAULO                              Aché   \n",
       "18       SAO PAULO                          Atacadão   \n",
       "27       SAO PAULO                    Kimberly-Clark   \n",
       "3         BRASILIA                 AES Tietê Energia   \n",
       "7         BRASILIA                            Repsol   \n",
       "9         BRASILIA                      Tokio Marine   \n",
       "25       SAO PAULO                         Carrefour   \n",
       "22       SAO PAULO                             CTEEP   \n",
       "10        BRASILIA                      Tokio Marine   \n",
       "8         BRASILIA                        Telefônica   \n",
       "28       SAO PAULO                 Man Latin America   \n",
       "20       SAO PAULO           Banco Bradesco BBI S.A.   \n",
       "15  JARAGUA DO SUL               A.M.C. TÊXTIL LTDA.   \n",
       "13        CAMPINAS          PPG Industrial do Brasil   \n",
       "1            BAURU                         AB Brasil   \n",
       "6         BRASILIA                         Qualicorp   \n",
       "26       SAO PAULO                   Indiana Seguros   \n",
       "17       SAO PAULO                             Ambev   \n",
       "0          BARUERI              Ticket Serviços S.A.   \n",
       "14        CURITIBA             BARIGUI VEICULOS LTDA   \n",
       "12        BRASILIA                  XP Investimentos   \n",
       "4         BRASILIA                       Intercement   \n",
       "2            BAURU                           Tilibra   \n",
       "11        BRASILIA                  XP Investimentos   \n",
       "5         BRASILIA                         Qualicorp   \n",
       "24       SAO PAULO                         Carrefour   \n",
       "23       SAO PAULO                             Camil   \n",
       "21       SAO PAULO          Bunge Fertilizantes S.A.   \n",
       "19       SAO PAULO           Banco Bradesco BBI S.A.   \n",
       "29       SAO PAULO                           Quixaba   \n",
       "30       SAO PAULO                SM Empreendimentos   \n",
       "31       SAO PAULO  Solenis do Brasil Químicas Ltda.   \n",
       "32       SAO PAULO               Sucocitrico Cutrale   \n",
       "\n",
       "                                             Natureza tempo_meses_media  \n",
       "16                         Embargos à Execução Fiscal         29.073587  \n",
       "18                                    Ação Anulatória         10.906702  \n",
       "27                                    Ação Anulatória         10.578187  \n",
       "3                                     Ação Anulatória         10.381078  \n",
       "7                                     Ação Anulatória          9.888305  \n",
       "9                               Agravo de Instrumento           9.78975  \n",
       "25                                    Ação Anulatória          9.034166  \n",
       "22                                    Ação Anulatória          8.804205  \n",
       "10                                    Ação Anulatória          7.851511  \n",
       "8                                Mandado de Segurança          7.424442  \n",
       "28                                    Ação Anulatória           7.39159  \n",
       "20                   Ação Anulatória de Débito Fiscal          7.128778  \n",
       "15                                    Ação Anulatória          6.636005  \n",
       "13  Ação Anulatória com pedido de Tutela Cautelar ...          6.340342  \n",
       "1                                     Ação Anulatória          6.044678  \n",
       "6                                     Ação Anulatória          5.727113  \n",
       "26                                    Ação Anulatória          1.379763  \n",
       "17                                    Ação Anulatória          1.149803  \n",
       "0                                 Embargos à Execução             Vazio  \n",
       "14                                    Execução Fiscal             Vazio  \n",
       "12                                  Ação Declaratória             Vazio  \n",
       "4                                     Ação Anulatória             Vazio  \n",
       "2   Ação Anulatória com pedido de Tutela Cautelar ...             Vazio  \n",
       "11                              Agravo de Instrumento             Vazio  \n",
       "5                               Agravo de Instrumento             Vazio  \n",
       "24                              Agravo de Instrumento             Vazio  \n",
       "23                                   Tutela Cautelar              Vazio  \n",
       "21                                    Ação Anulatória             Vazio  \n",
       "19                                           Apelação             Vazio  \n",
       "29                                 Procedimento Comum             Vazio  \n",
       "30                                 Procedimento Comum             Vazio  \n",
       "31                                 Procedimento Comum             Vazio  \n",
       "32                               Mandado de Segurança             Vazio  "
      ]
     },
     "execution_count": 73,
     "metadata": {},
     "output_type": "execute_result"
    }
   ],
   "source": [
    "# Certifique-se de que a coluna 'tempo_meses_media' seja numérica\n",
    "metrics_tempo_meses[\"tempo_meses_media\"] = pd.to_numeric(metrics_tempo_meses[\"tempo_meses_media\"], errors=\"coerce\")\n",
    "\n",
    "# Substituir valores NaN temporariamente por 0 (ou outro número válido para análise)\n",
    "metrics_tempo_meses = metrics_tempo_meses.fillna(0)\n",
    "\n",
    "# Ordenar pela coluna 'tempo_meses_media'\n",
    "media_tempo_meses = metrics_tempo_meses.sort_values(by=\"tempo_meses_media\", ascending=False)\n",
    "\n",
    "# Restaurar valores NaN como \"Vazio\" após a ordenação, se necessário\n",
    "media_tempo_meses[\"tempo_meses_media\"] = media_tempo_meses[\"tempo_meses_media\"].replace(0, \"Vazio\")\n",
    "\n",
    "print(\"Média do Tempo em Meses por Comarca, Contribuinte e Natureza\")\n",
    "media_tempo_meses"
   ]
  },
  {
   "cell_type": "markdown",
   "metadata": {},
   "source": [
    "### **Gráficos**"
   ]
  },
  {
   "cell_type": "markdown",
   "metadata": {},
   "source": [
    "#### Gráfico de Barras para os Top Contribuintes"
   ]
  },
  {
   "cell_type": "code",
   "execution_count": 74,
   "metadata": {},
   "outputs": [
    {
     "data": {
      "image/png": "[encoded data removed]",
      "text/plain": [
       "<Figure size 1000x600 with 1 Axes>"
      ]
     },
     "metadata": {},
     "output_type": "display_data"
    }
   ],
   "source": [
    "# Ajuste ao criar contribuinte_full\n",
    "contribuinte_full = replace_nan_with_vazio(\n",
    "    casos_cleaned[\"Contribuinte\"].value_counts().reset_index(name=\"Frequência\").rename(columns={\"index\": \"Contribuinte\"})\n",
    ")\n",
    "\n",
    "# Ordenar os dados para exibir os principais contribuintes\n",
    "top_contribuintes = contribuinte_full.sort_values(by=\"Frequência\", ascending=False)\n",
    "\n",
    "# Criar o gráfico de barras com ajustes visuais\n",
    "plt.figure(figsize=(10, 6))\n",
    "plt.bar(top_contribuintes[\"Contribuinte\"], top_contribuintes[\"Frequência\"], color=\"skyblue\", edgecolor=\"white\")\n",
    "\n",
    "# Adicionar título e rótulos\n",
    "plt.title(\"Top Contribuintes\", fontsize=14, fontweight=\"bold\")\n",
    "plt.xlabel(\"Contribuinte\", fontsize=12)\n",
    "plt.ylabel(\"Frequência\", fontsize=12)\n",
    "plt.xticks(rotation=45, ha=\"right\", fontsize=10)\n",
    "plt.yticks(fontsize=10)\n",
    "plt.grid(axis=\"y\", linestyle=\"--\", alpha=0.7)\n",
    "\n",
    "# Adicionar rótulos no topo das barras\n",
    "for i, value in enumerate(top_contribuintes[\"Frequência\"]):\n",
    "    plt.text(i, value + 0.2, str(value), ha=\"center\", va=\"bottom\", fontsize=10, fontweight=\"bold\")\n",
    "\n",
    "plt.tight_layout()\n",
    "plt.show()"
   ]
  },
  {
   "cell_type": "markdown",
   "metadata": {},
   "source": [
    "#### Gráfico de Barras para Naturezas de Processo"
   ]
  },
  {
   "cell_type": "code",
   "execution_count": 75,
   "metadata": {},
   "outputs": [
    {
     "data": {
      "image/png": "[encoded data removed]",
      "text/plain": [
       "<Figure size 1000x600 with 1 Axes>"
      ]
     },
     "metadata": {},
     "output_type": "display_data"
    }
   ],
   "source": [
    "# Ajuste ao criar natureza_full\n",
    "natureza_full = replace_nan_with_vazio(\n",
    "    casos_cleaned[\"Natureza\"].value_counts().reset_index(name=\"Frequência\").rename(columns={\"index\": \"Natureza\"})\n",
    ")\n",
    "\n",
    "# Ordenar as naturezas para o gráfico\n",
    "top_naturezas = natureza_full.sort_values(by=\"Frequência\", ascending=False)\n",
    "\n",
    "# Criar o gráfico de barras com ajustes visuais\n",
    "plt.figure(figsize=(10, 6))\n",
    "plt.bar(top_naturezas[\"Natureza\"], top_naturezas[\"Frequência\"], color=\"skyblue\", edgecolor=\"white\")\n",
    "\n",
    "# Adicionar título e rótulos\n",
    "plt.title(\"Frequência por Natureza de Processo\", fontsize=14, fontweight=\"bold\")\n",
    "plt.xlabel(\"Natureza\", fontsize=12)\n",
    "plt.ylabel(\"Frequência\", fontsize=12)\n",
    "plt.xticks(rotation=45, ha=\"right\", fontsize=10)\n",
    "plt.yticks(fontsize=10)\n",
    "plt.grid(axis=\"y\", linestyle=\"--\", alpha=0.7)\n",
    "\n",
    "# Adicionar rótulos no topo das barras\n",
    "for i, value in enumerate(top_naturezas[\"Frequência\"]):\n",
    "    plt.text(i, value + 0.2, str(value), ha=\"center\", va=\"bottom\", fontsize=10, fontweight=\"bold\")\n",
    "\n",
    "plt.tight_layout()\n",
    "plt.show()"
   ]
  },
  {
   "cell_type": "markdown",
   "metadata": {
    "vscode": {
     "languageId": "bat"
    }
   },
   "source": [
    "#### Gráfico de Pizza para Mérito Liminar/Tutela"
   ]
  },
  {
   "cell_type": "code",
   "execution_count": 76,
   "metadata": {},
   "outputs": [
    {
     "data": {
      "image/png": "[encoded data removed]",
      "text/plain": [
       "<Figure size 800x800 with 1 Axes>"
      ]
     },
     "metadata": {},
     "output_type": "display_data"
    }
   ],
   "source": [
    "# Mapeamento reverso: de valores numéricos para rótulos\n",
    "reverse_mapping = {1: \"Favorável\", 0.5: \"Parcialmente\", 0: \"Desfavorável\"}\n",
    "metrics_merito_liminar[\"Mérito Liminar/Tutela_Label\"] = metrics_merito_liminar[\"Mérito Liminar/Tutela\"].map(reverse_mapping)\n",
    "\n",
    "# Agrupar os dados pela nova coluna de rótulos\n",
    "liminar_counts = metrics_merito_liminar[\"Mérito Liminar/Tutela_Label\"].value_counts()\n",
    "\n",
    "# Criar o gráfico de pizza\n",
    "plt.figure(figsize=(8, 8))\n",
    "plt.pie(\n",
    "    liminar_counts,\n",
    "    labels=liminar_counts.index,\n",
    "    autopct='%1.1f%%',\n",
    "    startangle=140,\n",
    "    colors=[\"#87CEFA\", \"#90EE90\", \"#FF9999\"],  # Tons suaves: azul, verde claro, salmão\n",
    "    wedgeprops={\"edgecolor\": \"white\"}  # Adicionar bordas brancas\n",
    ")\n",
    "\n",
    "# Adicionar título\n",
    "plt.title(\"Distribuição dos Resultados do Mérito Liminar/Tutela\", fontsize=14, fontweight=\"bold\")\n",
    "\n",
    "plt.tight_layout()\n",
    "plt.show()"
   ]
  },
  {
   "cell_type": "markdown",
   "metadata": {},
   "source": [
    "#### Gráfico de Pizza para Mérito no Acórdão"
   ]
  },
  {
   "cell_type": "code",
   "execution_count": 77,
   "metadata": {},
   "outputs": [
    {
     "data": {
      "image/png": "[encoded data removed]",
      "text/plain": [
       "<Figure size 800x800 with 1 Axes>"
      ]
     },
     "metadata": {},
     "output_type": "display_data"
    }
   ],
   "source": [
    "# Mapeamento reverso: de valores numéricos para rótulos\n",
    "reverse_mapping = {1: \"Favorável\", 0.5: \"Parcialmente\", 0: \"Desfavorável\"}\n",
    "metrics_merito_acordao[\"Mérito no Acórdão_Label\"] = metrics_merito_acordao[\"Mérito no Acórdão\"].map(reverse_mapping)\n",
    "\n",
    "# Agrupar os dados pela nova coluna de rótulos\n",
    "acordao_counts = metrics_merito_acordao[\"Mérito no Acórdão_Label\"].value_counts()\n",
    "\n",
    "# Criar o gráfico de pizza\n",
    "plt.figure(figsize=(8, 8))\n",
    "plt.pie(\n",
    "    acordao_counts,\n",
    "    labels=acordao_counts.index,\n",
    "    autopct='%1.1f%%',\n",
    "    startangle=140,\n",
    "    colors=[\"#87CEFA\", \"#90EE90\", \"#FF9999\"],  # Tons suaves: azul, verde claro, salmão\n",
    "    wedgeprops={\"edgecolor\": \"white\"}  # Adicionar bordas brancas para melhor visualização\n",
    ")\n",
    "\n",
    "# Adicionar título estilizado\n",
    "plt.title(\"Distribuição dos Resultados do Mérito no Acórdão\", fontsize=14, fontweight=\"bold\")\n",
    "\n",
    "plt.tight_layout()\n",
    "plt.show()"
   ]
  },
  {
   "cell_type": "markdown",
   "metadata": {},
   "source": [
    "#### Gráfico de Pizza para Mérito na Sentença"
   ]
  },
  {
   "cell_type": "code",
   "execution_count": 78,
   "metadata": {},
   "outputs": [
    {
     "data": {
      "image/png": "[encoded data removed]",
      "text/plain": [
       "<Figure size 800x800 with 1 Axes>"
      ]
     },
     "metadata": {},
     "output_type": "display_data"
    }
   ],
   "source": [
    "# Mapeamento reverso: de valores numéricos para rótulos\n",
    "reverse_mapping = {1: \"Favorável\", 0.5: \"Parcialmente\", 0: \"Desfavorável\"}\n",
    "metrics_merito_sentenca[\"Mérito na Sentença_Label\"] = metrics_merito_sentenca[\"Mérito na Sentença\"].map(reverse_mapping)\n",
    "\n",
    "# Agrupar os dados pela nova coluna de rótulos\n",
    "sentenca_counts = metrics_merito_sentenca[\"Mérito na Sentença_Label\"].value_counts()\n",
    "\n",
    "# Criar o gráfico de pizza\n",
    "plt.figure(figsize=(8, 8))\n",
    "plt.pie(\n",
    "    sentenca_counts,\n",
    "    labels=sentenca_counts.index,\n",
    "    autopct='%1.1f%%',\n",
    "    startangle=140,\n",
    "    colors=[\"#87CEFA\", \"#90EE90\", \"#FF9999\"],  # Tons suaves: azul claro, verde claro, salmão\n",
    "    wedgeprops={\"edgecolor\": \"white\"}  # Bordas brancas para melhor contraste\n",
    ")\n",
    "\n",
    "# Adicionar título estilizado\n",
    "plt.title(\"Distribuição dos Resultados do Mérito na Sentença\", fontsize=14, fontweight=\"bold\")\n",
    "\n",
    "plt.tight_layout()\n",
    "plt.show()"
   ]
  },
  {
   "cell_type": "markdown",
   "metadata": {},
   "source": [
    "#### Gráfico de Pizza para Empresa-Veículo"
   ]
  },
  {
   "cell_type": "code",
   "execution_count": 79,
   "metadata": {},
   "outputs": [
    {
     "data": {
      "image/png": "[encoded data removed]",
      "text/plain": [
       "<Figure size 800x800 with 1 Axes>"
      ]
     },
     "metadata": {},
     "output_type": "display_data"
    }
   ],
   "source": [
    "# Mapeamento reverso: de valores numéricos para rótulos\n",
    "reverse_mapping = {1: \"Sim\", 0: \"Não\"}\n",
    "metrics_empresa_veiculo[\"Empresa-Veículo_Label\"] = metrics_empresa_veiculo[\"Empresa-Veículo\"].map(reverse_mapping)\n",
    "\n",
    "# Agrupar os dados pela nova coluna de rótulos\n",
    "empresa_counts = metrics_empresa_veiculo[\"Empresa-Veículo_Label\"].value_counts()\n",
    "\n",
    "# Criar o gráfico de pizza\n",
    "plt.figure(figsize=(8, 8))\n",
    "plt.pie(\n",
    "    empresa_counts,\n",
    "    labels=empresa_counts.index,\n",
    "    autopct='%1.1f%%',\n",
    "    startangle=140,\n",
    "    colors=[\"#87CEFA\", \"#90EE90\"],  # Azul claro e verde claro\n",
    "    wedgeprops={\"edgecolor\": \"white\"}  # Bordas brancas entre os segmentos\n",
    ")\n",
    "\n",
    "# Adicionar título estilizado\n",
    "plt.title(\"Distribuição dos Resultados para Empresa-Veículo\", fontsize=14, fontweight=\"bold\")\n",
    "\n",
    "plt.tight_layout()\n",
    "plt.show()"
   ]
  },
  {
   "cell_type": "markdown",
   "metadata": {},
   "source": [
    "#### Gráfico de Linhas para Tempo Médio por Comarca"
   ]
  },
  {
   "cell_type": "code",
   "execution_count": 80,
   "metadata": {},
   "outputs": [
    {
     "data": {
      "image/png": "[encoded data removed]",
      "text/plain": [
       "<Figure size 1200x600 with 1 Axes>"
      ]
     },
     "metadata": {},
     "output_type": "display_data"
    }
   ],
   "source": [
    "# Filtrar apenas as colunas necessárias e garantir que os valores sejam numéricos\n",
    "casos[\"tempo_meses\"] = pd.to_numeric(casos[\"tempo_meses\"], errors=\"coerce\")\n",
    "\n",
    "# Calcular o tempo médio por comarca\n",
    "tempo_por_comarca = casos.groupby(\"comarca\")[\"tempo_meses\"].mean().sort_values()\n",
    "\n",
    "# Criar o gráfico de linhas\n",
    "plt.figure(figsize=(12, 6))\n",
    "tempo_por_comarca.plot(kind=\"line\", marker=\"o\", color=\"skyblue\")\n",
    "plt.title(\"Tempo Médio de Processos por Comarca\")\n",
    "plt.xlabel(\"Comarca\")\n",
    "plt.ylabel(\"Tempo Médio (meses)\")\n",
    "plt.xticks(rotation=45, ha=\"right\")\n",
    "plt.grid(True)\n",
    "plt.tight_layout()\n",
    "plt.show()"
   ]
  },
  {
   "cell_type": "markdown",
   "metadata": {},
   "source": [
    "#### Scatter Mapbox para Mérito Liminar/Tutela"
   ]
  },
  {
   "cell_type": "code",
   "execution_count": 87,
   "metadata": {},
   "outputs": [
    {
     "name": "stderr",
     "output_type": "stream",
     "text": [
      "C:\\Users\\pietra.araujo\\AppData\\Local\\Temp\\ipykernel_13584\\827319856.py:10: FutureWarning:\n",
      "\n",
      "The default of observed=False is deprecated and will be changed to True in a future version of pandas. Pass observed=False to retain current behavior or observed=True to adopt the future default and silence this warning.\n",
      "\n"
     ]
    },
    {
     "data": {
      "application/vnd.plotly.v1+json": {
       "config": {
        "plotlyServerURL": "https://plot.ly"
       },
       "data": [
        {
         "customdata": [
          [
           "Comarca: BARUERI<br>Quantidade Total de Processos: 1<br>Favorável: 0<br>Desfavorável: 0<br>Parcialmente: 0<br>Vazio: 1"
          ],
          [
           "Comarca: BRASILIA<br>Quantidade Total de Processos: 15<br>Favorável: 4<br>Desfavorável: 1<br>Parcialmente: 2<br>Vazio: 6"
          ],
          [
           "Comarca: CURITIBA<br>Quantidade Total de Processos: 1<br>Favorável: 0<br>Desfavorável: 0<br>Parcialmente: 0<br>Vazio: 1"
          ]
         ],
         "hovertemplate": "<b>%{hovertext}</b><br><br>Mérito Liminar/Tutela=Vazio<br>aparições_comarca=%{marker.size}<br>latitude=%{lat}<br>longitude=%{lon}<br>hover_info=%{customdata[0]}<extra></extra>",
         "hovertext": [
          "BARUERI",
          "BRASILIA",
          "CURITIBA"
         ],
         "lat": [
          -23.50506553185676,
          -15.780699162586895,
          -25.47757997346855
         ],
         "legendgroup": "Vazio",
         "lon": [
          -46.87635199536418,
          -47.79677225168662,
          -49.28770804340638
         ],
         "marker": {
          "color": "#440154",
          "opacity": 0.6,
          "size": [
           1,
           15,
           1
          ],
          "sizemode": "area",
          "sizeref": 0.01888888888888889
         },
         "mode": "markers",
         "name": "Vazio",
         "showlegend": true,
         "subplot": "mapbox",
         "type": "scattermapbox"
        },
        {
         "customdata": [
          [
           "Comarca: BAURU<br>Quantidade Total de Processos: 2<br>Favorável: 1<br>Desfavorável: 0<br>Parcialmente: 0<br>Vazio: 1"
          ],
          [
           "Comarca: CAMPINAS<br>Quantidade Total de Processos: 2<br>Favorável: 1<br>Desfavorável: 0<br>Parcialmente: 0<br>Vazio: 1"
          ],
          [
           "Comarca: JARAGUA DO SUL<br>Quantidade Total de Processos: 1<br>Favorável: 1<br>Desfavorável: 0<br>Parcialmente: 0<br>Vazio: 0"
          ],
          [
           "Comarca: SAO PAULO<br>Quantidade Total de Processos: 17<br>Favorável: 7<br>Desfavorável: 3<br>Parcialmente: 0<br>Vazio: 4"
          ]
         ],
         "hovertemplate": "<b>%{hovertext}</b><br><br>Mérito Liminar/Tutela=Favorável<br>aparições_comarca=%{marker.size}<br>latitude=%{lat}<br>longitude=%{lon}<br>hover_info=%{customdata[0]}<extra></extra>",
         "hovertext": [
          "BAURU",
          "CAMPINAS",
          "JARAGUA DO SUL",
          "SAO PAULO"
         ],
         "lat": [
          -22.25360883464175,
          -22.883562463473083,
          -26.480652819938626,
          -23.650225338676957
         ],
         "legendgroup": "Favorável",
         "lon": [
          -49.125787107965344,
          -47.04343008774881,
          -49.15976596216289,
          -46.64801277922462
         ],
         "marker": {
          "color": "#482878",
          "opacity": 0.6,
          "size": [
           2,
           2,
           1,
           17
          ],
          "sizemode": "area",
          "sizeref": 0.01888888888888889
         },
         "mode": "markers",
         "name": "Favorável",
         "showlegend": true,
         "subplot": "mapbox",
         "type": "scattermapbox"
        }
       ],
       "layout": {
        "legend": {
         "itemsizing": "constant",
         "title": {
          "text": "Resultado Mais Frequente"
         },
         "tracegroupgap": 0,
         "traceorder": "normal"
        },
        "mapbox": {
         "center": {
          "lat": -22.8616277320918,
          "lon": -47.991118318222696
         },
         "domain": {
          "x": [
           0,
           1
          ],
          "y": [
           0,
           1
          ]
         },
         "style": "open-street-map",
         "zoom": 4
        },
        "template": {
         "data": {
          "candlestick": [
           {
            "decreasing": {
             "line": {
              "color": "#000033"
             }
            },
            "increasing": {
             "line": {
              "color": "#000032"
             }
            },
            "type": "candlestick"
           }
          ],
          "contour": [
           {
            "colorscale": [
             [
              0,
              "#000011"
             ],
             [
              0.1111111111111111,
              "#000012"
             ],
             [
              0.2222222222222222,
              "#000013"
             ],
             [
              0.3333333333333333,
              "#000014"
             ],
             [
              0.4444444444444444,
              "#000015"
             ],
             [
              0.5555555555555556,
              "#000016"
             ],
             [
              0.6666666666666666,
              "#000017"
             ],
             [
              0.7777777777777778,
              "#000018"
             ],
             [
              0.8888888888888888,
              "#000019"
             ],
             [
              1,
              "#000020"
             ]
            ],
            "type": "contour"
           }
          ],
          "contourcarpet": [
           {
            "colorscale": [
             [
              0,
              "#000011"
             ],
             [
              0.1111111111111111,
              "#000012"
             ],
             [
              0.2222222222222222,
              "#000013"
             ],
             [
              0.3333333333333333,
              "#000014"
             ],
             [
              0.4444444444444444,
              "#000015"
             ],
             [
              0.5555555555555556,
              "#000016"
             ],
             [
              0.6666666666666666,
              "#000017"
             ],
             [
              0.7777777777777778,
              "#000018"
             ],
             [
              0.8888888888888888,
              "#000019"
             ],
             [
              1,
              "#000020"
             ]
            ],
            "type": "contourcarpet"
           }
          ],
          "heatmap": [
           {
            "colorscale": [
             [
              0,
              "#000011"
             ],
             [
              0.1111111111111111,
              "#000012"
             ],
             [
              0.2222222222222222,
              "#000013"
             ],
             [
              0.3333333333333333,
              "#000014"
             ],
             [
              0.4444444444444444,
              "#000015"
             ],
             [
              0.5555555555555556,
              "#000016"
             ],
             [
              0.6666666666666666,
              "#000017"
             ],
             [
              0.7777777777777778,
              "#000018"
             ],
             [
              0.8888888888888888,
              "#000019"
             ],
             [
              1,
              "#000020"
             ]
            ],
            "type": "heatmap"
           }
          ],
          "histogram2d": [
           {
            "colorscale": [
             [
              0,
              "#000011"
             ],
             [
              0.1111111111111111,
              "#000012"
             ],
             [
              0.2222222222222222,
              "#000013"
             ],
             [
              0.3333333333333333,
              "#000014"
             ],
             [
              0.4444444444444444,
              "#000015"
             ],
             [
              0.5555555555555556,
              "#000016"
             ],
             [
              0.6666666666666666,
              "#000017"
             ],
             [
              0.7777777777777778,
              "#000018"
             ],
             [
              0.8888888888888888,
              "#000019"
             ],
             [
              1,
              "#000020"
             ]
            ],
            "type": "histogram2d"
           }
          ],
          "icicle": [
           {
            "textfont": {
             "color": "white"
            },
            "type": "icicle"
           }
          ],
          "sankey": [
           {
            "textfont": {
             "color": "#000036"
            },
            "type": "sankey"
           }
          ],
          "scatter": [
           {
            "marker": {
             "line": {
              "width": 0
             }
            },
            "type": "scatter"
           }
          ],
          "table": [
           {
            "cells": {
             "fill": {
              "color": "#000038"
             },
             "font": {
              "color": "#000037"
             },
             "line": {
              "color": "#000039"
             }
            },
            "header": {
             "fill": {
              "color": "#000040"
             },
             "font": {
              "color": "#000036"
             },
             "line": {
              "color": "#000039"
             }
            },
            "type": "table"
           }
          ],
          "waterfall": [
           {
            "connector": {
             "line": {
              "color": "#000036",
              "width": 2
             }
            },
            "decreasing": {
             "marker": {
              "color": "#000033"
             }
            },
            "increasing": {
             "marker": {
              "color": "#000032"
             }
            },
            "totals": {
             "marker": {
              "color": "#000034"
             }
            },
            "type": "waterfall"
           }
          ]
         },
         "layout": {
          "coloraxis": {
           "colorscale": [
            [
             0,
             "#000011"
            ],
            [
             0.1111111111111111,
             "#000012"
            ],
            [
             0.2222222222222222,
             "#000013"
            ],
            [
             0.3333333333333333,
             "#000014"
            ],
            [
             0.4444444444444444,
             "#000015"
            ],
            [
             0.5555555555555556,
             "#000016"
            ],
            [
             0.6666666666666666,
             "#000017"
            ],
            [
             0.7777777777777778,
             "#000018"
            ],
            [
             0.8888888888888888,
             "#000019"
            ],
            [
             1,
             "#000020"
            ]
           ]
          },
          "colorscale": {
           "diverging": [
            [
             0,
             "#000021"
            ],
            [
             0.1,
             "#000022"
            ],
            [
             0.2,
             "#000023"
            ],
            [
             0.3,
             "#000024"
            ],
            [
             0.4,
             "#000025"
            ],
            [
             0.5,
             "#000026"
            ],
            [
             0.6,
             "#000027"
            ],
            [
             0.7,
             "#000028"
            ],
            [
             0.8,
             "#000029"
            ],
            [
             0.9,
             "#000030"
            ],
            [
             1,
             "#000031"
            ]
           ],
           "sequential": [
            [
             0,
             "#000011"
            ],
            [
             0.1111111111111111,
             "#000012"
            ],
            [
             0.2222222222222222,
             "#000013"
            ],
            [
             0.3333333333333333,
             "#000014"
            ],
            [
             0.4444444444444444,
             "#000015"
            ],
            [
             0.5555555555555556,
             "#000016"
            ],
            [
             0.6666666666666666,
             "#000017"
            ],
            [
             0.7777777777777778,
             "#000018"
            ],
            [
             0.8888888888888888,
             "#000019"
            ],
            [
             1,
             "#000020"
            ]
           ],
           "sequentialminus": [
            [
             0,
             "#000011"
            ],
            [
             0.1111111111111111,
             "#000012"
            ],
            [
             0.2222222222222222,
             "#000013"
            ],
            [
             0.3333333333333333,
             "#000014"
            ],
            [
             0.4444444444444444,
             "#000015"
            ],
            [
             0.5555555555555556,
             "#000016"
            ],
            [
             0.6666666666666666,
             "#000017"
            ],
            [
             0.7777777777777778,
             "#000018"
            ],
            [
             0.8888888888888888,
             "#000019"
            ],
            [
             1,
             "#000020"
            ]
           ]
          },
          "colorway": [
           "#000001",
           "#000002",
           "#000003",
           "#000004",
           "#000005",
           "#000006",
           "#000007",
           "#000008",
           "#000009",
           "#000010"
          ]
         }
        },
        "title": {
         "text": "Distribuição de Casos por Comarca com Mérito Liminar/Tutela"
        }
       }
      }
     },
     "metadata": {},
     "output_type": "display_data"
    }
   ],
   "source": [
    "# Agrupando os dados para obter o resultado mais frequente e as contagens por comarca\n",
    "agrupado = casos.groupby('comarca').agg({\n",
    "    'latitude': 'first',\n",
    "    'longitude': 'first',\n",
    "    'aparições_comarca': 'count',\n",
    "    'Mérito Liminar/Tutela': lambda x: x.value_counts().idxmax()\n",
    "}).reset_index()\n",
    "\n",
    "# Contando o número de processos por categoria em cada comarca\n",
    "contagem_resultados = casos.groupby(['comarca', 'Mérito Liminar/Tutela']).size().unstack(fill_value=0).reset_index()\n",
    "\n",
    "# Mesclando as contagens ao DataFrame agrupado\n",
    "agrupado = agrupado.merge(contagem_resultados, on='comarca', how='left')\n",
    "\n",
    "# Criando a coluna de hover com os detalhes necessários\n",
    "agrupado['hover_info'] = (\n",
    "    \"Comarca: \" + agrupado['comarca'] +\n",
    "    \"<br>Quantidade Total de Processos: \" + agrupado['aparições_comarca'].astype(str) +\n",
    "    \"<br>Favorável: \" + agrupado.get('Favorável', 0).astype(str) +\n",
    "    \"<br>Desfavorável: \" + agrupado.get('Desfavorável', 0).astype(str) +\n",
    "    \"<br>Parcialmente: \" + agrupado.get('Parcialmente', 0).astype(str) +\n",
    "    \"<br>Vazio: \" + agrupado.get('Vazio', 0).astype(str)\n",
    ")\n",
    "\n",
    "# Criando o scatter mapbox com os dados agrupados\n",
    "fig = px.scatter_mapbox(\n",
    "    agrupado,\n",
    "    lat=\"latitude\",\n",
    "    lon=\"longitude\",\n",
    "    color=\"Mérito Liminar/Tutela\",\n",
    "    size=\"aparições_comarca\",\n",
    "    hover_name=\"comarca\",\n",
    "    hover_data={\"hover_info\": True},\n",
    "    title=\"Distribuição de Casos por Comarca com Mérito Liminar/Tutela\",\n",
    "    mapbox_style=\"open-street-map\",\n",
    "    zoom=4,\n",
    "    size_max=30,\n",
    "    opacity=0.6,  # Tornando os círculos mais visíveis\n",
    "    color_discrete_sequence=px.colors.sequential.Viridis\n",
    ")\n",
    "\n",
    "# Ajustando a legenda e o layout\n",
    "fig.update_layout(\n",
    "    legend_title_text=\"Resultado Mais Frequente\",\n",
    "    legend=dict(\n",
    "        traceorder=\"normal\",\n",
    "        itemsizing='constant'\n",
    "    )\n",
    ")\n",
    "\n",
    "# Exibindo o mapa\n",
    "fig.show()"
   ]
  },
  {
   "cell_type": "markdown",
   "metadata": {},
   "source": [
    "#### Scatter Mapbox para Mérito na Sentença"
   ]
  },
  {
   "cell_type": "code",
   "execution_count": 88,
   "metadata": {},
   "outputs": [
    {
     "name": "stderr",
     "output_type": "stream",
     "text": [
      "C:\\Users\\pietra.araujo\\AppData\\Local\\Temp\\ipykernel_13584\\280483975.py:10: FutureWarning:\n",
      "\n",
      "The default of observed=False is deprecated and will be changed to True in a future version of pandas. Pass observed=False to retain current behavior or observed=True to adopt the future default and silence this warning.\n",
      "\n"
     ]
    },
    {
     "data": {
      "application/vnd.plotly.v1+json": {
       "config": {
        "plotlyServerURL": "https://plot.ly"
       },
       "data": [
        {
         "customdata": [
          [
           "Comarca: BARUERI<br>Quantidade Total de Processos: 1<br>Favorável: 0<br>Desfavorável: 0<br>Parcialmente: 1<br>Vazio: 0"
          ]
         ],
         "hovertemplate": "<b>%{hovertext}</b><br><br>Mérito na Sentença=Parcialmente<br>aparições_comarca=%{marker.size}<br>latitude=%{lat}<br>longitude=%{lon}<br>hover_info=%{customdata[0]}<extra></extra>",
         "hovertext": [
          "BARUERI"
         ],
         "lat": [
          -23.50506553185676
         ],
         "legendgroup": "Parcialmente",
         "lon": [
          -46.87635199536418
         ],
         "marker": {
          "color": "#440154",
          "opacity": 0.6,
          "size": [
           1
          ],
          "sizemode": "area",
          "sizeref": 0.01888888888888889
         },
         "mode": "markers",
         "name": "Parcialmente",
         "showlegend": true,
         "subplot": "mapbox",
         "type": "scattermapbox"
        },
        {
         "customdata": [
          [
           "Comarca: BAURU<br>Quantidade Total de Processos: 2<br>Favorável: 0<br>Desfavorável: 0<br>Parcialmente: 0<br>Vazio: 2"
          ],
          [
           "Comarca: BRASILIA<br>Quantidade Total de Processos: 15<br>Favorável: 1<br>Desfavorável: 1<br>Parcialmente: 0<br>Vazio: 12"
          ],
          [
           "Comarca: CURITIBA<br>Quantidade Total de Processos: 1<br>Favorável: 0<br>Desfavorável: 0<br>Parcialmente: 0<br>Vazio: 1"
          ],
          [
           "Comarca: SAO PAULO<br>Quantidade Total de Processos: 17<br>Favorável: 1<br>Desfavorável: 3<br>Parcialmente: 1<br>Vazio: 9"
          ]
         ],
         "hovertemplate": "<b>%{hovertext}</b><br><br>Mérito na Sentença=Vazio<br>aparições_comarca=%{marker.size}<br>latitude=%{lat}<br>longitude=%{lon}<br>hover_info=%{customdata[0]}<extra></extra>",
         "hovertext": [
          "BAURU",
          "BRASILIA",
          "CURITIBA",
          "SAO PAULO"
         ],
         "lat": [
          -22.25360883464175,
          -15.780699162586895,
          -25.47757997346855,
          -23.650225338676957
         ],
         "legendgroup": "Vazio",
         "lon": [
          -49.125787107965344,
          -47.79677225168662,
          -49.28770804340638,
          -46.64801277922462
         ],
         "marker": {
          "color": "#482878",
          "opacity": 0.6,
          "size": [
           2,
           15,
           1,
           17
          ],
          "sizemode": "area",
          "sizeref": 0.01888888888888889
         },
         "mode": "markers",
         "name": "Vazio",
         "showlegend": true,
         "subplot": "mapbox",
         "type": "scattermapbox"
        },
        {
         "customdata": [
          [
           "Comarca: CAMPINAS<br>Quantidade Total de Processos: 2<br>Favorável: 0<br>Desfavorável: 1<br>Parcialmente: 0<br>Vazio: 0"
          ]
         ],
         "hovertemplate": "<b>%{hovertext}</b><br><br>Mérito na Sentença=Desfavorável<br>aparições_comarca=%{marker.size}<br>latitude=%{lat}<br>longitude=%{lon}<br>hover_info=%{customdata[0]}<extra></extra>",
         "hovertext": [
          "CAMPINAS"
         ],
         "lat": [
          -22.883562463473083
         ],
         "legendgroup": "Desfavorável",
         "lon": [
          -47.04343008774881
         ],
         "marker": {
          "color": "#3e4989",
          "opacity": 0.6,
          "size": [
           2
          ],
          "sizemode": "area",
          "sizeref": 0.01888888888888889
         },
         "mode": "markers",
         "name": "Desfavorável",
         "showlegend": true,
         "subplot": "mapbox",
         "type": "scattermapbox"
        },
        {
         "customdata": [
          [
           "Comarca: JARAGUA DO SUL<br>Quantidade Total de Processos: 1<br>Favorável: 1<br>Desfavorável: 0<br>Parcialmente: 0<br>Vazio: 0"
          ]
         ],
         "hovertemplate": "<b>%{hovertext}</b><br><br>Mérito na Sentença=Favorável<br>aparições_comarca=%{marker.size}<br>latitude=%{lat}<br>longitude=%{lon}<br>hover_info=%{customdata[0]}<extra></extra>",
         "hovertext": [
          "JARAGUA DO SUL"
         ],
         "lat": [
          -26.480652819938626
         ],
         "legendgroup": "Favorável",
         "lon": [
          -49.15976596216289
         ],
         "marker": {
          "color": "#31688e",
          "opacity": 0.6,
          "size": [
           1
          ],
          "sizemode": "area",
          "sizeref": 0.01888888888888889
         },
         "mode": "markers",
         "name": "Favorável",
         "showlegend": true,
         "subplot": "mapbox",
         "type": "scattermapbox"
        }
       ],
       "layout": {
        "legend": {
         "itemsizing": "constant",
         "title": {
          "text": "Resultado Mais Frequente"
         },
         "tracegroupgap": 0,
         "traceorder": "normal"
        },
        "mapbox": {
         "center": {
          "lat": -22.8616277320918,
          "lon": -47.991118318222696
         },
         "domain": {
          "x": [
           0,
           1
          ],
          "y": [
           0,
           1
          ]
         },
         "style": "open-street-map",
         "zoom": 4
        },
        "template": {
         "data": {
          "candlestick": [
           {
            "decreasing": {
             "line": {
              "color": "#000033"
             }
            },
            "increasing": {
             "line": {
              "color": "#000032"
             }
            },
            "type": "candlestick"
           }
          ],
          "contour": [
           {
            "colorscale": [
             [
              0,
              "#000011"
             ],
             [
              0.1111111111111111,
              "#000012"
             ],
             [
              0.2222222222222222,
              "#000013"
             ],
             [
              0.3333333333333333,
              "#000014"
             ],
             [
              0.4444444444444444,
              "#000015"
             ],
             [
              0.5555555555555556,
              "#000016"
             ],
             [
              0.6666666666666666,
              "#000017"
             ],
             [
              0.7777777777777778,
              "#000018"
             ],
             [
              0.8888888888888888,
              "#000019"
             ],
             [
              1,
              "#000020"
             ]
            ],
            "type": "contour"
           }
          ],
          "contourcarpet": [
           {
            "colorscale": [
             [
              0,
              "#000011"
             ],
             [
              0.1111111111111111,
              "#000012"
             ],
             [
              0.2222222222222222,
              "#000013"
             ],
             [
              0.3333333333333333,
              "#000014"
             ],
             [
              0.4444444444444444,
              "#000015"
             ],
             [
              0.5555555555555556,
              "#000016"
             ],
             [
              0.6666666666666666,
              "#000017"
             ],
             [
              0.7777777777777778,
              "#000018"
             ],
             [
              0.8888888888888888,
              "#000019"
             ],
             [
              1,
              "#000020"
             ]
            ],
            "type": "contourcarpet"
           }
          ],
          "heatmap": [
           {
            "colorscale": [
             [
              0,
              "#000011"
             ],
             [
              0.1111111111111111,
              "#000012"
             ],
             [
              0.2222222222222222,
              "#000013"
             ],
             [
              0.3333333333333333,
              "#000014"
             ],
             [
              0.4444444444444444,
              "#000015"
             ],
             [
              0.5555555555555556,
              "#000016"
             ],
             [
              0.6666666666666666,
              "#000017"
             ],
             [
              0.7777777777777778,
              "#000018"
             ],
             [
              0.8888888888888888,
              "#000019"
             ],
             [
              1,
              "#000020"
             ]
            ],
            "type": "heatmap"
           }
          ],
          "histogram2d": [
           {
            "colorscale": [
             [
              0,
              "#000011"
             ],
             [
              0.1111111111111111,
              "#000012"
             ],
             [
              0.2222222222222222,
              "#000013"
             ],
             [
              0.3333333333333333,
              "#000014"
             ],
             [
              0.4444444444444444,
              "#000015"
             ],
             [
              0.5555555555555556,
              "#000016"
             ],
             [
              0.6666666666666666,
              "#000017"
             ],
             [
              0.7777777777777778,
              "#000018"
             ],
             [
              0.8888888888888888,
              "#000019"
             ],
             [
              1,
              "#000020"
             ]
            ],
            "type": "histogram2d"
           }
          ],
          "icicle": [
           {
            "textfont": {
             "color": "white"
            },
            "type": "icicle"
           }
          ],
          "sankey": [
           {
            "textfont": {
             "color": "#000036"
            },
            "type": "sankey"
           }
          ],
          "scatter": [
           {
            "marker": {
             "line": {
              "width": 0
             }
            },
            "type": "scatter"
           }
          ],
          "table": [
           {
            "cells": {
             "fill": {
              "color": "#000038"
             },
             "font": {
              "color": "#000037"
             },
             "line": {
              "color": "#000039"
             }
            },
            "header": {
             "fill": {
              "color": "#000040"
             },
             "font": {
              "color": "#000036"
             },
             "line": {
              "color": "#000039"
             }
            },
            "type": "table"
           }
          ],
          "waterfall": [
           {
            "connector": {
             "line": {
              "color": "#000036",
              "width": 2
             }
            },
            "decreasing": {
             "marker": {
              "color": "#000033"
             }
            },
            "increasing": {
             "marker": {
              "color": "#000032"
             }
            },
            "totals": {
             "marker": {
              "color": "#000034"
             }
            },
            "type": "waterfall"
           }
          ]
         },
         "layout": {
          "coloraxis": {
           "colorscale": [
            [
             0,
             "#000011"
            ],
            [
             0.1111111111111111,
             "#000012"
            ],
            [
             0.2222222222222222,
             "#000013"
            ],
            [
             0.3333333333333333,
             "#000014"
            ],
            [
             0.4444444444444444,
             "#000015"
            ],
            [
             0.5555555555555556,
             "#000016"
            ],
            [
             0.6666666666666666,
             "#000017"
            ],
            [
             0.7777777777777778,
             "#000018"
            ],
            [
             0.8888888888888888,
             "#000019"
            ],
            [
             1,
             "#000020"
            ]
           ]
          },
          "colorscale": {
           "diverging": [
            [
             0,
             "#000021"
            ],
            [
             0.1,
             "#000022"
            ],
            [
             0.2,
             "#000023"
            ],
            [
             0.3,
             "#000024"
            ],
            [
             0.4,
             "#000025"
            ],
            [
             0.5,
             "#000026"
            ],
            [
             0.6,
             "#000027"
            ],
            [
             0.7,
             "#000028"
            ],
            [
             0.8,
             "#000029"
            ],
            [
             0.9,
             "#000030"
            ],
            [
             1,
             "#000031"
            ]
           ],
           "sequential": [
            [
             0,
             "#000011"
            ],
            [
             0.1111111111111111,
             "#000012"
            ],
            [
             0.2222222222222222,
             "#000013"
            ],
            [
             0.3333333333333333,
             "#000014"
            ],
            [
             0.4444444444444444,
             "#000015"
            ],
            [
             0.5555555555555556,
             "#000016"
            ],
            [
             0.6666666666666666,
             "#000017"
            ],
            [
             0.7777777777777778,
             "#000018"
            ],
            [
             0.8888888888888888,
             "#000019"
            ],
            [
             1,
             "#000020"
            ]
           ],
           "sequentialminus": [
            [
             0,
             "#000011"
            ],
            [
             0.1111111111111111,
             "#000012"
            ],
            [
             0.2222222222222222,
             "#000013"
            ],
            [
             0.3333333333333333,
             "#000014"
            ],
            [
             0.4444444444444444,
             "#000015"
            ],
            [
             0.5555555555555556,
             "#000016"
            ],
            [
             0.6666666666666666,
             "#000017"
            ],
            [
             0.7777777777777778,
             "#000018"
            ],
            [
             0.8888888888888888,
             "#000019"
            ],
            [
             1,
             "#000020"
            ]
           ]
          },
          "colorway": [
           "#000001",
           "#000002",
           "#000003",
           "#000004",
           "#000005",
           "#000006",
           "#000007",
           "#000008",
           "#000009",
           "#000010"
          ]
         }
        },
        "title": {
         "text": "Distribuição de Casos por Comarca com Mérito na Sentença"
        }
       }
      }
     },
     "metadata": {},
     "output_type": "display_data"
    }
   ],
   "source": [
    "# Agrupando os dados para obter o resultado mais frequente e as contagens por comarca\n",
    "agrupado = casos.groupby('comarca').agg({\n",
    "    'latitude': 'first',\n",
    "    'longitude': 'first',\n",
    "    'aparições_comarca': 'count',\n",
    "    'Mérito na Sentença': lambda x: x.value_counts().idxmax()  # Agora para \"Mérito na Sentença\"\n",
    "}).reset_index()\n",
    "\n",
    "# Contando o número de processos por categoria em cada comarca para \"Mérito na Sentença\"\n",
    "contagem_resultados = casos.groupby(['comarca', 'Mérito na Sentença']).size().unstack(fill_value=0).reset_index()\n",
    "\n",
    "# Mesclando as contagens ao DataFrame agrupado\n",
    "agrupado = agrupado.merge(contagem_resultados, on='comarca', how='left')\n",
    "\n",
    "# Criando a coluna de hover com os detalhes necessários\n",
    "agrupado['hover_info'] = (\n",
    "    \"Comarca: \" + agrupado['comarca'] +\n",
    "    \"<br>Quantidade Total de Processos: \" + agrupado['aparições_comarca'].astype(str) +\n",
    "    \"<br>Favorável: \" + agrupado.get('Favorável', 0).astype(str) +\n",
    "    \"<br>Desfavorável: \" + agrupado.get('Desfavorável', 0).astype(str) +\n",
    "    \"<br>Parcialmente: \" + agrupado.get('Parcialmente', 0).astype(str) +\n",
    "    \"<br>Vazio: \" + agrupado.get('Vazio', 0).astype(str)\n",
    ")\n",
    "\n",
    "# Criando o scatter mapbox com os dados agrupados\n",
    "fig = px.scatter_mapbox(\n",
    "    agrupado,\n",
    "    lat=\"latitude\",\n",
    "    lon=\"longitude\",\n",
    "    color=\"Mérito na Sentença\",  # Alterado para \"Mérito na Sentença\"\n",
    "    size=\"aparições_comarca\",\n",
    "    hover_name=\"comarca\",\n",
    "    hover_data={\"hover_info\": True},\n",
    "    title=\"Distribuição de Casos por Comarca com Mérito na Sentença\",\n",
    "    mapbox_style=\"open-street-map\",\n",
    "    zoom=4,\n",
    "    size_max=30,\n",
    "    opacity=0.6,  # Tornando os círculos mais visíveis\n",
    "    color_discrete_sequence=px.colors.sequential.Viridis\n",
    ")\n",
    "\n",
    "# Ajustando a legenda e o layout\n",
    "fig.update_layout(\n",
    "    legend_title_text=\"Resultado Mais Frequente\",\n",
    "    legend=dict(\n",
    "        traceorder=\"normal\",\n",
    "        itemsizing='constant'\n",
    "    )\n",
    ")\n",
    "\n",
    "# Exibindo o mapa\n",
    "fig.show()"
   ]
  },
  {
   "cell_type": "markdown",
   "metadata": {},
   "source": [
    "#### Scatter Mapbox para Mérito no Acórdão"
   ]
  },
  {
   "cell_type": "code",
   "execution_count": 89,
   "metadata": {},
   "outputs": [
    {
     "name": "stderr",
     "output_type": "stream",
     "text": [
      "C:\\Users\\pietra.araujo\\AppData\\Local\\Temp\\ipykernel_13584\\3977374387.py:10: FutureWarning:\n",
      "\n",
      "The default of observed=False is deprecated and will be changed to True in a future version of pandas. Pass observed=False to retain current behavior or observed=True to adopt the future default and silence this warning.\n",
      "\n"
     ]
    },
    {
     "data": {
      "application/vnd.plotly.v1+json": {
       "config": {
        "plotlyServerURL": "https://plot.ly"
       },
       "data": [
        {
         "customdata": [
          [
           "Comarca: BARUERI<br>Quantidade Total de Processos: 1<br>Favorável: 0<br>Desfavorável: 0<br>Parcialmente: 0<br>Vazio: 1"
          ],
          [
           "Comarca: BAURU<br>Quantidade Total de Processos: 2<br>Favorável: 0<br>Desfavorável: 0<br>Parcialmente: 0<br>Vazio: 2"
          ],
          [
           "Comarca: BRASILIA<br>Quantidade Total de Processos: 15<br>Favorável: 0<br>Desfavorável: 0<br>Parcialmente: 0<br>Vazio: 15"
          ],
          [
           "Comarca: CAMPINAS<br>Quantidade Total de Processos: 2<br>Favorável: 0<br>Desfavorável: 0<br>Parcialmente: 0<br>Vazio: 2"
          ],
          [
           "Comarca: CURITIBA<br>Quantidade Total de Processos: 1<br>Favorável: 0<br>Desfavorável: 0<br>Parcialmente: 0<br>Vazio: 1"
          ],
          [
           "Comarca: JARAGUA DO SUL<br>Quantidade Total de Processos: 1<br>Favorável: 0<br>Desfavorável: 0<br>Parcialmente: 0<br>Vazio: 1"
          ],
          [
           "Comarca: SAO PAULO<br>Quantidade Total de Processos: 17<br>Favorável: 1<br>Desfavorável: 2<br>Parcialmente: 0<br>Vazio: 14"
          ]
         ],
         "hovertemplate": "<b>%{hovertext}</b><br><br>Mérito no Acórdão=Vazio<br>aparições_comarca=%{marker.size}<br>latitude=%{lat}<br>longitude=%{lon}<br>hover_info=%{customdata[0]}<extra></extra>",
         "hovertext": [
          "BARUERI",
          "BAURU",
          "BRASILIA",
          "CAMPINAS",
          "CURITIBA",
          "JARAGUA DO SUL",
          "SAO PAULO"
         ],
         "lat": [
          -23.50506553185676,
          -22.25360883464175,
          -15.780699162586895,
          -22.883562463473083,
          -25.47757997346855,
          -26.480652819938626,
          -23.650225338676957
         ],
         "legendgroup": "Vazio",
         "lon": [
          -46.87635199536418,
          -49.125787107965344,
          -47.79677225168662,
          -47.04343008774881,
          -49.28770804340638,
          -49.15976596216289,
          -46.64801277922462
         ],
         "marker": {
          "color": "#440154",
          "opacity": 0.6,
          "size": [
           1,
           2,
           15,
           2,
           1,
           1,
           17
          ],
          "sizemode": "area",
          "sizeref": 0.01888888888888889
         },
         "mode": "markers",
         "name": "Vazio",
         "showlegend": true,
         "subplot": "mapbox",
         "type": "scattermapbox"
        }
       ],
       "layout": {
        "legend": {
         "itemsizing": "constant",
         "title": {
          "text": "Resultado Mais Frequente"
         },
         "tracegroupgap": 0,
         "traceorder": "normal"
        },
        "mapbox": {
         "center": {
          "lat": -22.8616277320918,
          "lon": -47.991118318222696
         },
         "domain": {
          "x": [
           0,
           1
          ],
          "y": [
           0,
           1
          ]
         },
         "style": "open-street-map",
         "zoom": 4
        },
        "template": {
         "data": {
          "candlestick": [
           {
            "decreasing": {
             "line": {
              "color": "#000033"
             }
            },
            "increasing": {
             "line": {
              "color": "#000032"
             }
            },
            "type": "candlestick"
           }
          ],
          "contour": [
           {
            "colorscale": [
             [
              0,
              "#000011"
             ],
             [
              0.1111111111111111,
              "#000012"
             ],
             [
              0.2222222222222222,
              "#000013"
             ],
             [
              0.3333333333333333,
              "#000014"
             ],
             [
              0.4444444444444444,
              "#000015"
             ],
             [
              0.5555555555555556,
              "#000016"
             ],
             [
              0.6666666666666666,
              "#000017"
             ],
             [
              0.7777777777777778,
              "#000018"
             ],
             [
              0.8888888888888888,
              "#000019"
             ],
             [
              1,
              "#000020"
             ]
            ],
            "type": "contour"
           }
          ],
          "contourcarpet": [
           {
            "colorscale": [
             [
              0,
              "#000011"
             ],
             [
              0.1111111111111111,
              "#000012"
             ],
             [
              0.2222222222222222,
              "#000013"
             ],
             [
              0.3333333333333333,
              "#000014"
             ],
             [
              0.4444444444444444,
              "#000015"
             ],
             [
              0.5555555555555556,
              "#000016"
             ],
             [
              0.6666666666666666,
              "#000017"
             ],
             [
              0.7777777777777778,
              "#000018"
             ],
             [
              0.8888888888888888,
              "#000019"
             ],
             [
              1,
              "#000020"
             ]
            ],
            "type": "contourcarpet"
           }
          ],
          "heatmap": [
           {
            "colorscale": [
             [
              0,
              "#000011"
             ],
             [
              0.1111111111111111,
              "#000012"
             ],
             [
              0.2222222222222222,
              "#000013"
             ],
             [
              0.3333333333333333,
              "#000014"
             ],
             [
              0.4444444444444444,
              "#000015"
             ],
             [
              0.5555555555555556,
              "#000016"
             ],
             [
              0.6666666666666666,
              "#000017"
             ],
             [
              0.7777777777777778,
              "#000018"
             ],
             [
              0.8888888888888888,
              "#000019"
             ],
             [
              1,
              "#000020"
             ]
            ],
            "type": "heatmap"
           }
          ],
          "histogram2d": [
           {
            "colorscale": [
             [
              0,
              "#000011"
             ],
             [
              0.1111111111111111,
              "#000012"
             ],
             [
              0.2222222222222222,
              "#000013"
             ],
             [
              0.3333333333333333,
              "#000014"
             ],
             [
              0.4444444444444444,
              "#000015"
             ],
             [
              0.5555555555555556,
              "#000016"
             ],
             [
              0.6666666666666666,
              "#000017"
             ],
             [
              0.7777777777777778,
              "#000018"
             ],
             [
              0.8888888888888888,
              "#000019"
             ],
             [
              1,
              "#000020"
             ]
            ],
            "type": "histogram2d"
           }
          ],
          "icicle": [
           {
            "textfont": {
             "color": "white"
            },
            "type": "icicle"
           }
          ],
          "sankey": [
           {
            "textfont": {
             "color": "#000036"
            },
            "type": "sankey"
           }
          ],
          "scatter": [
           {
            "marker": {
             "line": {
              "width": 0
             }
            },
            "type": "scatter"
           }
          ],
          "table": [
           {
            "cells": {
             "fill": {
              "color": "#000038"
             },
             "font": {
              "color": "#000037"
             },
             "line": {
              "color": "#000039"
             }
            },
            "header": {
             "fill": {
              "color": "#000040"
             },
             "font": {
              "color": "#000036"
             },
             "line": {
              "color": "#000039"
             }
            },
            "type": "table"
           }
          ],
          "waterfall": [
           {
            "connector": {
             "line": {
              "color": "#000036",
              "width": 2
             }
            },
            "decreasing": {
             "marker": {
              "color": "#000033"
             }
            },
            "increasing": {
             "marker": {
              "color": "#000032"
             }
            },
            "totals": {
             "marker": {
              "color": "#000034"
             }
            },
            "type": "waterfall"
           }
          ]
         },
         "layout": {
          "coloraxis": {
           "colorscale": [
            [
             0,
             "#000011"
            ],
            [
             0.1111111111111111,
             "#000012"
            ],
            [
             0.2222222222222222,
             "#000013"
            ],
            [
             0.3333333333333333,
             "#000014"
            ],
            [
             0.4444444444444444,
             "#000015"
            ],
            [
             0.5555555555555556,
             "#000016"
            ],
            [
             0.6666666666666666,
             "#000017"
            ],
            [
             0.7777777777777778,
             "#000018"
            ],
            [
             0.8888888888888888,
             "#000019"
            ],
            [
             1,
             "#000020"
            ]
           ]
          },
          "colorscale": {
           "diverging": [
            [
             0,
             "#000021"
            ],
            [
             0.1,
             "#000022"
            ],
            [
             0.2,
             "#000023"
            ],
            [
             0.3,
             "#000024"
            ],
            [
             0.4,
             "#000025"
            ],
            [
             0.5,
             "#000026"
            ],
            [
             0.6,
             "#000027"
            ],
            [
             0.7,
             "#000028"
            ],
            [
             0.8,
             "#000029"
            ],
            [
             0.9,
             "#000030"
            ],
            [
             1,
             "#000031"
            ]
           ],
           "sequential": [
            [
             0,
             "#000011"
            ],
            [
             0.1111111111111111,
             "#000012"
            ],
            [
             0.2222222222222222,
             "#000013"
            ],
            [
             0.3333333333333333,
             "#000014"
            ],
            [
             0.4444444444444444,
             "#000015"
            ],
            [
             0.5555555555555556,
             "#000016"
            ],
            [
             0.6666666666666666,
             "#000017"
            ],
            [
             0.7777777777777778,
             "#000018"
            ],
            [
             0.8888888888888888,
             "#000019"
            ],
            [
             1,
             "#000020"
            ]
           ],
           "sequentialminus": [
            [
             0,
             "#000011"
            ],
            [
             0.1111111111111111,
             "#000012"
            ],
            [
             0.2222222222222222,
             "#000013"
            ],
            [
             0.3333333333333333,
             "#000014"
            ],
            [
             0.4444444444444444,
             "#000015"
            ],
            [
             0.5555555555555556,
             "#000016"
            ],
            [
             0.6666666666666666,
             "#000017"
            ],
            [
             0.7777777777777778,
             "#000018"
            ],
            [
             0.8888888888888888,
             "#000019"
            ],
            [
             1,
             "#000020"
            ]
           ]
          },
          "colorway": [
           "#000001",
           "#000002",
           "#000003",
           "#000004",
           "#000005",
           "#000006",
           "#000007",
           "#000008",
           "#000009",
           "#000010"
          ]
         }
        },
        "title": {
         "text": "Distribuição de Casos por Comarca com Mérito no Acórdão"
        }
       }
      }
     },
     "metadata": {},
     "output_type": "display_data"
    }
   ],
   "source": [
    "# Agrupando os dados para obter o resultado mais frequente e as contagens por comarca\n",
    "agrupado = casos.groupby('comarca').agg({\n",
    "    'latitude': 'first',\n",
    "    'longitude': 'first',\n",
    "    'aparições_comarca': 'count',\n",
    "    'Mérito no Acórdão': lambda x: x.value_counts().idxmax()  # Agora para \"Mérito no Acórdão\"\n",
    "}).reset_index()\n",
    "\n",
    "# Contando o número de processos por categoria em cada comarca para \"Mérito no Acórdão\"\n",
    "contagem_resultados = casos.groupby(['comarca', 'Mérito no Acórdão']).size().unstack(fill_value=0).reset_index()\n",
    "\n",
    "# Mesclando as contagens ao DataFrame agrupado\n",
    "agrupado = agrupado.merge(contagem_resultados, on='comarca', how='left')\n",
    "\n",
    "# Criando a coluna de hover com os detalhes necessários\n",
    "agrupado['hover_info'] = (\n",
    "    \"Comarca: \" + agrupado['comarca'] +\n",
    "    \"<br>Quantidade Total de Processos: \" + agrupado['aparições_comarca'].astype(str) +\n",
    "    \"<br>Favorável: \" + agrupado.get('Favorável', 0).astype(str) +\n",
    "    \"<br>Desfavorável: \" + agrupado.get('Desfavorável', 0).astype(str) +\n",
    "    \"<br>Parcialmente: \" + agrupado.get('Parcialmente', 0).astype(str) +\n",
    "    \"<br>Vazio: \" + agrupado.get('Vazio', 0).astype(str)\n",
    ")\n",
    "\n",
    "# Criando o scatter mapbox com os dados agrupados\n",
    "fig = px.scatter_mapbox(\n",
    "    agrupado,\n",
    "    lat=\"latitude\",\n",
    "    lon=\"longitude\",\n",
    "    color=\"Mérito no Acórdão\",  # Alterado para \"Mérito no Acórdão\"\n",
    "    size=\"aparições_comarca\",\n",
    "    hover_name=\"comarca\",\n",
    "    hover_data={\"hover_info\": True},\n",
    "    title=\"Distribuição de Casos por Comarca com Mérito no Acórdão\",\n",
    "    mapbox_style=\"open-street-map\",\n",
    "    zoom=4,\n",
    "    size_max=30,\n",
    "    opacity=0.6,  # Tornando os círculos mais visíveis\n",
    "    color_discrete_sequence=px.colors.sequential.Viridis\n",
    ")\n",
    "\n",
    "# Ajustando a legenda e o layout\n",
    "fig.update_layout(\n",
    "    legend_title_text=\"Resultado Mais Frequente\",\n",
    "    legend=dict(\n",
    "        traceorder=\"normal\",\n",
    "        itemsizing='constant'\n",
    "    )\n",
    ")\n",
    "\n",
    "# Exibindo o mapa\n",
    "fig.show()"
   ]
  },
  {
   "cell_type": "markdown",
   "metadata": {},
   "source": [
    "#### Scatter Mapbox para Empresa-Veículo"
   ]
  },
  {
   "cell_type": "code",
   "execution_count": 85,
   "metadata": {},
   "outputs": [
    {
     "data": {
      "application/vnd.plotly.v1+json": {
       "config": {
        "plotlyServerURL": "https://plot.ly"
       },
       "data": [
        {
         "customdata": [
          [
           0,
           0,
           -26.480652819938626,
           -49.28770804340638
          ],
          [
           0,
           0,
           -26.480652819938626,
           -49.15976596216289
          ],
          [
           0,
           0,
           -26.480652819938626,
           -49.125787107965344
          ],
          [
           0,
           0,
           -26.480652819938626,
           -47.79677225168662
          ],
          [
           0,
           0,
           -26.480652819938626,
           -47.04343008774881
          ],
          [
           0,
           0,
           -26.480652819938626,
           -46.87635199536418
          ],
          [
           0,
           0,
           -26.480652819938626,
           -46.64801277922462
          ],
          [
           0,
           0,
           -25.47757997346855,
           -49.28770804340638
          ],
          [
           0,
           0,
           -25.47757997346855,
           -49.15976596216289
          ],
          [
           0,
           0,
           -25.47757997346855,
           -49.125787107965344
          ],
          [
           0,
           0,
           -25.47757997346855,
           -47.79677225168662
          ],
          [
           0,
           0,
           -25.47757997346855,
           -47.04343008774881
          ],
          [
           0,
           0,
           -25.47757997346855,
           -46.87635199536418
          ],
          [
           0,
           0,
           -25.47757997346855,
           -46.64801277922462
          ],
          [
           0,
           0,
           -23.650225338676957,
           -49.28770804340638
          ],
          [
           0,
           0,
           -23.650225338676957,
           -49.15976596216289
          ],
          [
           0,
           0,
           -23.650225338676957,
           -49.125787107965344
          ],
          [
           0,
           0,
           -23.650225338676957,
           -47.79677225168662
          ],
          [
           0,
           0,
           -23.650225338676957,
           -47.04343008774881
          ],
          [
           0,
           0,
           -23.650225338676957,
           -46.87635199536418
          ],
          [
           0,
           0,
           -23.650225338676957,
           -46.64801277922462
          ],
          [
           0,
           0,
           -23.50506553185676,
           -49.28770804340638
          ],
          [
           0,
           0,
           -23.50506553185676,
           -49.15976596216289
          ],
          [
           0,
           0,
           -23.50506553185676,
           -49.125787107965344
          ],
          [
           0,
           0,
           -23.50506553185676,
           -47.79677225168662
          ],
          [
           0,
           0,
           -23.50506553185676,
           -47.04343008774881
          ],
          [
           0,
           0,
           -23.50506553185676,
           -46.64801277922462
          ],
          [
           0,
           0,
           -22.883562463473083,
           -49.28770804340638
          ],
          [
           0,
           0,
           -22.883562463473083,
           -49.15976596216289
          ],
          [
           0,
           0,
           -22.883562463473083,
           -49.125787107965344
          ],
          [
           0,
           0,
           -22.883562463473083,
           -47.79677225168662
          ],
          [
           0,
           0,
           -22.883562463473083,
           -47.04343008774881
          ],
          [
           0,
           0,
           -22.883562463473083,
           -46.87635199536418
          ],
          [
           0,
           0,
           -22.883562463473083,
           -46.64801277922462
          ],
          [
           0,
           0,
           -22.25360883464175,
           -49.28770804340638
          ],
          [
           0,
           0,
           -22.25360883464175,
           -49.15976596216289
          ],
          [
           0,
           0,
           -22.25360883464175,
           -49.125787107965344
          ],
          [
           0,
           0,
           -22.25360883464175,
           -47.79677225168662
          ],
          [
           0,
           0,
           -22.25360883464175,
           -47.04343008774881
          ],
          [
           0,
           0,
           -22.25360883464175,
           -46.87635199536418
          ],
          [
           0,
           0,
           -22.25360883464175,
           -46.64801277922462
          ],
          [
           0,
           0,
           -15.780699162586895,
           -49.28770804340638
          ],
          [
           0,
           0,
           -15.780699162586895,
           -49.15976596216289
          ],
          [
           0,
           0,
           -15.780699162586895,
           -49.125787107965344
          ],
          [
           0,
           0,
           -15.780699162586895,
           -47.79677225168662
          ],
          [
           0,
           0,
           -15.780699162586895,
           -47.04343008774881
          ],
          [
           0,
           0,
           -15.780699162586895,
           -46.87635199536418
          ],
          [
           0,
           0,
           -15.780699162586895,
           -46.64801277922462
          ],
          [
           0,
           0,
           -26.480652819938626,
           -49.28770804340638
          ],
          [
           0,
           0,
           -26.480652819938626,
           -49.15976596216289
          ],
          [
           0,
           0,
           -26.480652819938626,
           -49.125787107965344
          ],
          [
           0,
           0,
           -26.480652819938626,
           -47.79677225168662
          ],
          [
           0,
           0,
           -26.480652819938626,
           -47.04343008774881
          ],
          [
           0,
           0,
           -26.480652819938626,
           -46.87635199536418
          ],
          [
           0,
           0,
           -26.480652819938626,
           -46.64801277922462
          ],
          [
           0,
           0,
           -25.47757997346855,
           -49.28770804340638
          ],
          [
           0,
           0,
           -25.47757997346855,
           -49.15976596216289
          ],
          [
           0,
           0,
           -25.47757997346855,
           -49.125787107965344
          ],
          [
           0,
           0,
           -25.47757997346855,
           -47.79677225168662
          ],
          [
           0,
           0,
           -25.47757997346855,
           -47.04343008774881
          ],
          [
           0,
           0,
           -25.47757997346855,
           -46.87635199536418
          ],
          [
           0,
           0,
           -25.47757997346855,
           -46.64801277922462
          ],
          [
           0,
           0,
           -23.650225338676957,
           -49.28770804340638
          ],
          [
           0,
           0,
           -23.650225338676957,
           -49.15976596216289
          ],
          [
           0,
           0,
           -23.650225338676957,
           -49.125787107965344
          ],
          [
           0,
           0,
           -23.650225338676957,
           -47.79677225168662
          ],
          [
           0,
           0,
           -23.650225338676957,
           -47.04343008774881
          ],
          [
           0,
           0,
           -23.650225338676957,
           -46.87635199536418
          ],
          [
           0,
           0,
           -23.650225338676957,
           -46.64801277922462
          ],
          [
           0,
           0,
           -23.50506553185676,
           -49.28770804340638
          ],
          [
           0,
           0,
           -23.50506553185676,
           -49.15976596216289
          ],
          [
           0,
           0,
           -23.50506553185676,
           -49.125787107965344
          ],
          [
           0,
           0,
           -23.50506553185676,
           -47.79677225168662
          ],
          [
           0,
           0,
           -23.50506553185676,
           -47.04343008774881
          ],
          [
           0,
           0,
           -23.50506553185676,
           -46.87635199536418
          ],
          [
           0,
           0,
           -23.50506553185676,
           -46.64801277922462
          ],
          [
           0,
           0,
           -22.883562463473083,
           -49.28770804340638
          ],
          [
           0,
           0,
           -22.883562463473083,
           -49.15976596216289
          ],
          [
           0,
           0,
           -22.883562463473083,
           -49.125787107965344
          ],
          [
           0,
           0,
           -22.883562463473083,
           -47.79677225168662
          ],
          [
           0,
           0,
           -22.883562463473083,
           -47.04343008774881
          ],
          [
           0,
           0,
           -22.883562463473083,
           -46.87635199536418
          ],
          [
           0,
           0,
           -22.883562463473083,
           -46.64801277922462
          ],
          [
           0,
           0,
           -22.25360883464175,
           -49.28770804340638
          ],
          [
           0,
           0,
           -22.25360883464175,
           -49.15976596216289
          ],
          [
           1,
           1,
           -22.25360883464175,
           -49.125787107965344
          ],
          [
           0,
           0,
           -22.25360883464175,
           -47.79677225168662
          ],
          [
           0,
           0,
           -22.25360883464175,
           -47.04343008774881
          ],
          [
           0,
           0,
           -22.25360883464175,
           -46.87635199536418
          ],
          [
           0,
           0,
           -22.25360883464175,
           -46.64801277922462
          ],
          [
           0,
           0,
           -15.780699162586895,
           -49.28770804340638
          ],
          [
           0,
           0,
           -15.780699162586895,
           -49.15976596216289
          ],
          [
           0,
           0,
           -15.780699162586895,
           -49.125787107965344
          ],
          [
           0,
           0,
           -15.780699162586895,
           -47.79677225168662
          ],
          [
           0,
           0,
           -15.780699162586895,
           -47.04343008774881
          ],
          [
           0,
           0,
           -15.780699162586895,
           -46.87635199536418
          ],
          [
           0,
           0,
           -15.780699162586895,
           -46.64801277922462
          ],
          [
           0,
           0,
           -26.480652819938626,
           -49.28770804340638
          ],
          [
           0,
           0,
           -26.480652819938626,
           -49.15976596216289
          ],
          [
           0,
           0,
           -26.480652819938626,
           -49.125787107965344
          ],
          [
           0,
           0,
           -26.480652819938626,
           -47.79677225168662
          ],
          [
           0,
           0,
           -26.480652819938626,
           -47.04343008774881
          ],
          [
           0,
           0,
           -26.480652819938626,
           -46.87635199536418
          ],
          [
           0,
           0,
           -26.480652819938626,
           -46.64801277922462
          ],
          [
           0,
           0,
           -25.47757997346855,
           -49.28770804340638
          ],
          [
           0,
           0,
           -25.47757997346855,
           -49.15976596216289
          ],
          [
           0,
           0,
           -25.47757997346855,
           -49.125787107965344
          ],
          [
           0,
           0,
           -25.47757997346855,
           -47.79677225168662
          ],
          [
           0,
           0,
           -25.47757997346855,
           -47.04343008774881
          ],
          [
           0,
           0,
           -25.47757997346855,
           -46.87635199536418
          ],
          [
           0,
           0,
           -25.47757997346855,
           -46.64801277922462
          ],
          [
           0,
           0,
           -23.650225338676957,
           -49.28770804340638
          ],
          [
           0,
           0,
           -23.650225338676957,
           -49.15976596216289
          ],
          [
           0,
           0,
           -23.650225338676957,
           -49.125787107965344
          ],
          [
           0,
           0,
           -23.650225338676957,
           -47.79677225168662
          ],
          [
           0,
           0,
           -23.650225338676957,
           -47.04343008774881
          ],
          [
           0,
           0,
           -23.650225338676957,
           -46.87635199536418
          ],
          [
           0,
           0,
           -23.650225338676957,
           -46.64801277922462
          ],
          [
           0,
           0,
           -23.50506553185676,
           -49.28770804340638
          ],
          [
           0,
           0,
           -23.50506553185676,
           -49.15976596216289
          ],
          [
           0,
           0,
           -23.50506553185676,
           -49.125787107965344
          ],
          [
           0,
           0,
           -23.50506553185676,
           -47.79677225168662
          ],
          [
           0,
           0,
           -23.50506553185676,
           -47.04343008774881
          ],
          [
           0,
           0,
           -23.50506553185676,
           -46.87635199536418
          ],
          [
           0,
           0,
           -23.50506553185676,
           -46.64801277922462
          ],
          [
           0,
           0,
           -22.883562463473083,
           -49.28770804340638
          ],
          [
           0,
           0,
           -22.883562463473083,
           -49.15976596216289
          ],
          [
           0,
           0,
           -22.883562463473083,
           -49.125787107965344
          ],
          [
           0,
           0,
           -22.883562463473083,
           -47.79677225168662
          ],
          [
           0,
           0,
           -22.883562463473083,
           -47.04343008774881
          ],
          [
           0,
           0,
           -22.883562463473083,
           -46.87635199536418
          ],
          [
           0,
           0,
           -22.883562463473083,
           -46.64801277922462
          ],
          [
           0,
           0,
           -22.25360883464175,
           -49.28770804340638
          ],
          [
           0,
           0,
           -22.25360883464175,
           -49.15976596216289
          ],
          [
           0,
           0,
           -22.25360883464175,
           -49.125787107965344
          ],
          [
           0,
           0,
           -22.25360883464175,
           -47.79677225168662
          ],
          [
           0,
           0,
           -22.25360883464175,
           -47.04343008774881
          ],
          [
           0,
           0,
           -22.25360883464175,
           -46.87635199536418
          ],
          [
           0,
           0,
           -22.25360883464175,
           -46.64801277922462
          ],
          [
           0,
           0,
           -15.780699162586895,
           -49.28770804340638
          ],
          [
           0,
           0,
           -15.780699162586895,
           -49.15976596216289
          ],
          [
           0,
           0,
           -15.780699162586895,
           -49.125787107965344
          ],
          [
           0,
           0,
           -15.780699162586895,
           -47.04343008774881
          ],
          [
           0,
           0,
           -15.780699162586895,
           -46.87635199536418
          ],
          [
           0,
           0,
           -15.780699162586895,
           -46.64801277922462
          ],
          [
           0,
           0,
           -26.480652819938626,
           -49.28770804340638
          ],
          [
           0,
           0,
           -26.480652819938626,
           -49.15976596216289
          ],
          [
           0,
           0,
           -26.480652819938626,
           -49.125787107965344
          ],
          [
           0,
           0,
           -26.480652819938626,
           -47.79677225168662
          ],
          [
           0,
           0,
           -26.480652819938626,
           -47.04343008774881
          ],
          [
           0,
           0,
           -26.480652819938626,
           -46.87635199536418
          ],
          [
           0,
           0,
           -26.480652819938626,
           -46.64801277922462
          ],
          [
           0,
           0,
           -25.47757997346855,
           -49.28770804340638
          ],
          [
           0,
           0,
           -25.47757997346855,
           -49.15976596216289
          ],
          [
           0,
           0,
           -25.47757997346855,
           -49.125787107965344
          ],
          [
           0,
           0,
           -25.47757997346855,
           -47.79677225168662
          ],
          [
           0,
           0,
           -25.47757997346855,
           -47.04343008774881
          ],
          [
           0,
           0,
           -25.47757997346855,
           -46.87635199536418
          ],
          [
           0,
           0,
           -25.47757997346855,
           -46.64801277922462
          ],
          [
           0,
           0,
           -23.650225338676957,
           -49.28770804340638
          ],
          [
           0,
           0,
           -23.650225338676957,
           -49.15976596216289
          ],
          [
           0,
           0,
           -23.650225338676957,
           -49.125787107965344
          ],
          [
           0,
           0,
           -23.650225338676957,
           -47.79677225168662
          ],
          [
           0,
           0,
           -23.650225338676957,
           -47.04343008774881
          ],
          [
           0,
           0,
           -23.650225338676957,
           -46.87635199536418
          ],
          [
           0,
           0,
           -23.650225338676957,
           -46.64801277922462
          ],
          [
           0,
           0,
           -23.50506553185676,
           -49.28770804340638
          ],
          [
           0,
           0,
           -23.50506553185676,
           -49.15976596216289
          ],
          [
           0,
           0,
           -23.50506553185676,
           -49.125787107965344
          ],
          [
           0,
           0,
           -23.50506553185676,
           -47.79677225168662
          ],
          [
           0,
           0,
           -23.50506553185676,
           -47.04343008774881
          ],
          [
           0,
           0,
           -23.50506553185676,
           -46.87635199536418
          ],
          [
           0,
           0,
           -23.50506553185676,
           -46.64801277922462
          ],
          [
           0,
           0,
           -22.883562463473083,
           -49.28770804340638
          ],
          [
           0,
           0,
           -22.883562463473083,
           -49.15976596216289
          ],
          [
           0,
           0,
           -22.883562463473083,
           -49.125787107965344
          ],
          [
           0,
           0,
           -22.883562463473083,
           -47.79677225168662
          ],
          [
           0,
           2,
           -22.883562463473083,
           -47.04343008774881
          ],
          [
           0,
           0,
           -22.883562463473083,
           -46.87635199536418
          ],
          [
           0,
           0,
           -22.883562463473083,
           -46.64801277922462
          ],
          [
           0,
           0,
           -22.25360883464175,
           -49.28770804340638
          ],
          [
           0,
           0,
           -22.25360883464175,
           -49.15976596216289
          ],
          [
           0,
           0,
           -22.25360883464175,
           -49.125787107965344
          ],
          [
           0,
           0,
           -22.25360883464175,
           -47.79677225168662
          ],
          [
           0,
           0,
           -22.25360883464175,
           -47.04343008774881
          ],
          [
           0,
           0,
           -22.25360883464175,
           -46.87635199536418
          ],
          [
           0,
           0,
           -22.25360883464175,
           -46.64801277922462
          ],
          [
           0,
           0,
           -15.780699162586895,
           -49.28770804340638
          ],
          [
           0,
           0,
           -15.780699162586895,
           -49.15976596216289
          ],
          [
           0,
           0,
           -15.780699162586895,
           -49.125787107965344
          ],
          [
           0,
           0,
           -15.780699162586895,
           -47.79677225168662
          ],
          [
           0,
           0,
           -15.780699162586895,
           -47.04343008774881
          ],
          [
           0,
           0,
           -15.780699162586895,
           -46.87635199536418
          ],
          [
           0,
           0,
           -15.780699162586895,
           -46.64801277922462
          ],
          [
           0,
           0,
           -26.480652819938626,
           -49.28770804340638
          ],
          [
           0,
           0,
           -26.480652819938626,
           -49.15976596216289
          ],
          [
           0,
           0,
           -26.480652819938626,
           -49.125787107965344
          ],
          [
           0,
           0,
           -26.480652819938626,
           -47.79677225168662
          ],
          [
           0,
           0,
           -26.480652819938626,
           -47.04343008774881
          ],
          [
           0,
           0,
           -26.480652819938626,
           -46.87635199536418
          ],
          [
           0,
           0,
           -26.480652819938626,
           -46.64801277922462
          ],
          [
           0,
           1,
           -25.47757997346855,
           -49.28770804340638
          ],
          [
           0,
           0,
           -25.47757997346855,
           -49.15976596216289
          ],
          [
           0,
           0,
           -25.47757997346855,
           -49.125787107965344
          ],
          [
           0,
           0,
           -25.47757997346855,
           -47.79677225168662
          ],
          [
           0,
           0,
           -25.47757997346855,
           -47.04343008774881
          ],
          [
           0,
           0,
           -25.47757997346855,
           -46.87635199536418
          ],
          [
           0,
           0,
           -25.47757997346855,
           -46.64801277922462
          ],
          [
           0,
           0,
           -23.650225338676957,
           -49.28770804340638
          ],
          [
           0,
           0,
           -23.650225338676957,
           -49.15976596216289
          ],
          [
           0,
           0,
           -23.650225338676957,
           -49.125787107965344
          ],
          [
           0,
           0,
           -23.650225338676957,
           -47.79677225168662
          ],
          [
           0,
           0,
           -23.650225338676957,
           -47.04343008774881
          ],
          [
           0,
           0,
           -23.650225338676957,
           -46.87635199536418
          ],
          [
           0,
           0,
           -23.650225338676957,
           -46.64801277922462
          ],
          [
           0,
           0,
           -23.50506553185676,
           -49.28770804340638
          ],
          [
           0,
           0,
           -23.50506553185676,
           -49.15976596216289
          ],
          [
           0,
           0,
           -23.50506553185676,
           -49.125787107965344
          ],
          [
           0,
           0,
           -23.50506553185676,
           -47.79677225168662
          ],
          [
           0,
           0,
           -23.50506553185676,
           -47.04343008774881
          ],
          [
           0,
           0,
           -23.50506553185676,
           -46.87635199536418
          ],
          [
           0,
           0,
           -23.50506553185676,
           -46.64801277922462
          ],
          [
           0,
           0,
           -22.883562463473083,
           -49.28770804340638
          ],
          [
           0,
           0,
           -22.883562463473083,
           -49.15976596216289
          ],
          [
           0,
           0,
           -22.883562463473083,
           -49.125787107965344
          ],
          [
           0,
           0,
           -22.883562463473083,
           -47.79677225168662
          ],
          [
           0,
           0,
           -22.883562463473083,
           -47.04343008774881
          ],
          [
           0,
           0,
           -22.883562463473083,
           -46.87635199536418
          ],
          [
           0,
           0,
           -22.883562463473083,
           -46.64801277922462
          ],
          [
           0,
           0,
           -22.25360883464175,
           -49.28770804340638
          ],
          [
           0,
           0,
           -22.25360883464175,
           -49.15976596216289
          ],
          [
           0,
           0,
           -22.25360883464175,
           -49.125787107965344
          ],
          [
           0,
           0,
           -22.25360883464175,
           -47.79677225168662
          ],
          [
           0,
           0,
           -22.25360883464175,
           -47.04343008774881
          ],
          [
           0,
           0,
           -22.25360883464175,
           -46.87635199536418
          ],
          [
           0,
           0,
           -22.25360883464175,
           -46.64801277922462
          ],
          [
           0,
           0,
           -15.780699162586895,
           -49.28770804340638
          ],
          [
           0,
           0,
           -15.780699162586895,
           -49.15976596216289
          ],
          [
           0,
           0,
           -15.780699162586895,
           -49.125787107965344
          ],
          [
           0,
           0,
           -15.780699162586895,
           -47.79677225168662
          ],
          [
           0,
           0,
           -15.780699162586895,
           -47.04343008774881
          ],
          [
           0,
           0,
           -15.780699162586895,
           -46.87635199536418
          ],
          [
           0,
           0,
           -15.780699162586895,
           -46.64801277922462
          ],
          [
           0,
           0,
           -26.480652819938626,
           -49.28770804340638
          ],
          [
           0,
           1,
           -26.480652819938626,
           -49.15976596216289
          ],
          [
           0,
           0,
           -26.480652819938626,
           -49.125787107965344
          ],
          [
           0,
           0,
           -26.480652819938626,
           -47.79677225168662
          ],
          [
           0,
           0,
           -26.480652819938626,
           -47.04343008774881
          ],
          [
           0,
           0,
           -26.480652819938626,
           -46.87635199536418
          ],
          [
           0,
           0,
           -26.480652819938626,
           -46.64801277922462
          ],
          [
           0,
           0,
           -25.47757997346855,
           -49.28770804340638
          ],
          [
           0,
           0,
           -25.47757997346855,
           -49.15976596216289
          ],
          [
           0,
           0,
           -25.47757997346855,
           -49.125787107965344
          ],
          [
           0,
           0,
           -25.47757997346855,
           -47.79677225168662
          ],
          [
           0,
           0,
           -25.47757997346855,
           -47.04343008774881
          ],
          [
           0,
           0,
           -25.47757997346855,
           -46.87635199536418
          ],
          [
           0,
           0,
           -25.47757997346855,
           -46.64801277922462
          ],
          [
           0,
           0,
           -23.650225338676957,
           -49.28770804340638
          ],
          [
           0,
           0,
           -23.650225338676957,
           -49.15976596216289
          ],
          [
           0,
           0,
           -23.650225338676957,
           -49.125787107965344
          ],
          [
           0,
           0,
           -23.650225338676957,
           -47.79677225168662
          ],
          [
           0,
           0,
           -23.650225338676957,
           -47.04343008774881
          ],
          [
           0,
           0,
           -23.650225338676957,
           -46.87635199536418
          ],
          [
           0,
           0,
           -23.650225338676957,
           -46.64801277922462
          ],
          [
           0,
           0,
           -23.50506553185676,
           -49.28770804340638
          ],
          [
           0,
           0,
           -23.50506553185676,
           -49.15976596216289
          ],
          [
           0,
           0,
           -23.50506553185676,
           -49.125787107965344
          ],
          [
           0,
           0,
           -23.50506553185676,
           -47.79677225168662
          ],
          [
           0,
           0,
           -23.50506553185676,
           -47.04343008774881
          ],
          [
           0,
           0,
           -23.50506553185676,
           -46.87635199536418
          ],
          [
           0,
           0,
           -23.50506553185676,
           -46.64801277922462
          ],
          [
           0,
           0,
           -22.883562463473083,
           -49.28770804340638
          ],
          [
           0,
           0,
           -22.883562463473083,
           -49.15976596216289
          ],
          [
           0,
           0,
           -22.883562463473083,
           -49.125787107965344
          ],
          [
           0,
           0,
           -22.883562463473083,
           -47.79677225168662
          ],
          [
           0,
           0,
           -22.883562463473083,
           -47.04343008774881
          ],
          [
           0,
           0,
           -22.883562463473083,
           -46.87635199536418
          ],
          [
           0,
           0,
           -22.883562463473083,
           -46.64801277922462
          ],
          [
           0,
           0,
           -22.25360883464175,
           -49.28770804340638
          ],
          [
           0,
           0,
           -22.25360883464175,
           -49.15976596216289
          ],
          [
           0,
           0,
           -22.25360883464175,
           -49.125787107965344
          ],
          [
           0,
           0,
           -22.25360883464175,
           -47.79677225168662
          ],
          [
           0,
           0,
           -22.25360883464175,
           -47.04343008774881
          ],
          [
           0,
           0,
           -22.25360883464175,
           -46.87635199536418
          ],
          [
           0,
           0,
           -22.25360883464175,
           -46.64801277922462
          ],
          [
           0,
           0,
           -15.780699162586895,
           -49.28770804340638
          ],
          [
           0,
           0,
           -15.780699162586895,
           -49.15976596216289
          ],
          [
           0,
           0,
           -15.780699162586895,
           -49.125787107965344
          ],
          [
           0,
           0,
           -15.780699162586895,
           -47.79677225168662
          ],
          [
           0,
           0,
           -15.780699162586895,
           -47.04343008774881
          ],
          [
           0,
           0,
           -15.780699162586895,
           -46.87635199536418
          ],
          [
           0,
           0,
           -15.780699162586895,
           -46.64801277922462
          ],
          [
           0,
           0,
           -26.480652819938626,
           -49.28770804340638
          ],
          [
           0,
           0,
           -26.480652819938626,
           -49.15976596216289
          ],
          [
           0,
           0,
           -26.480652819938626,
           -49.125787107965344
          ],
          [
           0,
           0,
           -26.480652819938626,
           -47.79677225168662
          ],
          [
           0,
           0,
           -26.480652819938626,
           -47.04343008774881
          ],
          [
           0,
           0,
           -26.480652819938626,
           -46.87635199536418
          ],
          [
           0,
           0,
           -26.480652819938626,
           -46.64801277922462
          ],
          [
           0,
           0,
           -25.47757997346855,
           -49.28770804340638
          ],
          [
           0,
           0,
           -25.47757997346855,
           -49.15976596216289
          ],
          [
           0,
           0,
           -25.47757997346855,
           -49.125787107965344
          ],
          [
           0,
           0,
           -25.47757997346855,
           -47.79677225168662
          ],
          [
           0,
           0,
           -25.47757997346855,
           -47.04343008774881
          ],
          [
           0,
           0,
           -25.47757997346855,
           -46.87635199536418
          ],
          [
           0,
           0,
           -25.47757997346855,
           -46.64801277922462
          ],
          [
           0,
           0,
           -23.650225338676957,
           -49.28770804340638
          ],
          [
           0,
           0,
           -23.650225338676957,
           -49.15976596216289
          ],
          [
           0,
           0,
           -23.650225338676957,
           -49.125787107965344
          ],
          [
           0,
           0,
           -23.650225338676957,
           -47.79677225168662
          ],
          [
           0,
           0,
           -23.650225338676957,
           -47.04343008774881
          ],
          [
           0,
           0,
           -23.650225338676957,
           -46.87635199536418
          ],
          [
           0,
           0,
           -23.50506553185676,
           -49.28770804340638
          ],
          [
           0,
           0,
           -23.50506553185676,
           -49.15976596216289
          ],
          [
           0,
           0,
           -23.50506553185676,
           -49.125787107965344
          ],
          [
           0,
           0,
           -23.50506553185676,
           -47.79677225168662
          ],
          [
           0,
           0,
           -23.50506553185676,
           -47.04343008774881
          ],
          [
           0,
           0,
           -23.50506553185676,
           -46.87635199536418
          ],
          [
           0,
           0,
           -23.50506553185676,
           -46.64801277922462
          ],
          [
           0,
           0,
           -22.883562463473083,
           -49.28770804340638
          ],
          [
           0,
           0,
           -22.883562463473083,
           -49.15976596216289
          ],
          [
           0,
           0,
           -22.883562463473083,
           -49.125787107965344
          ],
          [
           0,
           0,
           -22.883562463473083,
           -47.79677225168662
          ],
          [
           0,
           0,
           -22.883562463473083,
           -47.04343008774881
          ],
          [
           0,
           0,
           -22.883562463473083,
           -46.87635199536418
          ],
          [
           0,
           0,
           -22.883562463473083,
           -46.64801277922462
          ],
          [
           0,
           0,
           -22.25360883464175,
           -49.28770804340638
          ],
          [
           0,
           0,
           -22.25360883464175,
           -49.15976596216289
          ],
          [
           0,
           0,
           -22.25360883464175,
           -49.125787107965344
          ],
          [
           0,
           0,
           -22.25360883464175,
           -47.79677225168662
          ],
          [
           0,
           0,
           -22.25360883464175,
           -47.04343008774881
          ],
          [
           0,
           0,
           -22.25360883464175,
           -46.87635199536418
          ],
          [
           0,
           0,
           -22.25360883464175,
           -46.64801277922462
          ],
          [
           0,
           0,
           -15.780699162586895,
           -49.28770804340638
          ],
          [
           0,
           0,
           -15.780699162586895,
           -49.15976596216289
          ],
          [
           0,
           0,
           -15.780699162586895,
           -49.125787107965344
          ],
          [
           0,
           0,
           -15.780699162586895,
           -47.79677225168662
          ],
          [
           0,
           0,
           -15.780699162586895,
           -47.04343008774881
          ],
          [
           0,
           0,
           -15.780699162586895,
           -46.87635199536418
          ],
          [
           0,
           0,
           -15.780699162586895,
           -46.64801277922462
          ]
         ],
         "hovertemplate": "<b>%{hovertext}</b><br><br>cor=Não<br>size=%{marker.size}<br>Sim=%{customdata[0]}<br>Não=%{customdata[1]}<extra></extra>",
         "hovertext": [
          "BARUERI",
          "BARUERI",
          "BARUERI",
          "BARUERI",
          "BARUERI",
          "BARUERI",
          "BARUERI",
          "BARUERI",
          "BARUERI",
          "BARUERI",
          "BARUERI",
          "BARUERI",
          "BARUERI",
          "BARUERI",
          "BARUERI",
          "BARUERI",
          "BARUERI",
          "BARUERI",
          "BARUERI",
          "BARUERI",
          "BARUERI",
          "BARUERI",
          "BARUERI",
          "BARUERI",
          "BARUERI",
          "BARUERI",
          "BARUERI",
          "BARUERI",
          "BARUERI",
          "BARUERI",
          "BARUERI",
          "BARUERI",
          "BARUERI",
          "BARUERI",
          "BARUERI",
          "BARUERI",
          "BARUERI",
          "BARUERI",
          "BARUERI",
          "BARUERI",
          "BARUERI",
          "BARUERI",
          "BARUERI",
          "BARUERI",
          "BARUERI",
          "BARUERI",
          "BARUERI",
          "BARUERI",
          "BAURU",
          "BAURU",
          "BAURU",
          "BAURU",
          "BAURU",
          "BAURU",
          "BAURU",
          "BAURU",
          "BAURU",
          "BAURU",
          "BAURU",
          "BAURU",
          "BAURU",
          "BAURU",
          "BAURU",
          "BAURU",
          "BAURU",
          "BAURU",
          "BAURU",
          "BAURU",
          "BAURU",
          "BAURU",
          "BAURU",
          "BAURU",
          "BAURU",
          "BAURU",
          "BAURU",
          "BAURU",
          "BAURU",
          "BAURU",
          "BAURU",
          "BAURU",
          "BAURU",
          "BAURU",
          "BAURU",
          "BAURU",
          "BAURU",
          "BAURU",
          "BAURU",
          "BAURU",
          "BAURU",
          "BAURU",
          "BAURU",
          "BAURU",
          "BAURU",
          "BAURU",
          "BAURU",
          "BAURU",
          "BAURU",
          "BRASILIA",
          "BRASILIA",
          "BRASILIA",
          "BRASILIA",
          "BRASILIA",
          "BRASILIA",
          "BRASILIA",
          "BRASILIA",
          "BRASILIA",
          "BRASILIA",
          "BRASILIA",
          "BRASILIA",
          "BRASILIA",
          "BRASILIA",
          "BRASILIA",
          "BRASILIA",
          "BRASILIA",
          "BRASILIA",
          "BRASILIA",
          "BRASILIA",
          "BRASILIA",
          "BRASILIA",
          "BRASILIA",
          "BRASILIA",
          "BRASILIA",
          "BRASILIA",
          "BRASILIA",
          "BRASILIA",
          "BRASILIA",
          "BRASILIA",
          "BRASILIA",
          "BRASILIA",
          "BRASILIA",
          "BRASILIA",
          "BRASILIA",
          "BRASILIA",
          "BRASILIA",
          "BRASILIA",
          "BRASILIA",
          "BRASILIA",
          "BRASILIA",
          "BRASILIA",
          "BRASILIA",
          "BRASILIA",
          "BRASILIA",
          "BRASILIA",
          "BRASILIA",
          "BRASILIA",
          "CAMPINAS",
          "CAMPINAS",
          "CAMPINAS",
          "CAMPINAS",
          "CAMPINAS",
          "CAMPINAS",
          "CAMPINAS",
          "CAMPINAS",
          "CAMPINAS",
          "CAMPINAS",
          "CAMPINAS",
          "CAMPINAS",
          "CAMPINAS",
          "CAMPINAS",
          "CAMPINAS",
          "CAMPINAS",
          "CAMPINAS",
          "CAMPINAS",
          "CAMPINAS",
          "CAMPINAS",
          "CAMPINAS",
          "CAMPINAS",
          "CAMPINAS",
          "CAMPINAS",
          "CAMPINAS",
          "CAMPINAS",
          "CAMPINAS",
          "CAMPINAS",
          "CAMPINAS",
          "CAMPINAS",
          "CAMPINAS",
          "CAMPINAS",
          "CAMPINAS",
          "CAMPINAS",
          "CAMPINAS",
          "CAMPINAS",
          "CAMPINAS",
          "CAMPINAS",
          "CAMPINAS",
          "CAMPINAS",
          "CAMPINAS",
          "CAMPINAS",
          "CAMPINAS",
          "CAMPINAS",
          "CAMPINAS",
          "CAMPINAS",
          "CAMPINAS",
          "CAMPINAS",
          "CAMPINAS",
          "CURITIBA",
          "CURITIBA",
          "CURITIBA",
          "CURITIBA",
          "CURITIBA",
          "CURITIBA",
          "CURITIBA",
          "CURITIBA",
          "CURITIBA",
          "CURITIBA",
          "CURITIBA",
          "CURITIBA",
          "CURITIBA",
          "CURITIBA",
          "CURITIBA",
          "CURITIBA",
          "CURITIBA",
          "CURITIBA",
          "CURITIBA",
          "CURITIBA",
          "CURITIBA",
          "CURITIBA",
          "CURITIBA",
          "CURITIBA",
          "CURITIBA",
          "CURITIBA",
          "CURITIBA",
          "CURITIBA",
          "CURITIBA",
          "CURITIBA",
          "CURITIBA",
          "CURITIBA",
          "CURITIBA",
          "CURITIBA",
          "CURITIBA",
          "CURITIBA",
          "CURITIBA",
          "CURITIBA",
          "CURITIBA",
          "CURITIBA",
          "CURITIBA",
          "CURITIBA",
          "CURITIBA",
          "CURITIBA",
          "CURITIBA",
          "CURITIBA",
          "CURITIBA",
          "CURITIBA",
          "CURITIBA",
          "JARAGUA DO SUL",
          "JARAGUA DO SUL",
          "JARAGUA DO SUL",
          "JARAGUA DO SUL",
          "JARAGUA DO SUL",
          "JARAGUA DO SUL",
          "JARAGUA DO SUL",
          "JARAGUA DO SUL",
          "JARAGUA DO SUL",
          "JARAGUA DO SUL",
          "JARAGUA DO SUL",
          "JARAGUA DO SUL",
          "JARAGUA DO SUL",
          "JARAGUA DO SUL",
          "JARAGUA DO SUL",
          "JARAGUA DO SUL",
          "JARAGUA DO SUL",
          "JARAGUA DO SUL",
          "JARAGUA DO SUL",
          "JARAGUA DO SUL",
          "JARAGUA DO SUL",
          "JARAGUA DO SUL",
          "JARAGUA DO SUL",
          "JARAGUA DO SUL",
          "JARAGUA DO SUL",
          "JARAGUA DO SUL",
          "JARAGUA DO SUL",
          "JARAGUA DO SUL",
          "JARAGUA DO SUL",
          "JARAGUA DO SUL",
          "JARAGUA DO SUL",
          "JARAGUA DO SUL",
          "JARAGUA DO SUL",
          "JARAGUA DO SUL",
          "JARAGUA DO SUL",
          "JARAGUA DO SUL",
          "JARAGUA DO SUL",
          "JARAGUA DO SUL",
          "JARAGUA DO SUL",
          "JARAGUA DO SUL",
          "JARAGUA DO SUL",
          "JARAGUA DO SUL",
          "JARAGUA DO SUL",
          "JARAGUA DO SUL",
          "JARAGUA DO SUL",
          "JARAGUA DO SUL",
          "JARAGUA DO SUL",
          "JARAGUA DO SUL",
          "JARAGUA DO SUL",
          "SAO PAULO",
          "SAO PAULO",
          "SAO PAULO",
          "SAO PAULO",
          "SAO PAULO",
          "SAO PAULO",
          "SAO PAULO",
          "SAO PAULO",
          "SAO PAULO",
          "SAO PAULO",
          "SAO PAULO",
          "SAO PAULO",
          "SAO PAULO",
          "SAO PAULO",
          "SAO PAULO",
          "SAO PAULO",
          "SAO PAULO",
          "SAO PAULO",
          "SAO PAULO",
          "SAO PAULO",
          "SAO PAULO",
          "SAO PAULO",
          "SAO PAULO",
          "SAO PAULO",
          "SAO PAULO",
          "SAO PAULO",
          "SAO PAULO",
          "SAO PAULO",
          "SAO PAULO",
          "SAO PAULO",
          "SAO PAULO",
          "SAO PAULO",
          "SAO PAULO",
          "SAO PAULO",
          "SAO PAULO",
          "SAO PAULO",
          "SAO PAULO",
          "SAO PAULO",
          "SAO PAULO",
          "SAO PAULO",
          "SAO PAULO",
          "SAO PAULO",
          "SAO PAULO",
          "SAO PAULO",
          "SAO PAULO",
          "SAO PAULO",
          "SAO PAULO",
          "SAO PAULO"
         ],
         "lat": [
          -26.480652819938626,
          -26.480652819938626,
          -26.480652819938626,
          -26.480652819938626,
          -26.480652819938626,
          -26.480652819938626,
          -26.480652819938626,
          -25.47757997346855,
          -25.47757997346855,
          -25.47757997346855,
          -25.47757997346855,
          -25.47757997346855,
          -25.47757997346855,
          -25.47757997346855,
          -23.650225338676957,
          -23.650225338676957,
          -23.650225338676957,
          -23.650225338676957,
          -23.650225338676957,
          -23.650225338676957,
          -23.650225338676957,
          -23.50506553185676,
          -23.50506553185676,
          -23.50506553185676,
          -23.50506553185676,
          -23.50506553185676,
          -23.50506553185676,
          -22.883562463473083,
          -22.883562463473083,
          -22.883562463473083,
          -22.883562463473083,
          -22.883562463473083,
          -22.883562463473083,
          -22.883562463473083,
          -22.25360883464175,
          -22.25360883464175,
          -22.25360883464175,
          -22.25360883464175,
          -22.25360883464175,
          -22.25360883464175,
          -22.25360883464175,
          -15.780699162586895,
          -15.780699162586895,
          -15.780699162586895,
          -15.780699162586895,
          -15.780699162586895,
          -15.780699162586895,
          -15.780699162586895,
          -26.480652819938626,
          -26.480652819938626,
          -26.480652819938626,
          -26.480652819938626,
          -26.480652819938626,
          -26.480652819938626,
          -26.480652819938626,
          -25.47757997346855,
          -25.47757997346855,
          -25.47757997346855,
          -25.47757997346855,
          -25.47757997346855,
          -25.47757997346855,
          -25.47757997346855,
          -23.650225338676957,
          -23.650225338676957,
          -23.650225338676957,
          -23.650225338676957,
          -23.650225338676957,
          -23.650225338676957,
          -23.650225338676957,
          -23.50506553185676,
          -23.50506553185676,
          -23.50506553185676,
          -23.50506553185676,
          -23.50506553185676,
          -23.50506553185676,
          -23.50506553185676,
          -22.883562463473083,
          -22.883562463473083,
          -22.883562463473083,
          -22.883562463473083,
          -22.883562463473083,
          -22.883562463473083,
          -22.883562463473083,
          -22.25360883464175,
          -22.25360883464175,
          -22.25360883464175,
          -22.25360883464175,
          -22.25360883464175,
          -22.25360883464175,
          -22.25360883464175,
          -15.780699162586895,
          -15.780699162586895,
          -15.780699162586895,
          -15.780699162586895,
          -15.780699162586895,
          -15.780699162586895,
          -15.780699162586895,
          -26.480652819938626,
          -26.480652819938626,
          -26.480652819938626,
          -26.480652819938626,
          -26.480652819938626,
          -26.480652819938626,
          -26.480652819938626,
          -25.47757997346855,
          -25.47757997346855,
          -25.47757997346855,
          -25.47757997346855,
          -25.47757997346855,
          -25.47757997346855,
          -25.47757997346855,
          -23.650225338676957,
          -23.650225338676957,
          -23.650225338676957,
          -23.650225338676957,
          -23.650225338676957,
          -23.650225338676957,
          -23.650225338676957,
          -23.50506553185676,
          -23.50506553185676,
          -23.50506553185676,
          -23.50506553185676,
          -23.50506553185676,
          -23.50506553185676,
          -23.50506553185676,
          -22.883562463473083,
          -22.883562463473083,
          -22.883562463473083,
          -22.883562463473083,
          -22.883562463473083,
          -22.883562463473083,
          -22.883562463473083,
          -22.25360883464175,
          -22.25360883464175,
          -22.25360883464175,
          -22.25360883464175,
          -22.25360883464175,
          -22.25360883464175,
          -22.25360883464175,
          -15.780699162586895,
          -15.780699162586895,
          -15.780699162586895,
          -15.780699162586895,
          -15.780699162586895,
          -15.780699162586895,
          -26.480652819938626,
          -26.480652819938626,
          -26.480652819938626,
          -26.480652819938626,
          -26.480652819938626,
          -26.480652819938626,
          -26.480652819938626,
          -25.47757997346855,
          -25.47757997346855,
          -25.47757997346855,
          -25.47757997346855,
          -25.47757997346855,
          -25.47757997346855,
          -25.47757997346855,
          -23.650225338676957,
          -23.650225338676957,
          -23.650225338676957,
          -23.650225338676957,
          -23.650225338676957,
          -23.650225338676957,
          -23.650225338676957,
          -23.50506553185676,
          -23.50506553185676,
          -23.50506553185676,
          -23.50506553185676,
          -23.50506553185676,
          -23.50506553185676,
          -23.50506553185676,
          -22.883562463473083,
          -22.883562463473083,
          -22.883562463473083,
          -22.883562463473083,
          -22.883562463473083,
          -22.883562463473083,
          -22.883562463473083,
          -22.25360883464175,
          -22.25360883464175,
          -22.25360883464175,
          -22.25360883464175,
          -22.25360883464175,
          -22.25360883464175,
          -22.25360883464175,
          -15.780699162586895,
          -15.780699162586895,
          -15.780699162586895,
          -15.780699162586895,
          -15.780699162586895,
          -15.780699162586895,
          -15.780699162586895,
          -26.480652819938626,
          -26.480652819938626,
          -26.480652819938626,
          -26.480652819938626,
          -26.480652819938626,
          -26.480652819938626,
          -26.480652819938626,
          -25.47757997346855,
          -25.47757997346855,
          -25.47757997346855,
          -25.47757997346855,
          -25.47757997346855,
          -25.47757997346855,
          -25.47757997346855,
          -23.650225338676957,
          -23.650225338676957,
          -23.650225338676957,
          -23.650225338676957,
          -23.650225338676957,
          -23.650225338676957,
          -23.650225338676957,
          -23.50506553185676,
          -23.50506553185676,
          -23.50506553185676,
          -23.50506553185676,
          -23.50506553185676,
          -23.50506553185676,
          -23.50506553185676,
          -22.883562463473083,
          -22.883562463473083,
          -22.883562463473083,
          -22.883562463473083,
          -22.883562463473083,
          -22.883562463473083,
          -22.883562463473083,
          -22.25360883464175,
          -22.25360883464175,
          -22.25360883464175,
          -22.25360883464175,
          -22.25360883464175,
          -22.25360883464175,
          -22.25360883464175,
          -15.780699162586895,
          -15.780699162586895,
          -15.780699162586895,
          -15.780699162586895,
          -15.780699162586895,
          -15.780699162586895,
          -15.780699162586895,
          -26.480652819938626,
          -26.480652819938626,
          -26.480652819938626,
          -26.480652819938626,
          -26.480652819938626,
          -26.480652819938626,
          -26.480652819938626,
          -25.47757997346855,
          -25.47757997346855,
          -25.47757997346855,
          -25.47757997346855,
          -25.47757997346855,
          -25.47757997346855,
          -25.47757997346855,
          -23.650225338676957,
          -23.650225338676957,
          -23.650225338676957,
          -23.650225338676957,
          -23.650225338676957,
          -23.650225338676957,
          -23.650225338676957,
          -23.50506553185676,
          -23.50506553185676,
          -23.50506553185676,
          -23.50506553185676,
          -23.50506553185676,
          -23.50506553185676,
          -23.50506553185676,
          -22.883562463473083,
          -22.883562463473083,
          -22.883562463473083,
          -22.883562463473083,
          -22.883562463473083,
          -22.883562463473083,
          -22.883562463473083,
          -22.25360883464175,
          -22.25360883464175,
          -22.25360883464175,
          -22.25360883464175,
          -22.25360883464175,
          -22.25360883464175,
          -22.25360883464175,
          -15.780699162586895,
          -15.780699162586895,
          -15.780699162586895,
          -15.780699162586895,
          -15.780699162586895,
          -15.780699162586895,
          -15.780699162586895,
          -26.480652819938626,
          -26.480652819938626,
          -26.480652819938626,
          -26.480652819938626,
          -26.480652819938626,
          -26.480652819938626,
          -26.480652819938626,
          -25.47757997346855,
          -25.47757997346855,
          -25.47757997346855,
          -25.47757997346855,
          -25.47757997346855,
          -25.47757997346855,
          -25.47757997346855,
          -23.650225338676957,
          -23.650225338676957,
          -23.650225338676957,
          -23.650225338676957,
          -23.650225338676957,
          -23.650225338676957,
          -23.50506553185676,
          -23.50506553185676,
          -23.50506553185676,
          -23.50506553185676,
          -23.50506553185676,
          -23.50506553185676,
          -23.50506553185676,
          -22.883562463473083,
          -22.883562463473083,
          -22.883562463473083,
          -22.883562463473083,
          -22.883562463473083,
          -22.883562463473083,
          -22.883562463473083,
          -22.25360883464175,
          -22.25360883464175,
          -22.25360883464175,
          -22.25360883464175,
          -22.25360883464175,
          -22.25360883464175,
          -22.25360883464175,
          -15.780699162586895,
          -15.780699162586895,
          -15.780699162586895,
          -15.780699162586895,
          -15.780699162586895,
          -15.780699162586895,
          -15.780699162586895
         ],
         "legendgroup": "Não",
         "lon": [
          -49.28770804340638,
          -49.15976596216289,
          -49.125787107965344,
          -47.79677225168662,
          -47.04343008774881,
          -46.87635199536418,
          -46.64801277922462,
          -49.28770804340638,
          -49.15976596216289,
          -49.125787107965344,
          -47.79677225168662,
          -47.04343008774881,
          -46.87635199536418,
          -46.64801277922462,
          -49.28770804340638,
          -49.15976596216289,
          -49.125787107965344,
          -47.79677225168662,
          -47.04343008774881,
          -46.87635199536418,
          -46.64801277922462,
          -49.28770804340638,
          -49.15976596216289,
          -49.125787107965344,
          -47.79677225168662,
          -47.04343008774881,
          -46.64801277922462,
          -49.28770804340638,
          -49.15976596216289,
          -49.125787107965344,
          -47.79677225168662,
          -47.04343008774881,
          -46.87635199536418,
          -46.64801277922462,
          -49.28770804340638,
          -49.15976596216289,
          -49.125787107965344,
          -47.79677225168662,
          -47.04343008774881,
          -46.87635199536418,
          -46.64801277922462,
          -49.28770804340638,
          -49.15976596216289,
          -49.125787107965344,
          -47.79677225168662,
          -47.04343008774881,
          -46.87635199536418,
          -46.64801277922462,
          -49.28770804340638,
          -49.15976596216289,
          -49.125787107965344,
          -47.79677225168662,
          -47.04343008774881,
          -46.87635199536418,
          -46.64801277922462,
          -49.28770804340638,
          -49.15976596216289,
          -49.125787107965344,
          -47.79677225168662,
          -47.04343008774881,
          -46.87635199536418,
          -46.64801277922462,
          -49.28770804340638,
          -49.15976596216289,
          -49.125787107965344,
          -47.79677225168662,
          -47.04343008774881,
          -46.87635199536418,
          -46.64801277922462,
          -49.28770804340638,
          -49.15976596216289,
          -49.125787107965344,
          -47.79677225168662,
          -47.04343008774881,
          -46.87635199536418,
          -46.64801277922462,
          -49.28770804340638,
          -49.15976596216289,
          -49.125787107965344,
          -47.79677225168662,
          -47.04343008774881,
          -46.87635199536418,
          -46.64801277922462,
          -49.28770804340638,
          -49.15976596216289,
          -49.125787107965344,
          -47.79677225168662,
          -47.04343008774881,
          -46.87635199536418,
          -46.64801277922462,
          -49.28770804340638,
          -49.15976596216289,
          -49.125787107965344,
          -47.79677225168662,
          -47.04343008774881,
          -46.87635199536418,
          -46.64801277922462,
          -49.28770804340638,
          -49.15976596216289,
          -49.125787107965344,
          -47.79677225168662,
          -47.04343008774881,
          -46.87635199536418,
          -46.64801277922462,
          -49.28770804340638,
          -49.15976596216289,
          -49.125787107965344,
          -47.79677225168662,
          -47.04343008774881,
          -46.87635199536418,
          -46.64801277922462,
          -49.28770804340638,
          -49.15976596216289,
          -49.125787107965344,
          -47.79677225168662,
          -47.04343008774881,
          -46.87635199536418,
          -46.64801277922462,
          -49.28770804340638,
          -49.15976596216289,
          -49.125787107965344,
          -47.79677225168662,
          -47.04343008774881,
          -46.87635199536418,
          -46.64801277922462,
          -49.28770804340638,
          -49.15976596216289,
          -49.125787107965344,
          -47.79677225168662,
          -47.04343008774881,
          -46.87635199536418,
          -46.64801277922462,
          -49.28770804340638,
          -49.15976596216289,
          -49.125787107965344,
          -47.79677225168662,
          -47.04343008774881,
          -46.87635199536418,
          -46.64801277922462,
          -49.28770804340638,
          -49.15976596216289,
          -49.125787107965344,
          -47.04343008774881,
          -46.87635199536418,
          -46.64801277922462,
          -49.28770804340638,
          -49.15976596216289,
          -49.125787107965344,
          -47.79677225168662,
          -47.04343008774881,
          -46.87635199536418,
          -46.64801277922462,
          -49.28770804340638,
          -49.15976596216289,
          -49.125787107965344,
          -47.79677225168662,
          -47.04343008774881,
          -46.87635199536418,
          -46.64801277922462,
          -49.28770804340638,
          -49.15976596216289,
          -49.125787107965344,
          -47.79677225168662,
          -47.04343008774881,
          -46.87635199536418,
          -46.64801277922462,
          -49.28770804340638,
          -49.15976596216289,
          -49.125787107965344,
          -47.79677225168662,
          -47.04343008774881,
          -46.87635199536418,
          -46.64801277922462,
          -49.28770804340638,
          -49.15976596216289,
          -49.125787107965344,
          -47.79677225168662,
          -47.04343008774881,
          -46.87635199536418,
          -46.64801277922462,
          -49.28770804340638,
          -49.15976596216289,
          -49.125787107965344,
          -47.79677225168662,
          -47.04343008774881,
          -46.87635199536418,
          -46.64801277922462,
          -49.28770804340638,
          -49.15976596216289,
          -49.125787107965344,
          -47.79677225168662,
          -47.04343008774881,
          -46.87635199536418,
          -46.64801277922462,
          -49.28770804340638,
          -49.15976596216289,
          -49.125787107965344,
          -47.79677225168662,
          -47.04343008774881,
          -46.87635199536418,
          -46.64801277922462,
          -49.28770804340638,
          -49.15976596216289,
          -49.125787107965344,
          -47.79677225168662,
          -47.04343008774881,
          -46.87635199536418,
          -46.64801277922462,
          -49.28770804340638,
          -49.15976596216289,
          -49.125787107965344,
          -47.79677225168662,
          -47.04343008774881,
          -46.87635199536418,
          -46.64801277922462,
          -49.28770804340638,
          -49.15976596216289,
          -49.125787107965344,
          -47.79677225168662,
          -47.04343008774881,
          -46.87635199536418,
          -46.64801277922462,
          -49.28770804340638,
          -49.15976596216289,
          -49.125787107965344,
          -47.79677225168662,
          -47.04343008774881,
          -46.87635199536418,
          -46.64801277922462,
          -49.28770804340638,
          -49.15976596216289,
          -49.125787107965344,
          -47.79677225168662,
          -47.04343008774881,
          -46.87635199536418,
          -46.64801277922462,
          -49.28770804340638,
          -49.15976596216289,
          -49.125787107965344,
          -47.79677225168662,
          -47.04343008774881,
          -46.87635199536418,
          -46.64801277922462,
          -49.28770804340638,
          -49.15976596216289,
          -49.125787107965344,
          -47.79677225168662,
          -47.04343008774881,
          -46.87635199536418,
          -46.64801277922462,
          -49.28770804340638,
          -49.15976596216289,
          -49.125787107965344,
          -47.79677225168662,
          -47.04343008774881,
          -46.87635199536418,
          -46.64801277922462,
          -49.28770804340638,
          -49.15976596216289,
          -49.125787107965344,
          -47.79677225168662,
          -47.04343008774881,
          -46.87635199536418,
          -46.64801277922462,
          -49.28770804340638,
          -49.15976596216289,
          -49.125787107965344,
          -47.79677225168662,
          -47.04343008774881,
          -46.87635199536418,
          -46.64801277922462,
          -49.28770804340638,
          -49.15976596216289,
          -49.125787107965344,
          -47.79677225168662,
          -47.04343008774881,
          -46.87635199536418,
          -46.64801277922462,
          -49.28770804340638,
          -49.15976596216289,
          -49.125787107965344,
          -47.79677225168662,
          -47.04343008774881,
          -46.87635199536418,
          -46.64801277922462,
          -49.28770804340638,
          -49.15976596216289,
          -49.125787107965344,
          -47.79677225168662,
          -47.04343008774881,
          -46.87635199536418,
          -46.64801277922462,
          -49.28770804340638,
          -49.15976596216289,
          -49.125787107965344,
          -47.79677225168662,
          -47.04343008774881,
          -46.87635199536418,
          -46.64801277922462,
          -49.28770804340638,
          -49.15976596216289,
          -49.125787107965344,
          -47.79677225168662,
          -47.04343008774881,
          -46.87635199536418,
          -46.64801277922462,
          -49.28770804340638,
          -49.15976596216289,
          -49.125787107965344,
          -47.79677225168662,
          -47.04343008774881,
          -46.87635199536418,
          -49.28770804340638,
          -49.15976596216289,
          -49.125787107965344,
          -47.79677225168662,
          -47.04343008774881,
          -46.87635199536418,
          -46.64801277922462,
          -49.28770804340638,
          -49.15976596216289,
          -49.125787107965344,
          -47.79677225168662,
          -47.04343008774881,
          -46.87635199536418,
          -46.64801277922462,
          -49.28770804340638,
          -49.15976596216289,
          -49.125787107965344,
          -47.79677225168662,
          -47.04343008774881,
          -46.87635199536418,
          -46.64801277922462,
          -49.28770804340638,
          -49.15976596216289,
          -49.125787107965344,
          -47.79677225168662,
          -47.04343008774881,
          -46.87635199536418,
          -46.64801277922462
         ],
         "marker": {
          "color": "#ff7f0e",
          "opacity": 0.4,
          "size": [
           0,
           0,
           0,
           0,
           0,
           0,
           0,
           0,
           0,
           0,
           0,
           0,
           0,
           0,
           0,
           0,
           0,
           0,
           0,
           0,
           0,
           0,
           0,
           0,
           0,
           0,
           0,
           0,
           0,
           0,
           0,
           0,
           0,
           0,
           0,
           0,
           0,
           0,
           0,
           0,
           0,
           0,
           0,
           0,
           0,
           0,
           0,
           0,
           0,
           0,
           0,
           0,
           0,
           0,
           0,
           0,
           0,
           0,
           0,
           0,
           0,
           0,
           0,
           0,
           0,
           0,
           0,
           0,
           0,
           0,
           0,
           0,
           0,
           0,
           0,
           0,
           0,
           0,
           0,
           0,
           0,
           0,
           0,
           0,
           0,
           2,
           0,
           0,
           0,
           0,
           0,
           0,
           0,
           0,
           0,
           0,
           0,
           0,
           0,
           0,
           0,
           0,
           0,
           0,
           0,
           0,
           0,
           0,
           0,
           0,
           0,
           0,
           0,
           0,
           0,
           0,
           0,
           0,
           0,
           0,
           0,
           0,
           0,
           0,
           0,
           0,
           0,
           0,
           0,
           0,
           0,
           0,
           0,
           0,
           0,
           0,
           0,
           0,
           0,
           0,
           0,
           0,
           0,
           0,
           0,
           0,
           0,
           0,
           0,
           0,
           0,
           0,
           0,
           0,
           0,
           0,
           0,
           0,
           0,
           0,
           0,
           0,
           0,
           0,
           0,
           0,
           0,
           0,
           0,
           0,
           0,
           0,
           0,
           0,
           0,
           0,
           0,
           2,
           0,
           0,
           0,
           0,
           0,
           0,
           0,
           0,
           0,
           0,
           0,
           0,
           0,
           0,
           0,
           0,
           0,
           0,
           0,
           0,
           0,
           0,
           0,
           1,
           0,
           0,
           0,
           0,
           0,
           0,
           0,
           0,
           0,
           0,
           0,
           0,
           0,
           0,
           0,
           0,
           0,
           0,
           0,
           0,
           0,
           0,
           0,
           0,
           0,
           0,
           0,
           0,
           0,
           0,
           0,
           0,
           0,
           0,
           0,
           0,
           0,
           0,
           0,
           0,
           0,
           0,
           1,
           0,
           0,
           0,
           0,
           0,
           0,
           0,
           0,
           0,
           0,
           0,
           0,
           0,
           0,
           0,
           0,
           0,
           0,
           0,
           0,
           0,
           0,
           0,
           0,
           0,
           0,
           0,
           0,
           0,
           0,
           0,
           0,
           0,
           0,
           0,
           0,
           0,
           0,
           0,
           0,
           0,
           0,
           0,
           0,
           0,
           0,
           0,
           0,
           0,
           0,
           0,
           0,
           0,
           0,
           0,
           0,
           0,
           0,
           0,
           0,
           0,
           0,
           0,
           0,
           0,
           0,
           0,
           0,
           0,
           0,
           0,
           0,
           0,
           0,
           0,
           0,
           0,
           0,
           0,
           0,
           0,
           0,
           0,
           0,
           0,
           0,
           0,
           0,
           0,
           0,
           0,
           0,
           0,
           0,
           0
          ],
          "sizemode": "area",
          "sizeref": 0.0425
         },
         "mode": "markers",
         "name": "Não",
         "showlegend": true,
         "subplot": "mapbox",
         "type": "scattermapbox"
        },
        {
         "customdata": [
          [
           1,
           0,
           -23.50506553185676,
           -46.87635199536418
          ],
          [
           12,
           3,
           -15.780699162586895,
           -47.79677225168662
          ],
          [
           12,
           5,
           -23.650225338676957,
           -46.64801277922462
          ]
         ],
         "hovertemplate": "<b>%{hovertext}</b><br><br>cor=Sim<br>size=%{marker.size}<br>Sim=%{customdata[0]}<br>Não=%{customdata[1]}<extra></extra>",
         "hovertext": [
          "BARUERI",
          "BRASILIA",
          "SAO PAULO"
         ],
         "lat": [
          -23.50506553185676,
          -15.780699162586895,
          -23.650225338676957
         ],
         "legendgroup": "Sim",
         "lon": [
          -46.87635199536418,
          -47.79677225168662,
          -46.64801277922462
         ],
         "marker": {
          "color": "#1f77b4",
          "opacity": 0.4,
          "size": [
           1,
           15,
           17
          ],
          "sizemode": "area",
          "sizeref": 0.0425
         },
         "mode": "markers",
         "name": "Sim",
         "showlegend": true,
         "subplot": "mapbox",
         "type": "scattermapbox"
        }
       ],
       "layout": {
        "legend": {
         "itemsizing": "constant",
         "title": {
          "text": "Predominância de Empresa-Veículo"
         },
         "tracegroupgap": 0,
         "traceorder": "normal"
        },
        "mapbox": {
         "center": {
          "lat": -22.861627732091808,
          "lon": -47.99111831822269
         },
         "domain": {
          "x": [
           0,
           1
          ],
          "y": [
           0,
           1
          ]
         },
         "style": "open-street-map",
         "zoom": 4
        },
        "template": {
         "data": {
          "candlestick": [
           {
            "decreasing": {
             "line": {
              "color": "#000033"
             }
            },
            "increasing": {
             "line": {
              "color": "#000032"
             }
            },
            "type": "candlestick"
           }
          ],
          "contour": [
           {
            "colorscale": [
             [
              0,
              "#000011"
             ],
             [
              0.1111111111111111,
              "#000012"
             ],
             [
              0.2222222222222222,
              "#000013"
             ],
             [
              0.3333333333333333,
              "#000014"
             ],
             [
              0.4444444444444444,
              "#000015"
             ],
             [
              0.5555555555555556,
              "#000016"
             ],
             [
              0.6666666666666666,
              "#000017"
             ],
             [
              0.7777777777777778,
              "#000018"
             ],
             [
              0.8888888888888888,
              "#000019"
             ],
             [
              1,
              "#000020"
             ]
            ],
            "type": "contour"
           }
          ],
          "contourcarpet": [
           {
            "colorscale": [
             [
              0,
              "#000011"
             ],
             [
              0.1111111111111111,
              "#000012"
             ],
             [
              0.2222222222222222,
              "#000013"
             ],
             [
              0.3333333333333333,
              "#000014"
             ],
             [
              0.4444444444444444,
              "#000015"
             ],
             [
              0.5555555555555556,
              "#000016"
             ],
             [
              0.6666666666666666,
              "#000017"
             ],
             [
              0.7777777777777778,
              "#000018"
             ],
             [
              0.8888888888888888,
              "#000019"
             ],
             [
              1,
              "#000020"
             ]
            ],
            "type": "contourcarpet"
           }
          ],
          "heatmap": [
           {
            "colorscale": [
             [
              0,
              "#000011"
             ],
             [
              0.1111111111111111,
              "#000012"
             ],
             [
              0.2222222222222222,
              "#000013"
             ],
             [
              0.3333333333333333,
              "#000014"
             ],
             [
              0.4444444444444444,
              "#000015"
             ],
             [
              0.5555555555555556,
              "#000016"
             ],
             [
              0.6666666666666666,
              "#000017"
             ],
             [
              0.7777777777777778,
              "#000018"
             ],
             [
              0.8888888888888888,
              "#000019"
             ],
             [
              1,
              "#000020"
             ]
            ],
            "type": "heatmap"
           }
          ],
          "histogram2d": [
           {
            "colorscale": [
             [
              0,
              "#000011"
             ],
             [
              0.1111111111111111,
              "#000012"
             ],
             [
              0.2222222222222222,
              "#000013"
             ],
             [
              0.3333333333333333,
              "#000014"
             ],
             [
              0.4444444444444444,
              "#000015"
             ],
             [
              0.5555555555555556,
              "#000016"
             ],
             [
              0.6666666666666666,
              "#000017"
             ],
             [
              0.7777777777777778,
              "#000018"
             ],
             [
              0.8888888888888888,
              "#000019"
             ],
             [
              1,
              "#000020"
             ]
            ],
            "type": "histogram2d"
           }
          ],
          "icicle": [
           {
            "textfont": {
             "color": "white"
            },
            "type": "icicle"
           }
          ],
          "sankey": [
           {
            "textfont": {
             "color": "#000036"
            },
            "type": "sankey"
           }
          ],
          "scatter": [
           {
            "marker": {
             "line": {
              "width": 0
             }
            },
            "type": "scatter"
           }
          ],
          "table": [
           {
            "cells": {
             "fill": {
              "color": "#000038"
             },
             "font": {
              "color": "#000037"
             },
             "line": {
              "color": "#000039"
             }
            },
            "header": {
             "fill": {
              "color": "#000040"
             },
             "font": {
              "color": "#000036"
             },
             "line": {
              "color": "#000039"
             }
            },
            "type": "table"
           }
          ],
          "waterfall": [
           {
            "connector": {
             "line": {
              "color": "#000036",
              "width": 2
             }
            },
            "decreasing": {
             "marker": {
              "color": "#000033"
             }
            },
            "increasing": {
             "marker": {
              "color": "#000032"
             }
            },
            "totals": {
             "marker": {
              "color": "#000034"
             }
            },
            "type": "waterfall"
           }
          ]
         },
         "layout": {
          "coloraxis": {
           "colorscale": [
            [
             0,
             "#000011"
            ],
            [
             0.1111111111111111,
             "#000012"
            ],
            [
             0.2222222222222222,
             "#000013"
            ],
            [
             0.3333333333333333,
             "#000014"
            ],
            [
             0.4444444444444444,
             "#000015"
            ],
            [
             0.5555555555555556,
             "#000016"
            ],
            [
             0.6666666666666666,
             "#000017"
            ],
            [
             0.7777777777777778,
             "#000018"
            ],
            [
             0.8888888888888888,
             "#000019"
            ],
            [
             1,
             "#000020"
            ]
           ]
          },
          "colorscale": {
           "diverging": [
            [
             0,
             "#000021"
            ],
            [
             0.1,
             "#000022"
            ],
            [
             0.2,
             "#000023"
            ],
            [
             0.3,
             "#000024"
            ],
            [
             0.4,
             "#000025"
            ],
            [
             0.5,
             "#000026"
            ],
            [
             0.6,
             "#000027"
            ],
            [
             0.7,
             "#000028"
            ],
            [
             0.8,
             "#000029"
            ],
            [
             0.9,
             "#000030"
            ],
            [
             1,
             "#000031"
            ]
           ],
           "sequential": [
            [
             0,
             "#000011"
            ],
            [
             0.1111111111111111,
             "#000012"
            ],
            [
             0.2222222222222222,
             "#000013"
            ],
            [
             0.3333333333333333,
             "#000014"
            ],
            [
             0.4444444444444444,
             "#000015"
            ],
            [
             0.5555555555555556,
             "#000016"
            ],
            [
             0.6666666666666666,
             "#000017"
            ],
            [
             0.7777777777777778,
             "#000018"
            ],
            [
             0.8888888888888888,
             "#000019"
            ],
            [
             1,
             "#000020"
            ]
           ],
           "sequentialminus": [
            [
             0,
             "#000011"
            ],
            [
             0.1111111111111111,
             "#000012"
            ],
            [
             0.2222222222222222,
             "#000013"
            ],
            [
             0.3333333333333333,
             "#000014"
            ],
            [
             0.4444444444444444,
             "#000015"
            ],
            [
             0.5555555555555556,
             "#000016"
            ],
            [
             0.6666666666666666,
             "#000017"
            ],
            [
             0.7777777777777778,
             "#000018"
            ],
            [
             0.8888888888888888,
             "#000019"
            ],
            [
             1,
             "#000020"
            ]
           ]
          },
          "colorway": [
           "#000001",
           "#000002",
           "#000003",
           "#000004",
           "#000005",
           "#000006",
           "#000007",
           "#000008",
           "#000009",
           "#000010"
          ]
         }
        },
        "title": {
         "text": "Distribuição de Processos por Comarca com Menção a Empresa-Veículo"
        }
       }
      }
     },
     "metadata": {},
     "output_type": "display_data"
    }
   ],
   "source": [
    "# Convertendo aparições_comarca para numérico\n",
    "casos['aparições_comarca'] = pd.to_numeric(casos['aparições_comarca'], errors='coerce')\n",
    "\n",
    "# Removendo possíveis valores NaN após a conversão\n",
    "casos = casos.dropna(subset=['aparições_comarca'])\n",
    "\n",
    "# Convertendo colunas para string onde necessário\n",
    "casos['Contribuinte'] = casos['Contribuinte'].astype(str)\n",
    "casos['Número do Processo'] = casos['Número do Processo'].astype(str)\n",
    "casos['Status'] = casos['Status'].astype(str)\n",
    "\n",
    "# Garantindo que Empresa-Veículo só tenha valores 'Sim' ou 'Não'\n",
    "casos['Empresa-Veículo'] = casos['Empresa-Veículo'].replace({\n",
    "    None: 'Não',\n",
    "    '': 'Não'\n",
    "})\n",
    "casos['Empresa-Veículo'] = pd.Categorical(\n",
    "    casos['Empresa-Veículo'], categories=[\"Sim\", \"Não\"], ordered=True\n",
    ")\n",
    "\n",
    "# Agrupando por comarca e calculando as contagens de 'Sim' e 'Não'\n",
    "agrupado = casos.groupby(['comarca', 'latitude', 'longitude'])['Empresa-Veículo'].value_counts().unstack(fill_value=0).reset_index()\n",
    "agrupado['cor'] = agrupado.apply(lambda x: 'Sim' if x['Sim'] > x['Não'] else 'Não', axis=1)\n",
    "agrupado['size'] = agrupado['Sim'] + agrupado['Não']\n",
    "\n",
    "# Criando o scatter mapbox com a cor definida pela maior contagem entre Sim e Não\n",
    "fig = px.scatter_mapbox(\n",
    "    agrupado,\n",
    "    lat=\"latitude\",\n",
    "    lon=\"longitude\",\n",
    "    color=\"cor\",\n",
    "    size=\"size\",\n",
    "    hover_name=\"comarca\",\n",
    "    hover_data={\n",
    "        \"Sim\": True,\n",
    "        \"Não\": True,\n",
    "        \"latitude\": False,\n",
    "        \"longitude\": False\n",
    "    },\n",
    "    title=\"Distribuição de Processos por Comarca com Menção a Empresa-Veículo\",\n",
    "    mapbox_style=\"open-street-map\",\n",
    "    zoom=4,\n",
    "    opacity=0.4,  # Tornando os círculos transparentes\n",
    "    color_discrete_map={\"Sim\": \"#1f77b4\", \"Não\": \"#ff7f0e\"}  # Cores para Sim e Não\n",
    ")\n",
    "\n",
    "# Ajustando a legenda para clareza\n",
    "fig.update_layout(\n",
    "    legend_title_text=\"Predominância de Empresa-Veículo\",\n",
    "    legend=dict(\n",
    "        traceorder=\"normal\",\n",
    "        itemsizing='constant'\n",
    "    )\n",
    ")\n",
    "\n",
    "# Exibindo o mapa\n",
    "fig.show()"
   ]
  },
  {
   "cell_type": "markdown",
   "metadata": {},
   "source": [
    "## **Streamlit**"
   ]
  },
  {
   "cell_type": "code",
   "execution_count": 95,
   "metadata": {},
   "outputs": [
    {
     "name": "stderr",
     "output_type": "stream",
     "text": [
      "2024-12-19 08:46:54.174 Thread 'MainThread': missing ScriptRunContext! This warning can be ignored when running in bare mode.\n",
      "2024-12-19 08:46:54.175 Thread 'MainThread': missing ScriptRunContext! This warning can be ignored when running in bare mode.\n"
     ]
    },
    {
     "name": "stderr",
     "output_type": "stream",
     "text": [
      "2024-12-19 08:46:54.175 Thread 'MainThread': missing ScriptRunContext! This warning can be ignored when running in bare mode.\n",
      "2024-12-19 08:46:54.176 Thread 'MainThread': missing ScriptRunContext! This warning can be ignored when running in bare mode.\n",
      "2024-12-19 08:46:54.176 Thread 'MainThread': missing ScriptRunContext! This warning can be ignored when running in bare mode.\n",
      "2024-12-19 08:46:54.177 Thread 'MainThread': missing ScriptRunContext! This warning can be ignored when running in bare mode.\n",
      "2024-12-19 08:46:54.177 Thread 'MainThread': missing ScriptRunContext! This warning can be ignored when running in bare mode.\n",
      "2024-12-19 08:46:54.178 Thread 'MainThread': missing ScriptRunContext! This warning can be ignored when running in bare mode.\n",
      "2024-12-19 08:46:54.178 Thread 'MainThread': missing ScriptRunContext! This warning can be ignored when running in bare mode.\n"
     ]
    }
   ],
   "source": [
    "# Título do Aplicativo\n",
    "st.title(\"Sistema HRSA - Ágio Interno e Empresa-Veículo\")\n",
    "\n",
    "# 1. Leitura da Base\n",
    "st.header(\"1. Leitura da Base\")\n",
    "uploaded_file = st.file_uploader(\"Faça o upload do arquivo Excel com a base de dados:\")\n",
    "if uploaded_file:\n",
    "    sheet_name = st.text_input(\"Digite o nome da planilha no arquivo:\", value=\"Ágio\")\n",
    "    casos = pd.read_excel(uploaded_file, sheet_name=sheet_name)\n",
    "    st.dataframe(casos.head())\n",
    "\n",
    "    # 2. Tratamento da Base\n",
    "    st.header(\"2. Tratamento da Base\")\n",
    "    with st.spinner(\"Realizando tratamento de dados...\"):\n",
    "        # Conversões de formato datetime\n",
    "        date_columns = ['Data Liminar/Tutela', 'Sentença', 'Acórdão']\n",
    "        for col in date_columns:\n",
    "            if col in casos.columns:\n",
    "                casos[col] = pd.to_datetime(casos[col], errors='coerce')\n",
    "\n",
    "        # Tratamento de valores inconsistentes e preenchimento de nulos\n",
    "        valores_inconsistentes = [\"_\", \"N/A\", None, np.nan]\n",
    "        casos.replace(valores_inconsistentes, np.nan, inplace=True)\n",
    "        casos.fillna(\"Vazio\", inplace=True)\n",
    "\n",
    "        # Normalização de colunas\n",
    "        if 'Número do Processo' in casos.columns:\n",
    "            casos['Número do Processo'] = casos['Número do Processo'].str.replace(r'[.-]', '', regex=True)\n",
    "\n",
    "        if 'Cidade' in casos.columns:\n",
    "            casos['comarca'] = casos['Cidade'].str.replace(r' - \\w{2}$', '', regex=True)\n",
    "\n",
    "        st.success(\"Tratamento concluído!\")\n",
    "        st.dataframe(casos.head())\n",
    "\n",
    "    # 3. Feature Engineering: Duração dos Processos\n",
    "    st.header(\"3. Feature Engineering: Duração dos Processos\")\n",
    "    def extrair_ano(num_proc):\n",
    "        try:\n",
    "            ano = int(num_proc[9:13])\n",
    "            return ano if 1900 <= ano <= 2100 else np.nan\n",
    "        except (ValueError, TypeError):\n",
    "            return np.nan\n",
    "\n",
    "    if 'Número do Processo' in casos.columns:\n",
    "        casos['ano_processo'] = casos['Número do Processo'].apply(extrair_ano)\n",
    "        casos['data_presumida'] = pd.to_datetime(casos['ano_processo'], format='%Y', errors='coerce')\n",
    "\n",
    "    if 'Data Liminar/Tutela' in casos.columns:\n",
    "        casos['tempo_meses'] = (casos['Data Liminar/Tutela'] - casos['data_presumida']).dt.days / 30.44\n",
    "\n",
    "    st.write(\"Duração dos processos calculada:\")\n",
    "    st.dataframe(casos[['Número do Processo', 'data_presumida', 'Data Liminar/Tutela', 'tempo_meses']].head())\n",
    "\n",
    "    # 4. Base Externa: Novas Colunas\n",
    "    st.header(\"4. Base Externa: Novas Colunas\")\n",
    "    url_raw = \"https://raw.githubusercontent.com/tbrugz/geodata-br/master/geojson/geojs-100-mun.json\"\n",
    "    comarcas = gpd.read_file(url_raw)\n",
    "    comarcas = comarcas.rename(columns={\"name\": \"comarca\"})\n",
    "    comarcas['latitude'] = comarcas['geometry'].centroid.y\n",
    "    comarcas['longitude'] = comarcas['geometry'].centroid.x\n",
    "\n",
    "    casos['comarca'] = casos['comarca'].apply(lambda x: unidecode(x).upper() if isinstance(x, str) else x)\n",
    "    comarcas['comarca'] = comarcas['comarca'].apply(lambda x: unidecode(x).upper() if isinstance(x, str) else x)\n",
    "\n",
    "    casos = casos.merge(comarcas, on=\"comarca\", how=\"left\")\n",
    "    st.write(\"Base externa integrada:\")\n",
    "    st.dataframe(casos.head())\n",
    "\n",
    "    # 5. Análises e Visualizações\n",
    "    st.header(\"5. Análises e Visualizações\")\n",
    "\n",
    "    # Estatísticas Descritivas\n",
    "    st.subheader(\"Estatísticas Descritivas\")\n",
    "    casos_cleaned = casos.replace([\"Vazio\", \"VAZIO\"], np.nan).dropna(how=\"all\")\n",
    "\n",
    "    def replace_nan_with_vazio(df):\n",
    "        return df.fillna(\"Vazio\")\n",
    "\n",
    "    def map_categorical_to_numeric(data, column, mapping):\n",
    "        if column in data.columns:\n",
    "            data[column] = data[column].map(mapping)\n",
    "        return data\n",
    "\n",
    "    mapping = {\"Favorável\": 1, \"Parcialmente\": 0.5, \"Desfavorável\": 0}\n",
    "    casos_cleaned = map_categorical_to_numeric(casos_cleaned, \"Mérito Liminar/Tutela\", mapping)\n",
    "    casos_cleaned = map_categorical_to_numeric(casos_cleaned, \"Mérito na Sentença\", mapping)\n",
    "    casos_cleaned = map_categorical_to_numeric(casos_cleaned, \"Mérito no Acórdão\", mapping)\n",
    "\n",
    "    mapping = {\"Sim\": 1, \"Não\": 0}\n",
    "    casos_cleaned = map_categorical_to_numeric(casos_cleaned, \"Empresa-Veículo\", mapping)\n",
    "\n",
    "    # Gráficos de Barras\n",
    "    st.subheader(\"Gráficos de Barras\")\n",
    "    contribuinte_full = replace_nan_with_vazio(\n",
    "        casos_cleaned[\"Contribuinte\"].value_counts().reset_index(name=\"Frequência\").rename(columns={\"index\": \"Contribuinte\"})\n",
    "    )\n",
    "\n",
    "    top_contribuintes = contribuinte_full.sort_values(by=\"Frequência\", ascending=False)\n",
    "    fig, ax = plt.subplots()\n",
    "    ax.bar(top_contribuintes[\"Contribuinte\"], top_contribuintes[\"Frequência\"], color=\"skyblue\")\n",
    "    ax.set_title(\"Top Contribuintes\")\n",
    "    plt.xticks(rotation=45, ha=\"right\")\n",
    "    st.pyplot(fig)\n",
    "\n",
    "    natureza_full = replace_nan_with_vazio(\n",
    "        casos_cleaned[\"Natureza\"].value_counts().reset_index(name=\"Frequência\").rename(columns={\"index\": \"Natureza\"})\n",
    "    )\n",
    "\n",
    "    top_naturezas = natureza_full.sort_values(by=\"Frequência\", ascending=False)\n",
    "    fig, ax = plt.subplots()\n",
    "    ax.bar(top_naturezas[\"Natureza\"], top_naturezas[\"Frequência\"], color=\"skyblue\")\n",
    "    ax.set_title(\"Top Naturezas\")\n",
    "    plt.xticks(rotation=45, ha=\"right\")\n",
    "    st.pyplot(fig)\n",
    "\n",
    "    # Gráficos de Pizza\n",
    "    st.subheader(\"Gráficos de Pizza\")\n",
    "    for col, title in [\n",
    "        (\"Mérito Liminar/Tutela\", \"Distribuição do Mérito Liminar/Tutela\"),\n",
    "        (\"Mérito na Sentença\", \"Distribuição do Mérito na Sentença\"),\n",
    "        (\"Mérito no Acórdão\", \"Distribuição do Mérito no Acórdão\"),\n",
    "        (\"Empresa-Veículo\", \"Distribuição de Empresa-Veículo\"),\n",
    "    ]:\n",
    "        if col in casos_cleaned.columns:\n",
    "            counts = casos_cleaned[col].value_counts()\n",
    "            fig, ax = plt.subplots()\n",
    "            ax.pie(counts, labels=counts.index, autopct='%1.1f%%', startangle=140)\n",
    "            ax.set_title(title)\n",
    "            st.pyplot(fig)\n",
    "\n",
    "    # Gráfico de Linha\n",
    "    st.subheader(\"Gráfico de Linha\")\n",
    "    tempo_por_comarca = casos.groupby(\"comarca\")[\"tempo_meses\"].mean().sort_values()\n",
    "    fig, ax = plt.subplots()\n",
    "    tempo_por_comarca.plot(kind=\"line\", marker=\"o\", ax=ax, color=\"skyblue\")\n",
    "    ax.set_title(\"Tempo Médio de Processos por Comarca\")\n",
    "    plt.xticks(rotation=45, ha=\"right\")\n",
    "    st.pyplot(fig)\n",
    "\n",
    "    # Mapas Interativos\n",
    "    st.subheader(\"Mapas Interativos Scatter Mapbox\")\n",
    "    for col, title in [\n",
    "        (\"Mérito Liminar/Tutela\", \"Distribuição de Casos por Mérito Liminar/Tutela\"),\n",
    "        (\"Mérito na Sentença\", \"Distribuição de Casos por Mérito na Sentença\"),\n",
    "        (\"Mérito no Acórdão\", \"Distribuição de Casos por Mérito no Acórdão\"),\n",
    "        (\"Empresa-Veículo\", \"Distribuição de Casos por Empresa-Veículo\"),\n",
    "    ]:\n",
    "        if col in casos.columns and 'latitude' in casos.columns and 'longitude' in casos.columns:\n",
    "            fig = px.scatter_mapbox(\n",
    "                casos,\n",
    "                lat=\"latitude\",\n",
    "                lon=\"longitude\",\n",
    "                color=col,\n",
    "                size=\"aparições_comarca\" if 'aparições_comarca' in casos.columns else None,\n",
    "                hover_name=\"comarca\",\n",
    "                title=title,\n",
    "                mapbox_style=\"open-street-map\",\n",
    "                zoom=4\n",
    "            )\n",
    "            st.plotly_chart(fig)\n",
    "\n",
    "    st.success(\"Análises concluídas e apresentadas com sucesso!\")"
   ]
  },
  {
   "cell_type": "markdown",
   "metadata": {},
   "source": [
    "#### Aplicativo em Streamlit\n",
    "No momento, o app somente suporta bases com até 200 MB: https://huggingface.co/spaces/xValentim/provisionamento-deep-learning\n"
   ]
  }
 ],
 "metadata": {
  "kernelspec": {
   "display_name": "Python 3",
   "language": "python",
   "name": "python3"
  },
  "language_info": {
   "codemirror_mode": {
    "name": "ipython",
    "version": 3
   },
   "file_extension": ".py",
   "mimetype": "text/x-python",
   "name": "python",
   "nbconvert_exporter": "python",
   "pygments_lexer": "ipython3",
   "version": "3.12.2"
  }
 },
 "nbformat": 4,
 "nbformat_minor": 2
}
